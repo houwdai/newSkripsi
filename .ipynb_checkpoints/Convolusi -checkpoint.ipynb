{
 "cells": [
  {
   "cell_type": "code",
   "execution_count": 1,
   "id": "86a863f2",
   "metadata": {},
   "outputs": [],
   "source": [
    "import numpy as np\n",
    "array = [\n",
    "    [0, 50, 0, 29],\n",
    "    [0, 80, 31, 2], \n",
    "    [33, 90, 0, 75],\n",
    "    [0, 9, 0, 95]\n",
    "]\n",
    "\n",
    "kernel = [\n",
    "    [-1, 0, 1],\n",
    "    [-2, 0, 2],\n",
    "    [-1, 0, 1]\n",
    "]\n",
    "\n"
   ]
  },
  {
   "cell_type": "code",
   "execution_count": 2,
   "id": "2790e7d1",
   "metadata": {},
   "outputs": [],
   "source": [
    "arr = np.array(array)\n",
    "kernel = np.array(kernel)"
   ]
  },
  {
   "cell_type": "code",
   "execution_count": 3,
   "id": "1e0c9886",
   "metadata": {},
   "outputs": [],
   "source": [
    "w, h = arr.shape\n",
    "n=3"
   ]
  },
  {
   "cell_type": "code",
   "execution_count": 4,
   "id": "e0173433",
   "metadata": {},
   "outputs": [],
   "source": [
    "# Digunakan ketika ingin same padding \n",
    "# jadi misalnya menggunakan kernel 3 bisa di tambahin add_padng sebelum melakukan konv\n",
    "def add_padding_with_kernel_size (kernel_size) :\n",
    "    return kernel_size // 2\n",
    "\n",
    "def add_image_with_padding (img, padding):\n",
    "    img_with_padding = np.zeros(shape=(\n",
    "        img.shape[0] + padding * 2,  # Multiply with two because we need padding on all sides\n",
    "        img.shape[1] + padding * 2\n",
    "    ))\n",
    "    \n",
    "    img_with_padding[padding:-padding, padding:-padding] = img\n",
    "    \n",
    "    return img_with_padding"
   ]
  },
  {
   "cell_type": "code",
   "execution_count": 5,
   "id": "56f72836",
   "metadata": {},
   "outputs": [],
   "source": [
    "def outputShape(imgSize, kernelSize):\n",
    "    numPixcel = 0\n",
    "    for i in range(imgSize):\n",
    "        added = i + kernelSize\n",
    "        if added <= imgSize:\n",
    "            numPixcel += 1\n",
    "    return numPixcel\n",
    "# outputShape(w, n)    "
   ]
  },
  {
   "cell_type": "code",
   "execution_count": 6,
   "id": "7984370a",
   "metadata": {},
   "outputs": [],
   "source": [
    "'''Operasi Konvolusi'''\n",
    "newArr = []\n",
    "target = outputShape(w, n) \n",
    "output = np.zeros(shape=(target, target))\n",
    "for i in range(target):\n",
    "    for j in range(target):\n",
    "        mat = arr[i:i+n, j:j+n]\n",
    "        sum = np.sum(np.multiply(mat, kernel))\n",
    "        output[i,j] = sum+1\n",
    "        \n",
    "# for row in range(0, w-n, 1):\n",
    "#     for column in range(0, h-n, 1):\n",
    "#         tmp = arr[row:row+n, column:column+n]*kernel\n",
    "#         newArr.append(tmp.sum())\n",
    "\n"
   ]
  },
  {
   "cell_type": "code",
   "execution_count": 7,
   "id": "dc1a96bd",
   "metadata": {
    "scrolled": true
   },
   "outputs": [
    {
     "data": {
      "text/plain": [
       "array([[  30., -191.],\n",
       "       [ -34.,  -21.]])"
      ]
     },
     "execution_count": 7,
     "metadata": {},
     "output_type": "execute_result"
    }
   ],
   "source": [
    "output"
   ]
  },
  {
   "cell_type": "code",
   "execution_count": 8,
   "id": "9dad6075",
   "metadata": {},
   "outputs": [
    {
     "data": {
      "text/plain": [
       "array([[-0.13995675,  0.00595398,  0.29646668],\n",
       "       [ 0.00688521,  0.0417737 , -0.14540862],\n",
       "       [ 0.07249533,  0.0866764 , -0.05324065]])"
      ]
     },
     "execution_count": 8,
     "metadata": {},
     "output_type": "execute_result"
    }
   ],
   "source": [
    "test = np.random.randn(3, 3) / 9\n",
    "test"
   ]
  },
  {
   "cell_type": "code",
   "execution_count": 9,
   "id": "22f82ca1",
   "metadata": {},
   "outputs": [],
   "source": [
    "def reLu(img):\n",
    "    length_row, length_column = img.shape\n",
    "    for row in range(length_row):\n",
    "        for column in range(length_column):\n",
    "            if img[row, column] < 0:\n",
    "                img[row, column] = 0\n",
    "#     print(img.shape)\n",
    "    return img"
   ]
  },
  {
   "cell_type": "code",
   "execution_count": 10,
   "id": "c2f26569",
   "metadata": {},
   "outputs": [
    {
     "data": {
      "text/plain": [
       "array([[0.        , 0.00595398, 0.29646668],\n",
       "       [0.00688521, 0.0417737 , 0.        ],\n",
       "       [0.07249533, 0.0866764 , 0.        ]])"
      ]
     },
     "execution_count": 10,
     "metadata": {},
     "output_type": "execute_result"
    }
   ],
   "source": [
    "reLu(test)"
   ]
  },
  {
   "cell_type": "code",
   "execution_count": 14,
   "id": "1b98026b",
   "metadata": {},
   "outputs": [],
   "source": [
    "def convolusi(img= np.array, kernel= int, padding= \"\", bias=np.array):\n",
    "    if bias == \"no\" :\n",
    "        bias = 1\n",
    "    filter = np.random.randn(kernel, kernel) / 9\n",
    "    h, w = img.shape\n",
    "    if padding == \"Same\" :\n",
    "        add_padding_width = kernel//2\n",
    "        img_with_padding = np.zeros(shape = (h + add_padding_width * 2, w + add_padding_width * 2))\n",
    "        img_with_padding[add_padding_width:-add_padding_width, add_padding_width:-add_padding_width] = img\n",
    "        img = img_with_padding\n",
    "#         print(img)\n",
    "    else :\n",
    "        img = img\n",
    "        \n",
    "    target = outputShape(img.shape[0], kernel)\n",
    "    output = np.zeros(shape=(target, target))\n",
    "    for i in range(target):\n",
    "        for j in range(target):\n",
    "            mat = img[i:i+kernel, j:j+kernel]\n",
    "            sum = np.sum(np.multiply(mat, filter))\n",
    "            output[i,j] = sum+1\n",
    "#     print(output.shape)\n",
    "    return output\n"
   ]
  },
  {
   "cell_type": "code",
   "execution_count": 15,
   "id": "cf86a53b",
   "metadata": {},
   "outputs": [
    {
     "name": "stdout",
     "output_type": "stream",
     "text": [
      "[[13.33403321 13.71444542  5.56427363  2.59216982]\n",
      " [24.6549081   9.04702159 17.04831439  6.48359573]\n",
      " [19.17276461 13.94942824 11.64080525  7.27706787]\n",
      " [13.77350492 -7.77227623  1.33033382  5.78123816]]\n"
     ]
    }
   ],
   "source": [
    "conv1 = convolusi(arr, 3, \"Same\")\n",
    "print(conv1)"
   ]
  },
  {
   "cell_type": "code",
   "execution_count": 16,
   "id": "60cd002e",
   "metadata": {},
   "outputs": [],
   "source": [
    "def maxPooling(arr, stride=int, pool_size=int):\n",
    "    arr = np.array(arr)\n",
    "    print(arr)\n",
    "    w, h = arr.shape\n",
    "    new_array = []\n",
    "    output =[]\n",
    "    for i in np.arange(w, step= stride):\n",
    "        for j in np.arange(h, step = stride):\n",
    "            mat = arr[i:i+pool_size, j:j+pool_size]\n",
    "            if mat.shape == (pool_size, pool_size):\n",
    "                new_array.append(mat)\n",
    "    new_array = np.array(new_array)\n",
    "#     print(new_array)\n",
    "    output_pooling_shape = (int(np.sqrt(new_array.shape[0])), int(np.sqrt(new_array.shape[0])))\n",
    "    for pool in new_array :\n",
    "        output.append(np.max(pool))\n",
    "#     print(np.array(output).reshape(output_pooling_shape).shape)\n",
    "    return np.array(output).reshape(output_pooling_shape)\n"
   ]
  },
  {
   "cell_type": "code",
   "execution_count": 17,
   "id": "096a95fc",
   "metadata": {},
   "outputs": [],
   "source": [
    "img = np.random.randn(28,28)\n",
    "kernel = np.random.randn(3,3)\n",
    "b =1 \n",
    "kernel_size= 3"
   ]
  },
  {
   "cell_type": "code",
   "execution_count": 18,
   "id": "e3af63c5",
   "metadata": {},
   "outputs": [],
   "source": [
    "conv1 = convolusi(img, 3, \"valid\", \"no\")"
   ]
  },
  {
   "cell_type": "code",
   "execution_count": 19,
   "id": "bfa94833",
   "metadata": {},
   "outputs": [
    {
     "data": {
      "text/plain": [
       "(26, 26)"
      ]
     },
     "execution_count": 19,
     "metadata": {},
     "output_type": "execute_result"
    }
   ],
   "source": [
    "conv1.shape"
   ]
  },
  {
   "cell_type": "code",
   "execution_count": 20,
   "id": "f266aebc",
   "metadata": {},
   "outputs": [
    {
     "name": "stdout",
     "output_type": "stream",
     "text": [
      "[[1.19773128 1.03266295 1.29863234 1.00447272 0.96803519 1.1079329\n",
      "  0.78933308 1.08737844 0.78443995 0.94607191 1.15247556 0.98255305\n",
      "  0.89257659 0.96862392 0.85765332 0.98799424 0.86341353 1.04454234\n",
      "  0.92966917 0.99463612 0.76037182 0.76501665 1.06425218 0.9197403\n",
      "  1.00918149 1.13487316]\n",
      " [0.88279115 0.79477095 0.91832598 0.8024771  1.26556475 1.01941636\n",
      "  1.0753014  1.22909394 0.7574737  0.96673332 0.75063905 0.88239006\n",
      "  0.97135748 1.05457038 0.98737883 1.18709779 0.84622618 1.05557086\n",
      "  0.89353805 1.02154647 0.72783596 1.05778628 0.9267988  0.93407123\n",
      "  1.18526311 0.81439367]\n",
      " [1.09522332 1.2556014  0.84396657 0.99513355 1.28922255 0.96695164\n",
      "  0.93839223 1.29425621 1.35748422 1.20797139 0.93769937 1.22101356\n",
      "  0.88354626 0.95930104 0.89270839 1.12090814 1.06854799 1.09199893\n",
      "  1.30629156 1.25718342 0.82935233 1.16302476 1.03992267 1.12374901\n",
      "  0.96663741 0.65054054]\n",
      " [0.93194894 0.75133745 0.61835287 1.0275569  0.97895031 0.84329079\n",
      "  0.74258285 1.2934226  1.19635356 1.19036015 1.12772643 1.15286826\n",
      "  1.00028736 0.99471405 0.97713909 1.01728687 0.79678897 0.80281711\n",
      "  1.09353895 0.69483137 0.89660745 1.06297987 0.91930228 1.19216918\n",
      "  1.09830369 1.2099747 ]\n",
      " [1.12118224 1.22486397 0.93475411 0.92697074 0.82042578 0.80355269\n",
      "  0.66327467 0.85568374 0.70034933 1.01580107 1.04401653 1.01873866\n",
      "  0.90553846 0.75541023 1.16876238 1.14681236 0.78829229 1.33936849\n",
      "  1.24092776 0.92964174 1.1611007  1.08740008 0.99018435 0.82174653\n",
      "  1.01322988 1.13100873]\n",
      " [0.74566298 1.02277156 1.0158831  1.15875058 0.98199852 1.00228997\n",
      "  0.87302174 0.72673886 0.85785738 0.75360781 0.79976739 1.08697978\n",
      "  0.92489207 0.95450829 0.95491308 0.88982935 1.03784466 1.15591931\n",
      "  0.69302817 0.88412767 0.98636417 1.19580392 1.01770964 0.90766163\n",
      "  1.11015174 1.07596824]\n",
      " [1.08706807 1.05608914 1.03490932 1.11529281 1.3307916  1.1733093\n",
      "  0.87640912 1.08879293 1.06971128 1.11210924 1.13213871 1.2001613\n",
      "  1.04034407 1.29563912 0.89029496 0.99705737 1.28367027 1.33141341\n",
      "  1.18137793 0.66503535 0.72392685 1.13681083 0.99230511 1.03987548\n",
      "  1.1224751  1.13652564]\n",
      " [0.77798617 0.853701   0.80589803 1.07672913 1.19738176 1.07909698\n",
      "  0.95841961 1.24047194 0.8915955  0.94003333 0.84452634 1.11302204\n",
      "  1.07192481 1.10650724 0.77343242 0.72401878 0.71204353 1.25999397\n",
      "  1.55284891 0.95804571 0.71974667 0.95171162 0.87484308 0.89085368\n",
      "  0.48180981 0.76091073]\n",
      " [1.07355644 0.93623232 0.92026063 0.98278881 1.16649362 0.92700353\n",
      "  0.94244922 1.32613533 1.08411598 0.9587187  0.89485001 1.16100371\n",
      "  0.81685575 0.91706482 1.20874454 1.01453898 0.50158125 1.01501845\n",
      "  0.93434136 0.96498511 0.98502213 1.02158349 0.98437663 1.3009154\n",
      "  1.05127194 1.04329703]\n",
      " [1.03832709 1.20126681 0.88134227 1.11142246 1.29610087 0.67142283\n",
      "  1.09251674 1.22292129 0.90856585 0.98852902 1.01839465 0.8883787\n",
      "  0.94783487 0.99028512 0.88552134 0.87844862 1.01544294 1.42560079\n",
      "  1.07857668 1.23152484 1.08770326 1.24290528 1.20379069 1.02112234\n",
      "  0.97750654 1.03479205]\n",
      " [0.780116   0.95550852 0.6608806  1.11505114 0.9668296  0.57456467\n",
      "  1.02738028 1.04467185 0.90046345 1.28283813 1.08860243 1.27448568\n",
      "  1.26900865 1.12956046 1.0264289  0.97232453 0.65338804 0.8944475\n",
      "  0.96136392 1.10013744 0.6905906  1.01008968 1.11509513 1.17366902\n",
      "  1.20421031 0.73333644]\n",
      " [0.81446263 0.88815039 0.83338343 1.13941262 0.82100177 0.96053859\n",
      "  1.12279454 0.99596703 0.69340982 0.74349256 0.57582053 0.94921079\n",
      "  1.03077648 0.8286079  1.07624516 1.1508819  0.97482616 1.31767669\n",
      "  0.92905796 0.79288452 1.04296113 1.03829021 0.80685413 1.04357302\n",
      "  0.99887164 1.19845802]\n",
      " [1.28199176 1.20979574 0.87591093 1.05019219 0.68735013 0.83870535\n",
      "  1.32068413 1.02358057 1.1744745  0.93041315 1.22726204 1.04611871\n",
      "  1.0927796  0.8902667  1.05228135 0.52948959 0.60657238 0.99535628\n",
      "  0.95962126 0.7979381  1.08595468 0.88010199 0.89461109 0.96535249\n",
      "  0.84096478 1.00856863]\n",
      " [1.04844597 1.37302023 0.98387421 1.13481686 0.99580221 0.91815143\n",
      "  1.10829615 0.76268944 1.19251867 0.99167141 0.86831537 0.96703209\n",
      "  1.01548738 1.39356368 1.22445382 0.95228489 1.09991152 1.00620191\n",
      "  0.64693519 1.0118164  1.33719249 1.1299034  1.26893609 1.04756564\n",
      "  1.15837386 1.07823493]\n",
      " [0.76906554 1.04381649 1.03681814 1.14438231 1.00808686 1.2383101\n",
      "  0.91394839 0.95954555 0.96327575 1.09703356 0.99226381 1.08163695\n",
      "  0.70709015 1.32482386 1.33987175 1.27696064 1.18786827 1.02634044\n",
      "  1.10675246 0.78297189 0.67810524 0.99549859 1.01036624 0.88505283\n",
      "  0.87000621 0.76955431]\n",
      " [1.15883646 0.81711533 1.10479322 0.82403263 1.09228919 1.01158904\n",
      "  0.86508091 1.04331923 1.16175242 0.83966967 1.03553394 1.05307909\n",
      "  0.79157063 1.05178142 1.11639167 1.10848195 1.11396153 0.9587938\n",
      "  1.18949057 0.86221276 0.79003951 0.94205545 0.77238263 1.11290308\n",
      "  1.04383226 1.02258361]\n",
      " [1.28187643 0.98322834 1.1828529  0.69077601 1.08799266 0.88342523\n",
      "  0.99981837 0.95578212 1.10869226 0.88049969 1.06063637 0.87243372\n",
      "  0.61450974 0.86092683 0.86266013 0.97676387 0.88002934 1.0359958\n",
      "  0.99564558 0.84518361 1.18211631 1.0875897  1.06421909 0.93757356\n",
      "  0.87179363 1.09169133]\n",
      " [0.9633237  1.26960311 1.26924114 0.96914827 0.90792477 0.975518\n",
      "  0.86363923 0.90745978 0.94541653 0.95790191 1.13578401 0.92982401\n",
      "  0.99559451 1.30391223 1.06862376 1.21626829 1.04868601 1.28547589\n",
      "  1.00571099 1.07483687 1.05571088 1.20074179 1.02316615 1.01183262\n",
      "  0.98277363 0.99083313]\n",
      " [0.80527088 1.13690505 1.0222641  1.20423013 1.17033879 1.31595849\n",
      "  1.13948492 1.0111758  0.90308985 0.93949152 1.17932327 0.73461579\n",
      "  0.77300953 1.04190015 1.25769558 1.0767782  0.92706485 1.08698005\n",
      "  0.86583512 0.71583307 0.70558014 1.18525502 0.94991501 0.86251316\n",
      "  0.94586252 1.14707468]\n",
      " [1.20279151 1.04592349 0.91021832 0.77637957 1.05281469 0.99018682\n",
      "  1.2935192  0.9407593  1.09646653 0.93118465 1.23342724 0.76294756\n",
      "  0.80479692 0.86446314 0.78263751 0.83374137 0.84667041 1.02547103\n",
      "  1.08398014 1.00429707 0.91592643 0.93592216 0.82507774 0.93348224\n",
      "  0.89277447 1.01343221]\n",
      " [1.38136026 0.71632359 1.04718398 0.86663506 0.82862753 0.82177282\n",
      "  1.11585913 1.19752726 0.93716069 1.05938103 1.24159625 0.85697333\n",
      "  1.1026726  0.9696525  1.26409668 1.01187946 0.840866   0.93410994\n",
      "  1.02987993 1.17773894 1.317037   1.09982481 0.88230582 1.23461921\n",
      "  0.93749392 0.97599882]\n",
      " [1.13115713 1.06142303 1.11640579 1.03799692 1.13946283 0.99483692\n",
      "  0.82052037 0.95659301 0.84047523 1.03284567 1.01746199 0.87699584\n",
      "  1.14608811 0.72363214 1.44469319 0.82871218 1.24867875 1.05442655\n",
      "  0.80178566 0.76445715 1.10332413 0.66421971 0.92220552 1.08831333\n",
      "  1.02059204 0.83201112]\n",
      " [0.89543846 0.96395904 0.75996672 0.78141176 0.86092522 1.11272675\n",
      "  1.18351882 0.82324355 0.88032833 1.02892266 1.05926156 0.84847954\n",
      "  0.83175354 0.89108314 0.99959772 0.64265466 1.25538285 1.22078248\n",
      "  0.97395351 1.15200331 0.95007999 0.77921876 0.99552239 1.24502525\n",
      "  0.90214492 0.94689362]\n",
      " [1.04430502 1.02922231 1.09893104 0.86241754 0.91746136 1.24393658\n",
      "  0.92766836 0.78375704 0.91869956 1.03719061 0.9221362  1.255918\n",
      "  1.02226933 1.274564   0.97627277 0.77883086 1.01995222 1.15716466\n",
      "  0.79333106 1.14978092 0.80540003 1.11245442 0.95182549 1.0001551\n",
      "  0.79376701 1.24307794]\n",
      " [0.80920065 1.13887671 1.11129997 0.87431663 0.77094472 1.12293476\n",
      "  0.99712989 1.13135238 1.04919821 1.06577473 0.9734292  1.02577019\n",
      "  0.89742411 1.11115806 1.21109032 0.89095978 1.09040799 1.07478104\n",
      "  1.1372004  0.80676932 0.75090164 1.27297533 0.86262461 0.8419702\n",
      "  0.84539666 0.99467135]\n",
      " [1.04867431 1.01795123 1.01070959 1.06125134 1.13889889 0.94840654\n",
      "  0.88649213 0.94658514 1.07949936 0.88241694 0.94832075 0.89016307\n",
      "  1.07989971 1.00329357 1.02018024 0.89636897 1.22860687 0.9367386\n",
      "  1.39705857 0.89544892 1.26224791 0.91915878 0.80952402 1.00420959\n",
      "  0.89868646 1.18252021]]\n"
     ]
    },
    {
     "data": {
      "text/plain": [
       "(13, 13)"
      ]
     },
     "execution_count": 20,
     "metadata": {},
     "output_type": "execute_result"
    }
   ],
   "source": [
    "maxPooling(conv1, 2, 2).shape"
   ]
  },
  {
   "cell_type": "code",
   "execution_count": 21,
   "id": "e8f16637",
   "metadata": {},
   "outputs": [
    {
     "data": {
      "text/plain": [
       "array([[-20.81854141,   3.77070694,   8.81248987,   7.69113562],\n",
       "       [-30.8265888 ,  16.16594074,  -6.82961374,   8.01865697],\n",
       "       [-24.91994006,   8.16299966, -36.65062678,   7.65932783],\n",
       "       [ -6.36550199,   8.52612428, -34.26093434,  12.54263452]])"
      ]
     },
     "execution_count": 21,
     "metadata": {},
     "output_type": "execute_result"
    }
   ],
   "source": [
    "conv1 = convolusi(arr, 3, \"Same\", \"no\")\n",
    "conv1"
   ]
  },
  {
   "cell_type": "code",
   "execution_count": 22,
   "id": "d737e6e6",
   "metadata": {},
   "outputs": [
    {
     "name": "stdout",
     "output_type": "stream",
     "text": [
      "[[-20.81854141   3.77070694   8.81248987   7.69113562]\n",
      " [-30.8265888   16.16594074  -6.82961374   8.01865697]\n",
      " [-24.91994006   8.16299966 -36.65062678   7.65932783]\n",
      " [ -6.36550199   8.52612428 -34.26093434  12.54263452]]\n"
     ]
    },
    {
     "data": {
      "text/plain": [
       "array([[16.16594074,  8.81248987],\n",
       "       [ 8.52612428, 12.54263452]])"
      ]
     },
     "execution_count": 22,
     "metadata": {},
     "output_type": "execute_result"
    }
   ],
   "source": [
    "output = maxPooling(conv1, 2, 2)\n",
    "output\n"
   ]
  },
  {
   "cell_type": "code",
   "execution_count": 23,
   "id": "2cdfe983",
   "metadata": {},
   "outputs": [],
   "source": [
    "def flat(arr):\n",
    "    array_flattern = arr.flatten()\n",
    "#     print (array_flattern.shape)\n",
    "    return np.array(array_flattern)\n",
    "\n",
    "def hidden_layer(arr) :\n",
    "    biases = 1\n",
    "    output=[]\n",
    "    arr = np.array(arr)\n",
    "#     print(arr.shape)\n",
    "    weights = np.random.randn(20) /9\n",
    "    for i in range(weights.shape[0]) :\n",
    "        output.append(weights[i]*arr[i] )\n",
    "#     totals = np.array(output).reshape(arr.shape)\n",
    "#     print(totals)\n",
    "    return np.array(output)\n",
    "\n",
    "def softmax(totals):\n",
    "    exp = np.exp(totals)\n",
    "    output = exp / np.sum(exp, axis=0)\n",
    "#     print(output)\n",
    "    return output\n",
    "\n"
   ]
  },
  {
   "cell_type": "code",
   "execution_count": 24,
   "id": "8d9ee163",
   "metadata": {},
   "outputs": [],
   "source": [
    "flatten = np.random.rand(169)"
   ]
  },
  {
   "cell_type": "code",
   "execution_count": 25,
   "id": "973147c8",
   "metadata": {},
   "outputs": [
    {
     "data": {
      "text/plain": [
       "(20,)"
      ]
     },
     "execution_count": 25,
     "metadata": {},
     "output_type": "execute_result"
    }
   ],
   "source": [
    "hidden_layer(flatten).shape"
   ]
  },
  {
   "cell_type": "code",
   "execution_count": 26,
   "id": "6da11d52",
   "metadata": {},
   "outputs": [
    {
     "data": {
      "text/plain": [
       "(20, 169)"
      ]
     },
     "execution_count": 26,
     "metadata": {},
     "output_type": "execute_result"
    }
   ],
   "source": [
    "weightF1 = np.random.randn(20, 169) * (1-0.5) + 0.5\n",
    "weightF1.shape"
   ]
  },
  {
   "cell_type": "code",
   "execution_count": 27,
   "id": "d0d2800d",
   "metadata": {},
   "outputs": [
    {
     "data": {
      "text/plain": [
       "array([16.16594074,  8.81248987,  8.52612428, 12.54263452])"
      ]
     },
     "execution_count": 27,
     "metadata": {},
     "output_type": "execute_result"
    }
   ],
   "source": [
    "flatten = flat(output)\n",
    "flatten"
   ]
  },
  {
   "cell_type": "code",
   "execution_count": 28,
   "id": "7b022965",
   "metadata": {},
   "outputs": [
    {
     "data": {
      "text/plain": [
       "4"
      ]
     },
     "execution_count": 28,
     "metadata": {},
     "output_type": "execute_result"
    }
   ],
   "source": [
    "flatten.shape[0]"
   ]
  },
  {
   "cell_type": "code",
   "execution_count": 29,
   "id": "c7021519",
   "metadata": {},
   "outputs": [
    {
     "ename": "IndexError",
     "evalue": "index 4 is out of bounds for axis 0 with size 4",
     "output_type": "error",
     "traceback": [
      "\u001b[1;31m---------------------------------------------------------------------------\u001b[0m",
      "\u001b[1;31mIndexError\u001b[0m                                Traceback (most recent call last)",
      "Input \u001b[1;32mIn [29]\u001b[0m, in \u001b[0;36m<cell line: 1>\u001b[1;34m()\u001b[0m\n\u001b[1;32m----> 1\u001b[0m fc_1 \u001b[38;5;241m=\u001b[39m \u001b[43mhidden_layer\u001b[49m\u001b[43m(\u001b[49m\u001b[43mflatten\u001b[49m\u001b[43m)\u001b[49m\n\u001b[0;32m      2\u001b[0m softmax(fc_1)\n",
      "Input \u001b[1;32mIn [23]\u001b[0m, in \u001b[0;36mhidden_layer\u001b[1;34m(arr)\u001b[0m\n\u001b[0;32m     11\u001b[0m     weights \u001b[38;5;241m=\u001b[39m np\u001b[38;5;241m.\u001b[39mrandom\u001b[38;5;241m.\u001b[39mrandn(\u001b[38;5;241m20\u001b[39m) \u001b[38;5;241m/\u001b[39m\u001b[38;5;241m9\u001b[39m\n\u001b[0;32m     12\u001b[0m     \u001b[38;5;28;01mfor\u001b[39;00m i \u001b[38;5;129;01min\u001b[39;00m \u001b[38;5;28mrange\u001b[39m(weights\u001b[38;5;241m.\u001b[39mshape[\u001b[38;5;241m0\u001b[39m]) :\n\u001b[1;32m---> 13\u001b[0m         output\u001b[38;5;241m.\u001b[39mappend(weights[i]\u001b[38;5;241m*\u001b[39m\u001b[43marr\u001b[49m\u001b[43m[\u001b[49m\u001b[43mi\u001b[49m\u001b[43m]\u001b[49m )\n\u001b[0;32m     14\u001b[0m \u001b[38;5;66;03m#     totals = np.array(output).reshape(arr.shape)\u001b[39;00m\n\u001b[0;32m     15\u001b[0m \u001b[38;5;66;03m#     print(totals)\u001b[39;00m\n\u001b[0;32m     16\u001b[0m     \u001b[38;5;28;01mreturn\u001b[39;00m np\u001b[38;5;241m.\u001b[39marray(output)\n",
      "\u001b[1;31mIndexError\u001b[0m: index 4 is out of bounds for axis 0 with size 4"
     ]
    }
   ],
   "source": [
    "fc_1 = hidden_layer(flatten)\n",
    "softmax(fc_1)"
   ]
  },
  {
   "cell_type": "code",
   "execution_count": null,
   "id": "8d71e3a2",
   "metadata": {},
   "outputs": [],
   "source": [
    "weights = np.random.randn(arr.shape[0]) /9\n",
    "print(weights)\n",
    "print(flatten)\n",
    "\n",
    "output = []\n",
    "for i in range(weights.shape[0]) :\n",
    "    output.append(weights[i]*flatten[i] )\n",
    "print(np.array(output).reshape(flatten.shape))\n"
   ]
  },
  {
   "cell_type": "code",
   "execution_count": null,
   "id": "4c29c06b",
   "metadata": {},
   "outputs": [],
   "source": [
    "import load_gambar"
   ]
  },
  {
   "cell_type": "code",
   "execution_count": null,
   "id": "5a3d3935",
   "metadata": {},
   "outputs": [],
   "source": [
    "train_images = load_gambar.X_data_train\n",
    "train_images.shape\n",
    "train_label = np.array(load_gambar.Y_label)\n",
    "train_label.shape"
   ]
  },
  {
   "cell_type": "code",
   "execution_count": null,
   "id": "33aba313",
   "metadata": {},
   "outputs": [],
   "source": [
    "def feed_forward (image, label):\n",
    "    conv1 = convolusi(image, 3, \"no\")\n",
    "#     print(\"conv1 done\")\n",
    "    reLuu = reLu(conv1)\n",
    "#     print(\"reluu done\")\n",
    "    maxPool = maxPooling(reLuu,2,2)\n",
    "    print(\"maxpoll done\")\n",
    "    flattening = flat(maxPool)\n",
    "#     print(\"flatdone\")\n",
    "#     sofmax buat def baru dah\n",
    "    fc1 = hidden_layer(flattening)\n",
    "    out = softmax(fc1)\n",
    "    print(\"softmax done\")\n",
    "    # Calculate cross-entropy loss and accuracy. np.log() is the natural log.\n",
    "    loss = -np.log(out[label])\n",
    "    \n",
    "    gradient = np.zeros(20)\n",
    "    gradient[label] = -1 / out[label]\n",
    "    \n",
    "    \n",
    "    acc = 1 if np.argmax(out) == label else 0\n",
    "    print(acc)\n",
    "    return out, loss, acc\n",
    "    \n",
    "    \n",
    "    "
   ]
  },
  {
   "cell_type": "code",
   "execution_count": null,
   "id": "3a1262b0",
   "metadata": {},
   "outputs": [],
   "source": [
    "expl_images = train_images[0]\n",
    "expl_label = int(train_label[0])\n",
    "expl_label"
   ]
  },
  {
   "cell_type": "code",
   "execution_count": null,
   "id": "00d6690a",
   "metadata": {},
   "outputs": [],
   "source": [
    "feed_forward(expl_images, expl_label)"
   ]
  },
  {
   "cell_type": "code",
   "execution_count": null,
   "id": "20f9f135",
   "metadata": {},
   "outputs": [],
   "source": [
    "loss = 0\n",
    "num_correct = 0\n",
    "for i, (im, label) in enumerate(zip(train_images, train_label)):\n",
    "  # Do a forward pass.\n",
    "  _, l, acc = feed_forward(im, label)\n",
    "  loss += l\n",
    "  num_correct += acc\n",
    "\n",
    "  # Print stats every 100 steps.\n",
    "  if i % 100 == 99:\n",
    "    print(\n",
    "      '[Step %d] Past 100 steps: Average Loss %.3f | Accuracy: %d%%' %\n",
    "      (i + 1, loss / 100, num_correct)\n",
    "    )\n",
    "    loss = 0\n",
    "    num_correct = 0"
   ]
  },
  {
   "cell_type": "code",
   "execution_count": null,
   "id": "c2841b27",
   "metadata": {},
   "outputs": [],
   "source": [
    "import numpy as np"
   ]
  },
  {
   "cell_type": "code",
   "execution_count": null,
   "id": "943604b0",
   "metadata": {},
   "outputs": [],
   "source": [
    "'''\n",
    "1.  gradient loss -> softmax\n",
    "    cost = -np.log(output[label])\n",
    "    \n",
    "''' \n"
   ]
  },
  {
   "cell_type": "code",
   "execution_count": null,
   "id": "5202e559",
   "metadata": {},
   "outputs": [],
   "source": [
    "fc1 = np.array(\n",
    "    [-81.59171555, -78.82961058, -82.99451207, -78.87719371, -87.82847332,\n",
    " -81.44474983, -81.66183363, -82.92618867, -84.64869252, -84.34758863,\n",
    " -79.7511044,  -82.9458677,  -84.06570704, -77.99402198, -85.06419313,\n",
    " -82.63583963, -84.59170787, -83.27530124, -79.88936223, -84.28679851]\n",
    ")\n",
    "expSoftMax = np.array(\n",
    "    [0.03737097, 0.01184392, 0.05692149, 0.05303903, 0.03679387, 0.0171316,\n",
    "     0.08549397, 0.01224822, 0.05647852, 0.05272305, 0.03551716, 0.0794683,\n",
    "     0.08340098, 0.11890057, 0.04978581, 0.02286274, 0.06699416, 0.01875047,\n",
    "     0.05251638, 0.05175879])\n",
    "loss = 2.942702629948658\n",
    "label = 9\n",
    "expSoftMax"
   ]
  },
  {
   "cell_type": "code",
   "execution_count": null,
   "id": "477c2465",
   "metadata": {},
   "outputs": [],
   "source": [
    "gradient = np.zeros(20)\n",
    "\n",
    "gradient[label] = -1 / expSoftMax[label]"
   ]
  },
  {
   "cell_type": "code",
   "execution_count": null,
   "id": "28bf786b",
   "metadata": {},
   "outputs": [],
   "source": [
    "gradient"
   ]
  },
  {
   "cell_type": "code",
   "execution_count": null,
   "id": "036f351a",
   "metadata": {},
   "outputs": [],
   "source": [
    "def backprop1 (fc1, expSofmax, gradient):\n",
    "    t_exp = np.exp(fc1)\n",
    "    # Sum of all e^totals\n",
    "    S = np.sum(t_exp)\n",
    "    for i, grad in enumerate(gradient):\n",
    "        if grad == 0:\n",
    "            continue\n",
    "        \n",
    "        d_out_d_t = -t_exp[i] * t_exp / (S ** 2)\n",
    "        d_out_d_t[i] = t_exp[i] * (S - t_exp[i]) / (S ** 2)\n",
    "        d_L_d_t = grad * d_out_d_t\n",
    "    return d_L_d_t"
   ]
  },
  {
   "cell_type": "code",
   "execution_count": null,
   "id": "bd64a819",
   "metadata": {},
   "outputs": [],
   "source": [
    "backprop1 = backprop1(fc1, expSoftMax, gradient)\n",
    "backprop1"
   ]
  },
  {
   "cell_type": "code",
   "execution_count": null,
   "id": "dca094ba",
   "metadata": {},
   "outputs": [],
   "source": [
    "flattening = np.random.randn(510) / 9\n",
    "w1 = np.random.randn(20, 510) - 0.5\n",
    "b1 = 1\n",
    "print(flattening)\n",
    "print(w1.shape)\n",
    "print(b1)"
   ]
  },
  {
   "cell_type": "code",
   "execution_count": null,
   "id": "c963752b",
   "metadata": {},
   "outputs": [],
   "source": [
    "def hidden_layer(arr, weights, bias) :\n",
    "    if bias == \"no initial\" and weights == \"no initial\" :\n",
    "        bias = 1\n",
    "        weights = np.random.randn(20, arr.shape[0]) - 0.5\n",
    "        \n",
    "    output=[]\n",
    "    arr = np.array(arr)\n",
    "    totals = weights.dot(arr) + bias\n",
    "    return totals, weights, bias"
   ]
  },
  {
   "cell_type": "code",
   "execution_count": null,
   "id": "59da217c",
   "metadata": {},
   "outputs": [],
   "source": [
    "fc, w1, b1 = hidden_layer(flattening, w1, \"no initial\")"
   ]
  },
  {
   "cell_type": "code",
   "execution_count": null,
   "id": "55bdd0a0",
   "metadata": {},
   "outputs": [],
   "source": [
    "#w1, b1 itu dari fc\n",
    "def backprop2(backprop1, w1, b1, flattening, lr= 0.005):\n",
    "    d_t_d_w = flattening\n",
    "    d_t_d_b = b1\n",
    "    d_t_d_inputs = w1\n",
    "    print((d_t_d_w[np.newaxis].T).shape)\n",
    "    print((backprop1[np.newaxis]).shape)\n",
    "    d_L_d_w = d_t_d_w[np.newaxis].T @ backprop1[np.newaxis]\n",
    "    print(d_L_d_w.shape)\n",
    "    d_L_d_b = backprop1 * d_t_d_b\n",
    "    print(d_L_d_b.shape)\n",
    "    d_L_d_inputs =  backprop1 @ d_t_d_inputs\n",
    "\n",
    "      # Update weights / biases\n",
    "    w1 -= lr * d_t_d_inputs\n",
    "    b1 -= lr * d_L_d_b\n",
    "    print(\"bias\" ,b1)\n",
    "    print (b1.shape)\n",
    "    return w1, b1\n",
    "    \n",
    "    "
   ]
  },
  {
   "cell_type": "code",
   "execution_count": null,
   "id": "05795d23",
   "metadata": {
    "scrolled": true
   },
   "outputs": [],
   "source": [
    "updatew1, updateb1 = backprop2(backprop1, w1, b1, flattening, lr= 0.005)"
   ]
  },
  {
   "cell_type": "code",
   "execution_count": null,
   "id": "90491aea",
   "metadata": {},
   "outputs": [],
   "source": [
    "hidden_layer(flattening, updatew1, updateb1)"
   ]
  },
  {
   "cell_type": "code",
   "execution_count": null,
   "id": "c6f28c74",
   "metadata": {},
   "outputs": [],
   "source": []
  },
  {
   "cell_type": "code",
   "execution_count": null,
   "id": "d52e09ab",
   "metadata": {},
   "outputs": [],
   "source": [
    "def backprop3(backprop2, input_shape, )"
   ]
  },
  {
   "cell_type": "code",
   "execution_count": null,
   "id": "4b9d8f5f",
   "metadata": {},
   "outputs": [],
   "source": [
    "array_awal = np.random.rand(6,6)\n",
    "array_awal\n"
   ]
  },
  {
   "cell_type": "code",
   "execution_count": null,
   "id": "f99ad64c",
   "metadata": {},
   "outputs": [],
   "source": [
    "\n",
    "def maxPooling(arr, stride=int, pool_size=int):\n",
    "    arr = np.array(arr)\n",
    "#     print(arr)\n",
    "    w, h = arr.shape\n",
    "    new_array = []\n",
    "    output =[]\n",
    "    for i in np.arange(w, step= stride):\n",
    "        for j in np.arange(h, step = stride):\n",
    "            mat = arr[i:i+pool_size, j:j+pool_size]\n",
    "            if mat.shape == (pool_size, pool_size):\n",
    "                new_array.append(mat)\n",
    "    new_array = np.array(new_array)\n",
    "#     print(new_array)\n",
    "    output_pooling_shape = (int(np.sqrt(new_array.shape[0])), int(np.sqrt(new_array.shape[0])))\n",
    "    for pool in new_array :\n",
    "        output.append(np.max(pool))\n",
    "#     print(np.array(output).reshape(output_pooling_shape).shape)\n",
    "    return np.array(output).reshape(output_pooling_shape)\n"
   ]
  },
  {
   "cell_type": "code",
   "execution_count": null,
   "id": "9a931708",
   "metadata": {},
   "outputs": [],
   "source": [
    "flatten = maxPooling(arrays, stride=1, pool_size=2).flatten()\n",
    "print(flatten.shape)"
   ]
  },
  {
   "cell_type": "code",
   "execution_count": null,
   "id": "f175c7b3",
   "metadata": {},
   "outputs": [],
   "source": [
    "def backMaxPooling(array_awal, stride, pool_size):\n",
    "    \n",
    "    arr = np.array(array_awal)\n",
    "#     print(arr)\n",
    "    w, h = arr.shape\n",
    "    new_array = []\n",
    "    output =[]\n",
    "    for i in np.arange(w, step= stride):\n",
    "        for j in np.arange(h, step = stride):\n",
    "            mat = arr[i:i+pool_size, j:j+pool_size]\n",
    "#             print(mat)\n",
    "            if mat.shape == (pool_size, pool_size):\n",
    "                valueMax = np.max(mat)\n",
    "                for k in range(mat.shape[0]):\n",
    "                    for l in range(mat.shape[0]):\n",
    "                        if mat[k,l] != valueMax :\n",
    "                            mat[k,l] = 0\n",
    "                        elif mat[k,l] == valueMax :\n",
    "                            mat[k,l] = 1\n",
    "                        else :\n",
    "                            mat[k,l] = 0\n",
    "                            \n",
    "                        \n",
    "    return arr"
   ]
  },
  {
   "cell_type": "code",
   "execution_count": null,
   "id": "fc677968",
   "metadata": {},
   "outputs": [],
   "source": [
    "\n",
    "myarray =np.random.randn(5,5)\n",
    "print(myarray)\n",
    "\n",
    "for i in np.arange(5, step= 1):\n",
    "    for j in np.arange(5, step = 1):\n",
    "        mat = myarray[i:i+2, j:j+2]\n",
    "#     print(mat)\n",
    "        if mat.shape == (2, 2):\n",
    "            valueMax = np.max(mat)\n",
    "            for k in range(mat.shape[0]):\n",
    "                for l in range(mat.shape[0]):\n",
    "                    if mat[k,l] != valueMax :\n",
    "                        mat[k,l] = 0\n",
    "                    elif mat[k,l] == valueMax :\n",
    "                        mat[k,l] = 1\n",
    "                    else :\n",
    "                        mat[k,l] = 0\n",
    "                            \n",
    "                        \n",
    "print(myarray)\n",
    "                        "
   ]
  },
  {
   "cell_type": "code",
   "execution_count": null,
   "id": "2020b5fb",
   "metadata": {},
   "outputs": [],
   "source": [
    "backMaxPooling(array_awal, stride=1, pool_size=2)"
   ]
  },
  {
   "cell_type": "code",
   "execution_count": null,
   "id": "c9269da6",
   "metadata": {},
   "outputs": [],
   "source": [
    "massa = np.random.rand(4,4) \n",
    "print(massa)\n",
    "maxnum = np.max(massa)\n",
    "for i in range(4)  :\n",
    "    for j in range(4):\n",
    "        if massa[i,j] != maxnum :\n",
    "            massa[i,j] = 0\n",
    "            \n",
    "print(massa)"
   ]
  },
  {
   "cell_type": "code",
   "execution_count": null,
   "id": "490e4cc5",
   "metadata": {},
   "outputs": [],
   "source": [
    "# Mulai backprop di cnn\n",
    "#hasil dari backprop cnn, jika nilai nya ada ubah ke 1 dan jika 0 nol\n",
    "# anggep kita udh punya nilai z atau f(x.w)"
   ]
  },
  {
   "cell_type": "code",
   "execution_count": null,
   "id": "6fab2c47",
   "metadata": {},
   "outputs": [],
   "source": [
    "arr = np.random.rand(224, 224)\n",
    "print(arr)\n",
    "kernel = np.random.rand(3, 3)\n",
    "print (kernel)\n",
    "z = convolusi(arr, 3, \"no\")\n",
    "z.shape\n"
   ]
  },
  {
   "cell_type": "code",
   "execution_count": null,
   "id": "ccb4f56f",
   "metadata": {},
   "outputs": [],
   "source": [
    "arr = np.random.rand(28, 28)\n",
    "print(arr)\n",
    "kernel = np.random.rand(2, 2)\n",
    "print (kernel)\n",
    "z = convolusi(arr, 2, \"no\")\n",
    "z.shape\n"
   ]
  },
  {
   "cell_type": "code",
   "execution_count": null,
   "id": "13259a9d",
   "metadata": {},
   "outputs": [],
   "source": [
    "backConvolusi(z, kernel, arr)"
   ]
  },
  {
   "cell_type": "code",
   "execution_count": null,
   "id": "de7d306f",
   "metadata": {},
   "outputs": [],
   "source": [
    "# convolusi buat back convolusi dengan kernel sudah berupa array\n",
    "def convolusiBack(img= np.array, kernel= np.array, padding= \"\"):\n",
    "    kernel_size = kernel.shape[0]\n",
    "    h, w = img.shape\n",
    "    if padding == \"Same\" :\n",
    "        add_padding_width = kernel_size//2\n",
    "        img_with_padding = np.zeros(shape = (h + add_padding_width * 2, w + add_padding_width * 2))\n",
    "        img_with_padding[add_padding_width:-add_padding_width, add_padding_width:-add_padding_width] = img\n",
    "        img = img_with_padding\n",
    "#         print(img)\n",
    "    else :\n",
    "        img = img\n",
    "        \n",
    "    target = outputShape(img.shape[0], kernel_size)\n",
    "    output = np.zeros(shape=(target, target))\n",
    "    for i in range(target):\n",
    "        for j in range(target):\n",
    "            mat = img[i:i+kernel_size, j:j+kernel_size]\n",
    "            output[i,j] = np.sum(np.multiply(mat, kernel))\n",
    "#     print(output.shape)\n",
    "    return output\n"
   ]
  },
  {
   "cell_type": "code",
   "execution_count": null,
   "id": "37b466fb",
   "metadata": {},
   "outputs": [],
   "source": [
    "def backConvolusi(dz, w, inputan, lr=0.005):\n",
    "    w = np.array(w)\n",
    "    print(w.shape)\n",
    "    dz= np.array(dz)\n",
    "    print(z.shape)\n",
    "    inputan = np.array(inputan)\n",
    "    print(inputan.shape)\n",
    "    dW = convolusiBack(inputan, dz, \"no\")\n",
    "    w_rotate = np.rot90(w, 2)\n",
    "    dX = convolusiBack(dz, w_rotate, \"Same\")\n",
    "    \n",
    "    wUpdate = w - lr*dW\n",
    "    inputUpdate = inputan -lr*dX\n",
    "    print (wUpdate.shape)\n",
    "    print(inputUpdate.shape)\n",
    "    \n",
    "    return wUpdate, inputUpdate"
   ]
  },
  {
   "cell_type": "code",
   "execution_count": null,
   "id": "2870a6bb",
   "metadata": {},
   "outputs": [],
   "source": [
    "backConvolusi(z, kernel, arr)"
   ]
  },
  {
   "cell_type": "code",
   "execution_count": null,
   "id": "432f16e4",
   "metadata": {
    "scrolled": true
   },
   "outputs": [],
   "source": [
    "gfg1 = np.random.randn(10)\n",
    "gfg2 = np.random.randn(2, 10)\n",
    "\t\t\n",
    "print(gfg1)\n",
    "print(gfg2)\n",
    "# applying matrix.dot() method\n",
    "geeks = gfg2.dot(gfg1)\n",
    "\n",
    "print(geeks)"
   ]
  },
  {
   "cell_type": "code",
   "execution_count": null,
   "id": "76a2b212",
   "metadata": {},
   "outputs": [],
   "source": [
    "import numpy as np\n",
    "arrayAwal = np.random.randn(6,6)"
   ]
  },
  {
   "cell_type": "code",
   "execution_count": null,
   "id": "966830e4",
   "metadata": {},
   "outputs": [],
   "source": [
    "# inputan hasil dari relo, output buat relu juga\n",
    "def backMaxPooling(flat, array_awal, stride, pool_size):\n",
    "    \n",
    "    arr = np.array(array_awal)\n",
    "#     print(arr)\n",
    "    w, h = arr.shape\n",
    "    new_array = []\n",
    "    output =[]\n",
    "    for m in flat :\n",
    "        for i in np.arange(w, step= stride):\n",
    "            for j in np.arange(h, step = stride):\n",
    "                mat = arr[i:i+pool_size, j:j+pool_size]\n",
    "    #             print(mat)\n",
    "                if mat.shape == (pool_size, pool_size):\n",
    "                    valueMax = np.max(mat)\n",
    "                    for k in range(mat.shape[0]):\n",
    "                        for l in range(mat.shape[0]):\n",
    "                            if mat[k,l] != valueMax :\n",
    "                                mat[k,l] = 0\n",
    "                            elif mat[k,l] == valueMax :\n",
    "                                mat[k,l] = m\n",
    "                            else :\n",
    "                                mat[k,l] = 0\n",
    "\n",
    "\n",
    "    return arr"
   ]
  },
  {
   "cell_type": "code",
   "execution_count": null,
   "id": "c2b05b62",
   "metadata": {},
   "outputs": [],
   "source": [
    "print(arrayAwal)"
   ]
  },
  {
   "cell_type": "code",
   "execution_count": null,
   "id": "7129a5b3",
   "metadata": {},
   "outputs": [],
   "source": [
    "back =backMaxPooling(flatt, arrayAwal, 2, 2)\n",
    "print(back.shape)\n",
    "back"
   ]
  },
  {
   "cell_type": "code",
   "execution_count": null,
   "id": "c7ef838b",
   "metadata": {},
   "outputs": [],
   "source": [
    "flatt = np.random.randn(9)\n",
    "flatt"
   ]
  },
  {
   "cell_type": "code",
   "execution_count": null,
   "id": "48df686e",
   "metadata": {},
   "outputs": [],
   "source": [
    "for k in flatt : \n",
    "    for i in range(back.shape[0]):\n",
    "        for j in range(back.shape[0]):\n",
    "            if back[i,j] == 1 :\n",
    "                back[i,j] = k\n"
   ]
  },
  {
   "cell_type": "code",
   "execution_count": null,
   "id": "27d8aac6",
   "metadata": {},
   "outputs": [],
   "source": [
    "def maxPooling(arr, stride=int, pool_size=int):\n",
    "    arr = np.array(arr)\n",
    "#     print(arr)\n",
    "    w, h = arr.shape\n",
    "    new_array = []\n",
    "    output =[]\n",
    "    for i in np.arange(w, step= stride):\n",
    "        for j in np.arange(h, step = stride):\n",
    "            mat = arr[i:i+pool_size, j:j+pool_size]\n",
    "            if mat.shape == (pool_size, pool_size):\n",
    "                new_array.append(mat)\n",
    "    new_array = np.array(new_array)\n",
    "#     print(new_array)\n",
    "    output_pooling_shape = (int(np.sqrt(new_array.shape[0])), int(np.sqrt(new_array.shape[0])))\n",
    "    for pool in new_array :\n",
    "        output.append(np.max(pool))\n",
    "#     print(np.array(output).reshape(output_pooling_shape).shape)\n",
    "    return np.array(output).reshape(output_pooling_shape)\n"
   ]
  },
  {
   "cell_type": "code",
   "execution_count": null,
   "id": "26582551",
   "metadata": {},
   "outputs": [],
   "source": [
    "back"
   ]
  },
  {
   "cell_type": "code",
   "execution_count": null,
   "id": "4d7b9440",
   "metadata": {},
   "outputs": [],
   "source": [
    "maxPooling(arrayAwal, stride=2, pool_size=2)"
   ]
  },
  {
   "cell_type": "code",
   "execution_count": null,
   "id": "b9dcd3b0",
   "metadata": {},
   "outputs": [],
   "source": [
    "flattten = np.random.randn(20)\n",
    "flatten\n"
   ]
  },
  {
   "cell_type": "code",
   "execution_count": null,
   "id": "c1c9ef80",
   "metadata": {},
   "outputs": [],
   "source": [
    "weigth = np.random.randn(20)\n",
    "weigth"
   ]
  },
  {
   "cell_type": "code",
   "execution_count": null,
   "id": "afa59726",
   "metadata": {},
   "outputs": [],
   "source": [
    "withat = flattten[np.newaxis].T  @weigth[np.newaxis]\n",
    "withat"
   ]
  },
  {
   "cell_type": "code",
   "execution_count": null,
   "id": "8ef0572d",
   "metadata": {},
   "outputs": [],
   "source": [
    "withmatmul = np.matmul(flattten[np.newaxis].T,weigth[np.newaxis] )\n",
    "withmatmul"
   ]
  },
  {
   "cell_type": "code",
   "execution_count": null,
   "id": "d9fa629c",
   "metadata": {
    "scrolled": true
   },
   "outputs": [],
   "source": [
    "withmatmul.shape"
   ]
  },
  {
   "cell_type": "code",
   "execution_count": null,
   "id": "d6a38bd9",
   "metadata": {},
   "outputs": [],
   "source": [
    "weight= np.random.randn(50, 169) - 0.5"
   ]
  },
  {
   "cell_type": "code",
   "execution_count": null,
   "id": "f564359d",
   "metadata": {
    "scrolled": false
   },
   "outputs": [],
   "source": [
    "weight.shape"
   ]
  },
  {
   "cell_type": "code",
   "execution_count": null,
   "id": "564847e1",
   "metadata": {},
   "outputs": [],
   "source": [
    "flatten = np.random.randn(169)"
   ]
  },
  {
   "cell_type": "code",
   "execution_count": null,
   "id": "ec3e925a",
   "metadata": {},
   "outputs": [],
   "source": [
    "weight.dot(flatten)"
   ]
  },
  {
   "cell_type": "code",
   "execution_count": null,
   "id": "46ddaf40",
   "metadata": {},
   "outputs": [],
   "source": []
  }
 ],
 "metadata": {
  "kernelspec": {
   "display_name": "Python 3 (ipykernel)",
   "language": "python",
   "name": "python3"
  },
  "language_info": {
   "codemirror_mode": {
    "name": "ipython",
    "version": 3
   },
   "file_extension": ".py",
   "mimetype": "text/x-python",
   "name": "python",
   "nbconvert_exporter": "python",
   "pygments_lexer": "ipython3",
   "version": "3.10.6"
  }
 },
 "nbformat": 4,
 "nbformat_minor": 5
}
