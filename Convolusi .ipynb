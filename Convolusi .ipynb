{
 "cells": [
  {
   "cell_type": "code",
   "execution_count": 1,
   "id": "86a863f2",
   "metadata": {},
   "outputs": [],
   "source": [
    "import numpy as np\n",
    "array = [\n",
    "    [0, 50, 0, 29],\n",
    "    [0, 80, 31, 2], \n",
    "    [33, 90, 0, 75],\n",
    "    [0, 9, 0, 95]\n",
    "]\n",
    "\n",
    "kernel = [\n",
    "    [-1, 0, 1],\n",
    "    [-2, 0, 2],\n",
    "    [-1, 0, 1]\n",
    "]\n",
    "\n"
   ]
  },
  {
   "cell_type": "code",
   "execution_count": 2,
   "id": "2790e7d1",
   "metadata": {},
   "outputs": [],
   "source": [
    "arr = np.array(array)\n",
    "kernel = np.array(kernel)"
   ]
  },
  {
   "cell_type": "code",
   "execution_count": 3,
   "id": "1e0c9886",
   "metadata": {},
   "outputs": [],
   "source": [
    "w, h = arr.shape\n",
    "n=3"
   ]
  },
  {
   "cell_type": "code",
   "execution_count": 4,
   "id": "e0173433",
   "metadata": {},
   "outputs": [],
   "source": [
    "# Digunakan ketika ingin same padding \n",
    "# jadi misalnya menggunakan kernel 3 bisa di tambahin add_padng sebelum melakukan konv\n",
    "def add_padding_with_kernel_size (kernel_size) :\n",
    "    return kernel_size // 2\n",
    "\n",
    "def add_image_with_padding (img, padding):\n",
    "    img_with_padding = np.zeros(shape=(\n",
    "        img.shape[0] + padding * 2,  # Multiply with two because we need padding on all sides\n",
    "        img.shape[1] + padding * 2\n",
    "    ))\n",
    "    \n",
    "    img_with_padding[padding:-padding, padding:-padding] = img\n",
    "    \n",
    "    return img_with_padding"
   ]
  },
  {
   "cell_type": "code",
   "execution_count": 5,
   "id": "56f72836",
   "metadata": {},
   "outputs": [],
   "source": [
    "def outputShape(imgSize, kernelSize):\n",
    "    numPixcel = 0\n",
    "    for i in range(imgSize):\n",
    "        added = i + kernelSize\n",
    "        if added <= imgSize:\n",
    "            numPixcel += 1\n",
    "    return numPixcel\n",
    "# outputShape(w, n)    "
   ]
  },
  {
   "cell_type": "code",
   "execution_count": 6,
   "id": "7984370a",
   "metadata": {},
   "outputs": [],
   "source": [
    "'''Operasi Konvolusi'''\n",
    "newArr = []\n",
    "target = outputShape(w, n) \n",
    "output = np.zeros(shape=(target, target))\n",
    "for i in range(target):\n",
    "    for j in range(target):\n",
    "        mat = arr[i:i+n, j:j+n]\n",
    "        sum = np.sum(np.multiply(mat, kernel))\n",
    "        output[i,j] = sum+1\n",
    "        \n",
    "# for row in range(0, w-n, 1):\n",
    "#     for column in range(0, h-n, 1):\n",
    "#         tmp = arr[row:row+n, column:column+n]*kernel\n",
    "#         newArr.append(tmp.sum())\n",
    "\n"
   ]
  },
  {
   "cell_type": "code",
   "execution_count": 7,
   "id": "dc1a96bd",
   "metadata": {
    "scrolled": true
   },
   "outputs": [
    {
     "data": {
      "text/plain": [
       "array([[  30., -191.],\n",
       "       [ -34.,  -21.]])"
      ]
     },
     "execution_count": 7,
     "metadata": {},
     "output_type": "execute_result"
    }
   ],
   "source": [
    "output"
   ]
  },
  {
   "cell_type": "code",
   "execution_count": 8,
   "id": "9dad6075",
   "metadata": {},
   "outputs": [
    {
     "data": {
      "text/plain": [
       "array([[-0.13995675,  0.00595398,  0.29646668],\n",
       "       [ 0.00688521,  0.0417737 , -0.14540862],\n",
       "       [ 0.07249533,  0.0866764 , -0.05324065]])"
      ]
     },
     "execution_count": 8,
     "metadata": {},
     "output_type": "execute_result"
    }
   ],
   "source": [
    "test = np.random.randn(3, 3) / 9\n",
    "test"
   ]
  },
  {
   "cell_type": "code",
   "execution_count": 9,
   "id": "22f82ca1",
   "metadata": {},
   "outputs": [],
   "source": [
    "def reLu(img):\n",
    "    length_row, length_column = img.shape\n",
    "    for row in range(length_row):\n",
    "        for column in range(length_column):\n",
    "            if img[row, column] < 0:\n",
    "                img[row, column] = 0\n",
    "#     print(img.shape)\n",
    "    return img"
   ]
  },
  {
   "cell_type": "code",
   "execution_count": 10,
   "id": "c2f26569",
   "metadata": {},
   "outputs": [
    {
     "data": {
      "text/plain": [
       "array([[0.        , 0.00595398, 0.29646668],\n",
       "       [0.00688521, 0.0417737 , 0.        ],\n",
       "       [0.07249533, 0.0866764 , 0.        ]])"
      ]
     },
     "execution_count": 10,
     "metadata": {},
     "output_type": "execute_result"
    }
   ],
   "source": [
    "reLu(test)"
   ]
  },
  {
   "cell_type": "code",
   "execution_count": 14,
   "id": "a83805c4",
   "metadata": {},
   "outputs": [],
   "source": [
    "def convolusi(img= np.array, kernel= int, padding= \"\", bias=np.array):\n",
    "    if bias == \"no\" :\n",
    "        bias = 1\n",
    "    filter = np.random.randn(kernel, kernel) / 9\n",
    "    h, w = img.shape\n",
    "    if padding == \"Same\" :\n",
    "        add_padding_width = kernel//2\n",
    "        img_with_padding = np.zeros(shape = (h + add_padding_width * 2, w + add_padding_width * 2))\n",
    "        img_with_padding[add_padding_width:-add_padding_width, add_padding_width:-add_padding_width] = img\n",
    "        img = img_with_padding\n",
    "#         print(img)\n",
    "    else :\n",
    "        img = img\n",
    "        \n",
    "    target = outputShape(img.shape[0], kernel)\n",
    "    output = np.zeros(shape=(target, target))\n",
    "    for i in range(target):\n",
    "        for j in range(target):\n",
    "            mat = img[i:i+kernel, j:j+kernel]\n",
    "            sum = np.sum(np.multiply(mat, filter))\n",
    "            output[i,j] = sum+1\n",
    "#     print(output.shape)\n",
    "    return output\n"
   ]
  },
  {
   "cell_type": "code",
   "execution_count": 15,
   "id": "cf86a53b",
   "metadata": {},
   "outputs": [
    {
     "name": "stdout",
     "output_type": "stream",
     "text": [
      "[[13.33403321 13.71444542  5.56427363  2.59216982]\n",
      " [24.6549081   9.04702159 17.04831439  6.48359573]\n",
      " [19.17276461 13.94942824 11.64080525  7.27706787]\n",
      " [13.77350492 -7.77227623  1.33033382  5.78123816]]\n"
     ]
    }
   ],
   "source": [
    "conv1 = convolusi(arr, 3, \"Same\")\n",
    "print(conv1)"
   ]
  },
  {
   "cell_type": "code",
   "execution_count": 16,
   "id": "60cd002e",
   "metadata": {},
   "outputs": [],
   "source": [
    "def maxPooling(arr, stride=int, pool_size=int):\n",
    "    arr = np.array(arr)\n",
    "    print(arr)\n",
    "    w, h = arr.shape\n",
    "    new_array = []\n",
    "    output =[]\n",
    "    for i in np.arange(w, step= stride):\n",
    "        for j in np.arange(h, step = stride):\n",
    "            mat = arr[i:i+pool_size, j:j+pool_size]\n",
    "            if mat.shape == (pool_size, pool_size):\n",
    "                new_array.append(mat)\n",
    "    new_array = np.array(new_array)\n",
    "#     print(new_array)\n",
    "    output_pooling_shape = (int(np.sqrt(new_array.shape[0])), int(np.sqrt(new_array.shape[0])))\n",
    "    for pool in new_array :\n",
    "        output.append(np.max(pool))\n",
    "#     print(np.array(output).reshape(output_pooling_shape).shape)\n",
    "    return np.array(output).reshape(output_pooling_shape)\n"
   ]
  },
  {
   "cell_type": "code",
   "execution_count": 17,
   "id": "096a95fc",
   "metadata": {},
   "outputs": [],
   "source": [
    "img = np.random.randn(28,28)\n",
    "kernel = np.random.randn(3,3)\n",
    "b =1 \n",
    "kernel_size= 3"
   ]
  },
  {
   "cell_type": "code",
   "execution_count": 18,
   "id": "e3af63c5",
   "metadata": {},
   "outputs": [],
   "source": [
    "conv1 = convolusi(img, 3, \"valid\", \"no\")"
   ]
  },
  {
   "cell_type": "code",
   "execution_count": 19,
   "id": "bfa94833",
   "metadata": {},
   "outputs": [
    {
     "data": {
      "text/plain": [
       "(26, 26)"
      ]
     },
     "execution_count": 19,
     "metadata": {},
     "output_type": "execute_result"
    }
   ],
   "source": [
    "conv1.shape"
   ]
  },
  {
   "cell_type": "code",
   "execution_count": 20,
   "id": "f266aebc",
   "metadata": {},
   "outputs": [
    {
     "name": "stdout",
     "output_type": "stream",
     "text": [
      "[[1.19773128 1.03266295 1.29863234 1.00447272 0.96803519 1.1079329\n",
      "  0.78933308 1.08737844 0.78443995 0.94607191 1.15247556 0.98255305\n",
      "  0.89257659 0.96862392 0.85765332 0.98799424 0.86341353 1.04454234\n",
      "  0.92966917 0.99463612 0.76037182 0.76501665 1.06425218 0.9197403\n",
      "  1.00918149 1.13487316]\n",
      " [0.88279115 0.79477095 0.91832598 0.8024771  1.26556475 1.01941636\n",
      "  1.0753014  1.22909394 0.7574737  0.96673332 0.75063905 0.88239006\n",
      "  0.97135748 1.05457038 0.98737883 1.18709779 0.84622618 1.05557086\n",
      "  0.89353805 1.02154647 0.72783596 1.05778628 0.9267988  0.93407123\n",
      "  1.18526311 0.81439367]\n",
      " [1.09522332 1.2556014  0.84396657 0.99513355 1.28922255 0.96695164\n",
      "  0.93839223 1.29425621 1.35748422 1.20797139 0.93769937 1.22101356\n",
      "  0.88354626 0.95930104 0.89270839 1.12090814 1.06854799 1.09199893\n",
      "  1.30629156 1.25718342 0.82935233 1.16302476 1.03992267 1.12374901\n",
      "  0.96663741 0.65054054]\n",
      " [0.93194894 0.75133745 0.61835287 1.0275569  0.97895031 0.84329079\n",
      "  0.74258285 1.2934226  1.19635356 1.19036015 1.12772643 1.15286826\n",
      "  1.00028736 0.99471405 0.97713909 1.01728687 0.79678897 0.80281711\n",
      "  1.09353895 0.69483137 0.89660745 1.06297987 0.91930228 1.19216918\n",
      "  1.09830369 1.2099747 ]\n",
      " [1.12118224 1.22486397 0.93475411 0.92697074 0.82042578 0.80355269\n",
      "  0.66327467 0.85568374 0.70034933 1.01580107 1.04401653 1.01873866\n",
      "  0.90553846 0.75541023 1.16876238 1.14681236 0.78829229 1.33936849\n",
      "  1.24092776 0.92964174 1.1611007  1.08740008 0.99018435 0.82174653\n",
      "  1.01322988 1.13100873]\n",
      " [0.74566298 1.02277156 1.0158831  1.15875058 0.98199852 1.00228997\n",
      "  0.87302174 0.72673886 0.85785738 0.75360781 0.79976739 1.08697978\n",
      "  0.92489207 0.95450829 0.95491308 0.88982935 1.03784466 1.15591931\n",
      "  0.69302817 0.88412767 0.98636417 1.19580392 1.01770964 0.90766163\n",
      "  1.11015174 1.07596824]\n",
      " [1.08706807 1.05608914 1.03490932 1.11529281 1.3307916  1.1733093\n",
      "  0.87640912 1.08879293 1.06971128 1.11210924 1.13213871 1.2001613\n",
      "  1.04034407 1.29563912 0.89029496 0.99705737 1.28367027 1.33141341\n",
      "  1.18137793 0.66503535 0.72392685 1.13681083 0.99230511 1.03987548\n",
      "  1.1224751  1.13652564]\n",
      " [0.77798617 0.853701   0.80589803 1.07672913 1.19738176 1.07909698\n",
      "  0.95841961 1.24047194 0.8915955  0.94003333 0.84452634 1.11302204\n",
      "  1.07192481 1.10650724 0.77343242 0.72401878 0.71204353 1.25999397\n",
      "  1.55284891 0.95804571 0.71974667 0.95171162 0.87484308 0.89085368\n",
      "  0.48180981 0.76091073]\n",
      " [1.07355644 0.93623232 0.92026063 0.98278881 1.16649362 0.92700353\n",
      "  0.94244922 1.32613533 1.08411598 0.9587187  0.89485001 1.16100371\n",
      "  0.81685575 0.91706482 1.20874454 1.01453898 0.50158125 1.01501845\n",
      "  0.93434136 0.96498511 0.98502213 1.02158349 0.98437663 1.3009154\n",
      "  1.05127194 1.04329703]\n",
      " [1.03832709 1.20126681 0.88134227 1.11142246 1.29610087 0.67142283\n",
      "  1.09251674 1.22292129 0.90856585 0.98852902 1.01839465 0.8883787\n",
      "  0.94783487 0.99028512 0.88552134 0.87844862 1.01544294 1.42560079\n",
      "  1.07857668 1.23152484 1.08770326 1.24290528 1.20379069 1.02112234\n",
      "  0.97750654 1.03479205]\n",
      " [0.780116   0.95550852 0.6608806  1.11505114 0.9668296  0.57456467\n",
      "  1.02738028 1.04467185 0.90046345 1.28283813 1.08860243 1.27448568\n",
      "  1.26900865 1.12956046 1.0264289  0.97232453 0.65338804 0.8944475\n",
      "  0.96136392 1.10013744 0.6905906  1.01008968 1.11509513 1.17366902\n",
      "  1.20421031 0.73333644]\n",
      " [0.81446263 0.88815039 0.83338343 1.13941262 0.82100177 0.96053859\n",
      "  1.12279454 0.99596703 0.69340982 0.74349256 0.57582053 0.94921079\n",
      "  1.03077648 0.8286079  1.07624516 1.1508819  0.97482616 1.31767669\n",
      "  0.92905796 0.79288452 1.04296113 1.03829021 0.80685413 1.04357302\n",
      "  0.99887164 1.19845802]\n",
      " [1.28199176 1.20979574 0.87591093 1.05019219 0.68735013 0.83870535\n",
      "  1.32068413 1.02358057 1.1744745  0.93041315 1.22726204 1.04611871\n",
      "  1.0927796  0.8902667  1.05228135 0.52948959 0.60657238 0.99535628\n",
      "  0.95962126 0.7979381  1.08595468 0.88010199 0.89461109 0.96535249\n",
      "  0.84096478 1.00856863]\n",
      " [1.04844597 1.37302023 0.98387421 1.13481686 0.99580221 0.91815143\n",
      "  1.10829615 0.76268944 1.19251867 0.99167141 0.86831537 0.96703209\n",
      "  1.01548738 1.39356368 1.22445382 0.95228489 1.09991152 1.00620191\n",
      "  0.64693519 1.0118164  1.33719249 1.1299034  1.26893609 1.04756564\n",
      "  1.15837386 1.07823493]\n",
      " [0.76906554 1.04381649 1.03681814 1.14438231 1.00808686 1.2383101\n",
      "  0.91394839 0.95954555 0.96327575 1.09703356 0.99226381 1.08163695\n",
      "  0.70709015 1.32482386 1.33987175 1.27696064 1.18786827 1.02634044\n",
      "  1.10675246 0.78297189 0.67810524 0.99549859 1.01036624 0.88505283\n",
      "  0.87000621 0.76955431]\n",
      " [1.15883646 0.81711533 1.10479322 0.82403263 1.09228919 1.01158904\n",
      "  0.86508091 1.04331923 1.16175242 0.83966967 1.03553394 1.05307909\n",
      "  0.79157063 1.05178142 1.11639167 1.10848195 1.11396153 0.9587938\n",
      "  1.18949057 0.86221276 0.79003951 0.94205545 0.77238263 1.11290308\n",
      "  1.04383226 1.02258361]\n",
      " [1.28187643 0.98322834 1.1828529  0.69077601 1.08799266 0.88342523\n",
      "  0.99981837 0.95578212 1.10869226 0.88049969 1.06063637 0.87243372\n",
      "  0.61450974 0.86092683 0.86266013 0.97676387 0.88002934 1.0359958\n",
      "  0.99564558 0.84518361 1.18211631 1.0875897  1.06421909 0.93757356\n",
      "  0.87179363 1.09169133]\n",
      " [0.9633237  1.26960311 1.26924114 0.96914827 0.90792477 0.975518\n",
      "  0.86363923 0.90745978 0.94541653 0.95790191 1.13578401 0.92982401\n",
      "  0.99559451 1.30391223 1.06862376 1.21626829 1.04868601 1.28547589\n",
      "  1.00571099 1.07483687 1.05571088 1.20074179 1.02316615 1.01183262\n",
      "  0.98277363 0.99083313]\n",
      " [0.80527088 1.13690505 1.0222641  1.20423013 1.17033879 1.31595849\n",
      "  1.13948492 1.0111758  0.90308985 0.93949152 1.17932327 0.73461579\n",
      "  0.77300953 1.04190015 1.25769558 1.0767782  0.92706485 1.08698005\n",
      "  0.86583512 0.71583307 0.70558014 1.18525502 0.94991501 0.86251316\n",
      "  0.94586252 1.14707468]\n",
      " [1.20279151 1.04592349 0.91021832 0.77637957 1.05281469 0.99018682\n",
      "  1.2935192  0.9407593  1.09646653 0.93118465 1.23342724 0.76294756\n",
      "  0.80479692 0.86446314 0.78263751 0.83374137 0.84667041 1.02547103\n",
      "  1.08398014 1.00429707 0.91592643 0.93592216 0.82507774 0.93348224\n",
      "  0.89277447 1.01343221]\n",
      " [1.38136026 0.71632359 1.04718398 0.86663506 0.82862753 0.82177282\n",
      "  1.11585913 1.19752726 0.93716069 1.05938103 1.24159625 0.85697333\n",
      "  1.1026726  0.9696525  1.26409668 1.01187946 0.840866   0.93410994\n",
      "  1.02987993 1.17773894 1.317037   1.09982481 0.88230582 1.23461921\n",
      "  0.93749392 0.97599882]\n",
      " [1.13115713 1.06142303 1.11640579 1.03799692 1.13946283 0.99483692\n",
      "  0.82052037 0.95659301 0.84047523 1.03284567 1.01746199 0.87699584\n",
      "  1.14608811 0.72363214 1.44469319 0.82871218 1.24867875 1.05442655\n",
      "  0.80178566 0.76445715 1.10332413 0.66421971 0.92220552 1.08831333\n",
      "  1.02059204 0.83201112]\n",
      " [0.89543846 0.96395904 0.75996672 0.78141176 0.86092522 1.11272675\n",
      "  1.18351882 0.82324355 0.88032833 1.02892266 1.05926156 0.84847954\n",
      "  0.83175354 0.89108314 0.99959772 0.64265466 1.25538285 1.22078248\n",
      "  0.97395351 1.15200331 0.95007999 0.77921876 0.99552239 1.24502525\n",
      "  0.90214492 0.94689362]\n",
      " [1.04430502 1.02922231 1.09893104 0.86241754 0.91746136 1.24393658\n",
      "  0.92766836 0.78375704 0.91869956 1.03719061 0.9221362  1.255918\n",
      "  1.02226933 1.274564   0.97627277 0.77883086 1.01995222 1.15716466\n",
      "  0.79333106 1.14978092 0.80540003 1.11245442 0.95182549 1.0001551\n",
      "  0.79376701 1.24307794]\n",
      " [0.80920065 1.13887671 1.11129997 0.87431663 0.77094472 1.12293476\n",
      "  0.99712989 1.13135238 1.04919821 1.06577473 0.9734292  1.02577019\n",
      "  0.89742411 1.11115806 1.21109032 0.89095978 1.09040799 1.07478104\n",
      "  1.1372004  0.80676932 0.75090164 1.27297533 0.86262461 0.8419702\n",
      "  0.84539666 0.99467135]\n",
      " [1.04867431 1.01795123 1.01070959 1.06125134 1.13889889 0.94840654\n",
      "  0.88649213 0.94658514 1.07949936 0.88241694 0.94832075 0.89016307\n",
      "  1.07989971 1.00329357 1.02018024 0.89636897 1.22860687 0.9367386\n",
      "  1.39705857 0.89544892 1.26224791 0.91915878 0.80952402 1.00420959\n",
      "  0.89868646 1.18252021]]\n"
     ]
    },
    {
     "data": {
      "text/plain": [
       "(13, 13)"
      ]
     },
     "execution_count": 20,
     "metadata": {},
     "output_type": "execute_result"
    }
   ],
   "source": [
    "maxPooling(conv1, 2, 2).shape"
   ]
  },
  {
   "cell_type": "code",
   "execution_count": 21,
   "id": "e8f16637",
   "metadata": {},
   "outputs": [
    {
     "data": {
      "text/plain": [
       "array([[-20.81854141,   3.77070694,   8.81248987,   7.69113562],\n",
       "       [-30.8265888 ,  16.16594074,  -6.82961374,   8.01865697],\n",
       "       [-24.91994006,   8.16299966, -36.65062678,   7.65932783],\n",
       "       [ -6.36550199,   8.52612428, -34.26093434,  12.54263452]])"
      ]
     },
     "execution_count": 21,
     "metadata": {},
     "output_type": "execute_result"
    }
   ],
   "source": [
    "conv1 = convolusi(arr, 3, \"Same\", \"no\")\n",
    "conv1"
   ]
  },
  {
   "cell_type": "code",
   "execution_count": 22,
   "id": "d737e6e6",
   "metadata": {},
   "outputs": [
    {
     "name": "stdout",
     "output_type": "stream",
     "text": [
      "[[-20.81854141   3.77070694   8.81248987   7.69113562]\n",
      " [-30.8265888   16.16594074  -6.82961374   8.01865697]\n",
      " [-24.91994006   8.16299966 -36.65062678   7.65932783]\n",
      " [ -6.36550199   8.52612428 -34.26093434  12.54263452]]\n"
     ]
    },
    {
     "data": {
      "text/plain": [
       "array([[16.16594074,  8.81248987],\n",
       "       [ 8.52612428, 12.54263452]])"
      ]
     },
     "execution_count": 22,
     "metadata": {},
     "output_type": "execute_result"
    }
   ],
   "source": [
    "output = maxPooling(conv1, 2, 2)\n",
    "output\n"
   ]
  },
  {
   "cell_type": "code",
   "execution_count": 23,
   "id": "2cdfe983",
   "metadata": {},
   "outputs": [],
   "source": [
    "def flat(arr):\n",
    "    array_flattern = arr.flatten()\n",
    "#     print (array_flattern.shape)\n",
    "    return np.array(array_flattern)\n",
    "\n",
    "def hidden_layer(arr) :\n",
    "    biases = 1\n",
    "    output=[]\n",
    "    arr = np.array(arr)\n",
    "#     print(arr.shape)\n",
    "    weights = np.random.randn(20) /9\n",
    "    for i in range(weights.shape[0]) :\n",
    "        output.append(weights[i]*arr[i] )\n",
    "#     totals = np.array(output).reshape(arr.shape)\n",
    "#     print(totals)\n",
    "    return np.array(output)\n",
    "\n",
    "def softmax(totals):\n",
    "    exp = np.exp(totals)\n",
    "    output = exp / np.sum(exp, axis=0)\n",
    "#     print(output)\n",
    "    return output\n",
    "\n"
   ]
  },
  {
   "cell_type": "code",
   "execution_count": 24,
   "id": "8d9ee163",
   "metadata": {},
   "outputs": [],
   "source": [
    "flatten = np.random.rand(169)"
   ]
  },
  {
   "cell_type": "code",
   "execution_count": 25,
   "id": "973147c8",
   "metadata": {},
   "outputs": [
    {
     "data": {
      "text/plain": [
       "(20,)"
      ]
     },
     "execution_count": 25,
     "metadata": {},
     "output_type": "execute_result"
    }
   ],
   "source": [
    "hidden_layer(flatten).shape"
   ]
  },
  {
   "cell_type": "code",
   "execution_count": 26,
   "id": "6da11d52",
   "metadata": {},
   "outputs": [
    {
     "data": {
      "text/plain": [
       "(20, 169)"
      ]
     },
     "execution_count": 26,
     "metadata": {},
     "output_type": "execute_result"
    }
   ],
   "source": [
    "weightF1 = np.random.randn(20, 169) * (1-0.5) + 0.5\n",
    "weightF1.shape"
   ]
  },
  {
   "cell_type": "code",
   "execution_count": 27,
   "id": "d0d2800d",
   "metadata": {},
   "outputs": [
    {
     "data": {
      "text/plain": [
       "array([16.16594074,  8.81248987,  8.52612428, 12.54263452])"
      ]
     },
     "execution_count": 27,
     "metadata": {},
     "output_type": "execute_result"
    }
   ],
   "source": [
    "flatten = flat(output)\n",
    "flatten"
   ]
  },
  {
   "cell_type": "code",
   "execution_count": 28,
   "id": "7b022965",
   "metadata": {},
   "outputs": [
    {
     "data": {
      "text/plain": [
       "4"
      ]
     },
     "execution_count": 28,
     "metadata": {},
     "output_type": "execute_result"
    }
   ],
   "source": [
    "flatten.shape[0]"
   ]
  },
  {
   "cell_type": "code",
   "execution_count": 30,
   "id": "8d71e3a2",
   "metadata": {},
   "outputs": [
    {
     "name": "stdout",
     "output_type": "stream",
     "text": [
      "[-0.01235821 -0.09125107  0.21711506 -0.02181594]\n",
      "[16.16594074  8.81248987  8.52612428 12.54263452]\n",
      "[-0.19978205 -0.8041491   1.85115002 -0.27362933]\n"
     ]
    }
   ],
   "source": [
    "weights = np.random.randn(arr.shape[0]) /9\n",
    "print(weights)\n",
    "print(flatten)\n",
    "\n",
    "output = []\n",
    "for i in range(weights.shape[0]) :\n",
    "    output.append(weights[i]*flatten[i] )\n",
    "print(np.array(output).reshape(flatten.shape))\n"
   ]
  },
  {
   "cell_type": "code",
   "execution_count": 31,
   "id": "4c29c06b",
   "metadata": {},
   "outputs": [
    {
     "name": "stdout",
     "output_type": "stream",
     "text": [
      "The Zen of Python, by Tim Peters\n",
      "\n",
      "Beautiful is better than ugly.\n",
      "Explicit is better than implicit.\n",
      "Simple is better than complex.\n",
      "Complex is better than complicated.\n",
      "Flat is better than nested.\n",
      "Sparse is better than dense.\n",
      "Readability counts.\n",
      "Special cases aren't special enough to break the rules.\n",
      "Although practicality beats purity.\n",
      "Errors should never pass silently.\n",
      "Unless explicitly silenced.\n",
      "In the face of ambiguity, refuse the temptation to guess.\n",
      "There should be one-- and preferably only one --obvious way to do it.\n",
      "Although that way may not be obvious at first unless you're Dutch.\n",
      "Now is better than never.\n",
      "Although never is often better than *right* now.\n",
      "If the implementation is hard to explain, it's a bad idea.\n",
      "If the implementation is easy to explain, it may be a good idea.\n",
      "Namespaces are one honking great idea -- let's do more of those!\n",
      "test size 264\n",
      "train size 2370\n",
      "Contoh X_train = [[[255 255 255 ... 255 255 255]\n",
      "  [255 255 255 ... 255 255 255]\n",
      "  [255 255 255 ... 255 255 255]\n",
      "  ...\n",
      "  [255 255 255 ... 255 255 255]\n",
      "  [255 255 255 ... 255 255 255]\n",
      "  [255 255 255 ... 255 255 255]]\n",
      "\n",
      " [[255 255 255 ... 255 255 255]\n",
      "  [255 255 255 ... 255 255 255]\n",
      "  [255 255 255 ... 255 255 255]\n",
      "  ...\n",
      "  [255 255 255 ... 255 255 255]\n",
      "  [255 255 255 ... 255 255 255]\n",
      "  [255 255 255 ... 255 255 255]]\n",
      "\n",
      " [[255 255 255 ... 255 255 255]\n",
      "  [255 255 255 ... 255 255 255]\n",
      "  [255 255 255 ... 255 255 255]\n",
      "  ...\n",
      "  [255 255 255 ... 255 255 255]\n",
      "  [255 255 255 ... 255 255 255]\n",
      "  [255 255 255 ... 255 255 255]]\n",
      "\n",
      " ...\n",
      "\n",
      " [[255 255 255 ... 255 255 255]\n",
      "  [255 255 255 ... 255 255 255]\n",
      "  [255 255 255 ... 255 255 255]\n",
      "  ...\n",
      "  [255 255 255 ... 255 255 255]\n",
      "  [255 255 255 ... 255 255 255]\n",
      "  [255 255 255 ... 255 255 255]]\n",
      "\n",
      " [[255 255 255 ... 255 255 255]\n",
      "  [255 255 255 ... 255 255 255]\n",
      "  [255 255 255 ... 255 255 255]\n",
      "  ...\n",
      "  [255 255 255 ... 255 255 255]\n",
      "  [255 255 255 ... 255 255 255]\n",
      "  [255 255 255 ... 255 255 255]]\n",
      "\n",
      " [[255 255 255 ... 255 255 255]\n",
      "  [255 255 255 ... 255 255 255]\n",
      "  [255 255 255 ... 255 255 255]\n",
      "  ...\n",
      "  [255 255 255 ... 255 255 255]\n",
      "  [255 255 255 ... 255 255 255]\n",
      "  [255 255 255 ... 255 255 255]]]\n",
      "(2370, 28, 28)\n",
      "Contoh data images \n",
      " 1\n",
      "12\n"
     ]
    },
    {
     "data": {
      "image/png": "[encoded data removed]",
      "text/plain": [
       "<Figure size 640x480 with 1 Axes>"
      ]
     },
     "metadata": {},
     "output_type": "display_data"
    }
   ],
   "source": [
    "import load_gambar"
   ]
  },
  {
   "cell_type": "code",
   "execution_count": 32,
   "id": "5a3d3935",
   "metadata": {},
   "outputs": [
    {
     "data": {
      "text/plain": [
       "(2370,)"
      ]
     },
     "execution_count": 32,
     "metadata": {},
     "output_type": "execute_result"
    }
   ],
   "source": [
    "train_images = load_gambar.X_data_train\n",
    "train_images.shape\n",
    "train_label = np.array(load_gambar.Y_label)\n",
    "train_label.shape"
   ]
  },
  {
   "cell_type": "code",
   "execution_count": 33,
   "id": "33aba313",
   "metadata": {},
   "outputs": [],
   "source": [
    "def feed_forward (image, label):\n",
    "    conv1 = convolusi(image, 3, \"no\")\n",
    "#     print(\"conv1 done\")\n",
    "    reLuu = reLu(conv1)\n",
    "#     print(\"reluu done\")\n",
    "    maxPool = maxPooling(reLuu,2,2)\n",
    "    print(\"maxpoll done\")\n",
    "    flattening = flat(maxPool)\n",
    "#     print(\"flatdone\")\n",
    "#     sofmax buat def baru dah\n",
    "    fc1 = hidden_layer(flattening)\n",
    "    out = softmax(fc1)\n",
    "    print(\"softmax done\")\n",
    "    # Calculate cross-entropy loss and accuracy. np.log() is the natural log.\n",
    "    loss = -np.log(out[label])\n",
    "    \n",
    "    gradient = np.zeros(20)\n",
    "    gradient[label] = -1 / out[label]\n",
    "    \n",
    "    \n",
    "    acc = 1 if np.argmax(out) == label else 0\n",
    "    print(acc)\n",
    "    return out, loss, acc\n",
    "    \n",
    "    \n",
    "    "
   ]
  },
  {
   "cell_type": "code",
   "execution_count": 34,
   "id": "3a1262b0",
   "metadata": {},
   "outputs": [
    {
     "data": {
      "text/plain": [
       "1"
      ]
     },
     "execution_count": 34,
     "metadata": {},
     "output_type": "execute_result"
    }
   ],
   "source": [
    "expl_images = train_images[0]\n",
    "expl_label = int(train_label[0])\n",
    "expl_label"
   ]
  },
  {
   "cell_type": "code",
   "execution_count": 35,
   "id": "00d6690a",
   "metadata": {},
   "outputs": [
    {
     "name": "stdout",
     "output_type": "stream",
     "text": [
      "[[ 0.          0.          0.          0.          0.          0.\n",
      "   0.          0.          0.          0.          0.          0.\n",
      "   0.          0.          0.          0.          0.          0.\n",
      "   0.          0.          0.          0.          0.          0.\n",
      "   0.          0.        ]\n",
      " [ 0.          0.          0.          0.          0.          0.\n",
      "   0.          0.          0.          0.          0.          0.\n",
      "   0.          0.          0.          0.          0.          0.\n",
      "   0.          0.          0.          0.          0.          0.\n",
      "   0.          0.        ]\n",
      " [ 0.          0.          0.          0.          0.          0.\n",
      "   0.          0.          0.          0.          0.          0.\n",
      "   0.          0.          0.          0.          0.          0.\n",
      "   0.          0.          0.          0.          0.          0.\n",
      "   0.          0.        ]\n",
      " [ 0.          0.          0.          0.          3.69922848  4.92310017\n",
      "   6.04460238  3.72243393  2.81266939  0.          0.          0.\n",
      "   0.          0.          0.          0.          0.          0.\n",
      "   0.          0.          0.          0.          0.          0.\n",
      "   0.          0.        ]\n",
      " [ 0.          0.          0.          5.18445054  0.          0.\n",
      "  16.15251684 17.18479768  0.          5.48777109  0.          0.\n",
      "   0.          0.          0.          6.07732017  6.38733003  7.04715385\n",
      "   4.4933225   0.63914926  0.          0.          0.          0.\n",
      "   0.          0.        ]\n",
      " [ 0.          0.          0.          0.          0.          7.0952562\n",
      "   0.          0.          8.70468761  4.92300811  0.          0.\n",
      "   0.          4.81314502  0.          0.          6.06362957 17.69162536\n",
      "   8.31996673  2.4872163   1.72590932  0.          0.          0.\n",
      "   0.          0.        ]\n",
      " [ 0.          0.          0.04500789  0.          6.70241708  0.\n",
      "   0.          0.          8.91700013  0.          7.31735752  0.\n",
      "   4.99879778  0.          0.         10.43946777  0.          0.\n",
      "   5.57523529  0.          8.45375764  0.          0.          0.\n",
      "   0.          0.        ]\n",
      " [ 0.          0.          0.          0.          6.61083547  0.\n",
      "   0.          0.          0.          2.59904558  6.98480927  3.20740824\n",
      "   0.          0.          8.42373181  0.          0.          0.\n",
      "   0.          4.25952982  3.79353808  0.          0.          0.\n",
      "   0.          0.        ]\n",
      " [ 0.          0.          0.          0.          4.44945772  0.\n",
      "   0.          0.          0.          8.94049301  0.          0.\n",
      "   0.         19.55477812  1.16652803  1.52401757  0.80634312  0.\n",
      "   0.          3.93699117  0.          0.07879079  0.          0.\n",
      "   0.          0.        ]\n",
      " [ 0.          0.          0.          0.          5.30111757  0.\n",
      "   0.          0.          0.          2.75097666  0.          0.\n",
      "   0.          0.         12.79546435  0.          8.40534502  0.\n",
      "   0.          0.          1.03689114  1.13182701  0.          0.\n",
      "   0.          0.        ]\n",
      " [ 0.          0.          0.          0.88875956  2.75746986  0.\n",
      "   0.          0.          0.          0.          1.24177654  1.9945794\n",
      "   0.          0.          0.          5.85463123  2.5683992   0.\n",
      "   0.          0.          0.          2.12703623  0.          0.\n",
      "   0.          0.        ]\n",
      " [ 0.          0.          0.          2.52245421  2.08807096  0.\n",
      "   0.          0.          0.          0.          1.82106757  3.97630828\n",
      "   0.          0.          0.          4.44133079  0.          3.0295033\n",
      "   0.          0.          1.5564276   2.69288924  0.          0.\n",
      "   0.          0.        ]\n",
      " [ 0.          0.          0.          2.39583635  1.3779547   0.\n",
      "   0.          0.          0.          0.          4.44817505  1.34546073\n",
      "   0.          0.          0.          0.          0.          6.0899171\n",
      "   0.          0.          0.          3.97737742  0.          0.\n",
      "   0.          0.        ]\n",
      " [ 0.          0.          0.          0.          2.00980531  0.\n",
      "   0.          0.          0.          0.          4.10343413  0.\n",
      "   0.          0.          0.          0.          2.03647744  4.85066481\n",
      "   0.          0.          1.65642634  4.31929207  0.          0.\n",
      "   0.          0.        ]\n",
      " [ 0.          0.          0.          0.0880685   0.          0.11607773\n",
      "   0.          0.          0.          0.          0.          0.14172666\n",
      "   1.99460467  0.          0.          0.          1.7991762   3.01186633\n",
      "   0.          0.          2.08085553  3.45385271  0.          0.\n",
      "   0.          0.        ]\n",
      " [ 0.          0.          0.          0.          0.81148256  1.7207754\n",
      "   0.          0.          0.          0.          0.         16.25836441\n",
      "   6.77521568  4.27956413  0.          0.          1.57937328  3.03863069\n",
      "   0.          0.          2.00428741  3.35540423  0.          0.\n",
      "   0.          0.        ]\n",
      " [ 0.          0.          0.          0.          0.69519409  2.18772676\n",
      "   0.          0.          6.44742324  0.          7.22861483  3.65338898\n",
      "  30.91005759  2.57204946  7.0904265   0.          3.96955888  2.1370878\n",
      "   0.          0.          3.9286502   1.56952062  0.          0.\n",
      "   0.          0.        ]\n",
      " [ 0.          0.          0.          0.          0.          3.87548012\n",
      "   0.          0.          0.          0.          0.          0.\n",
      "   0.          9.2921985  14.63566541  0.         16.19855587  0.\n",
      "   0.          0.          6.94522817  0.          1.47593683  0.\n",
      "   0.          0.        ]\n",
      " [ 0.          0.          0.          0.          1.33400982  4.57574019\n",
      "   0.          0.          0.         10.40546442  0.          7.48630109\n",
      "   0.          0.          0.          2.94818512  0.          0.\n",
      "   0.          0.          0.          0.          1.4970572   0.\n",
      "   0.          0.        ]\n",
      " [ 0.          0.          0.          0.          2.15106324  3.492706\n",
      "   0.          0.          0.          0.          0.         11.17040677\n",
      "   0.          0.          0.          0.          0.          0.\n",
      "   0.          0.          0.          0.          0.          0.\n",
      "   0.          0.        ]\n",
      " [ 0.          0.          0.          0.          1.61366903  3.4597871\n",
      "   0.          0.          0.          0.          0.          0.\n",
      "   0.          0.          0.          0.          0.          0.\n",
      "   0.          0.          0.          0.          0.          0.\n",
      "   0.          0.        ]\n",
      " [ 0.          0.          0.          0.          8.44286335  0.\n",
      "   0.          0.          0.          0.          0.          0.\n",
      "   0.          0.          0.          0.          0.          0.\n",
      "   0.          0.          0.          0.          0.          0.\n",
      "   0.          0.        ]\n",
      " [ 0.          0.          0.          0.          0.          0.\n",
      "   0.          0.          0.          0.          0.          0.\n",
      "   0.          0.          0.          0.          0.          0.\n",
      "   0.          0.          0.          0.          0.          0.\n",
      "   0.          0.        ]\n",
      " [ 0.          0.          0.          0.          0.          0.\n",
      "   0.          0.          0.          0.          0.          0.\n",
      "   0.          0.          0.          0.          0.          0.\n",
      "   0.          0.          0.          0.          0.          0.\n",
      "   0.          0.        ]\n",
      " [ 0.          0.          0.          0.          0.          0.\n",
      "   0.          0.          0.          0.          0.          0.\n",
      "   0.          0.          0.          0.          0.          0.\n",
      "   0.          0.          0.          0.          0.          0.\n",
      "   0.          0.        ]\n",
      " [ 0.          0.          0.          0.          0.          0.\n",
      "   0.          0.          0.          0.          0.          0.\n",
      "   0.          0.          0.          0.          0.          0.\n",
      "   0.          0.          0.          0.          0.          0.\n",
      "   0.          0.        ]]\n",
      "maxpoll done\n",
      "softmax done\n",
      "0\n"
     ]
    },
    {
     "data": {
      "text/plain": [
       "(array([0.04931392, 0.04931392, 0.04931392, 0.04931392, 0.04931392,\n",
       "        0.04931392, 0.04931392, 0.04931392, 0.04931392, 0.04931392,\n",
       "        0.04931392, 0.04931392, 0.04931392, 0.04931392, 0.04931392,\n",
       "        0.05978709, 0.05764899, 0.04422732, 0.04931392, 0.04931392]),\n",
       " 3.0095489222035288,\n",
       " 0)"
      ]
     },
     "execution_count": 35,
     "metadata": {},
     "output_type": "execute_result"
    }
   ],
   "source": [
    "feed_forward(expl_images, expl_label)"
   ]
  },
  {
   "cell_type": "code",
   "execution_count": null,
   "id": "20f9f135",
   "metadata": {},
   "outputs": [],
   "source": [
    "loss = 0\n",
    "num_correct = 0\n",
    "for i, (im, label) in enumerate(zip(train_images, train_label)):\n",
    "  # Do a forward pass.\n",
    "  _, l, acc = feed_forward(im, label)\n",
    "  loss += l\n",
    "  num_correct += acc\n",
    "\n",
    "  # Print stats every 100 steps.\n",
    "  if i % 100 == 99:\n",
    "    print(\n",
    "      '[Step %d] Past 100 steps: Average Loss %.3f | Accuracy: %d%%' %\n",
    "      (i + 1, loss / 100, num_correct)\n",
    "    )\n",
    "    loss = 0\n",
    "    num_correct = 0"
   ]
  },
  {
   "cell_type": "code",
   "execution_count": 36,
   "id": "c2841b27",
   "metadata": {},
   "outputs": [],
   "source": [
    "import numpy as np"
   ]
  },
  {
   "cell_type": "code",
   "execution_count": 37,
   "id": "943604b0",
   "metadata": {},
   "outputs": [
    {
     "data": {
      "text/plain": [
       "'\\n1.  gradient loss -> softmax\\n    cost = -np.log(output[label])\\n    \\n'"
      ]
     },
     "execution_count": 37,
     "metadata": {},
     "output_type": "execute_result"
    }
   ],
   "source": [
    "'''\n",
    "1.  gradient loss -> softmax\n",
    "    cost = -np.log(output[label])\n",
    "    \n",
    "''' \n"
   ]
  },
  {
   "cell_type": "code",
   "execution_count": 38,
   "id": "5202e559",
   "metadata": {},
   "outputs": [
    {
     "data": {
      "text/plain": [
       "array([0.03737097, 0.01184392, 0.05692149, 0.05303903, 0.03679387,\n",
       "       0.0171316 , 0.08549397, 0.01224822, 0.05647852, 0.05272305,\n",
       "       0.03551716, 0.0794683 , 0.08340098, 0.11890057, 0.04978581,\n",
       "       0.02286274, 0.06699416, 0.01875047, 0.05251638, 0.05175879])"
      ]
     },
     "execution_count": 38,
     "metadata": {},
     "output_type": "execute_result"
    }
   ],
   "source": [
    "fc1 = np.array(\n",
    "    [-81.59171555, -78.82961058, -82.99451207, -78.87719371, -87.82847332,\n",
    " -81.44474983, -81.66183363, -82.92618867, -84.64869252, -84.34758863,\n",
    " -79.7511044,  -82.9458677,  -84.06570704, -77.99402198, -85.06419313,\n",
    " -82.63583963, -84.59170787, -83.27530124, -79.88936223, -84.28679851]\n",
    ")\n",
    "expSoftMax = np.array(\n",
    "    [0.03737097, 0.01184392, 0.05692149, 0.05303903, 0.03679387, 0.0171316,\n",
    "     0.08549397, 0.01224822, 0.05647852, 0.05272305, 0.03551716, 0.0794683,\n",
    "     0.08340098, 0.11890057, 0.04978581, 0.02286274, 0.06699416, 0.01875047,\n",
    "     0.05251638, 0.05175879])\n",
    "loss = 2.942702629948658\n",
    "label = 9\n",
    "expSoftMax"
   ]
  },
  {
   "cell_type": "code",
   "execution_count": 39,
   "id": "477c2465",
   "metadata": {},
   "outputs": [],
   "source": [
    "gradient = np.zeros(20)\n",
    "\n",
    "gradient[label] = -1 / expSoftMax[label]"
   ]
  },
  {
   "cell_type": "code",
   "execution_count": 40,
   "id": "28bf786b",
   "metadata": {},
   "outputs": [
    {
     "data": {
      "text/plain": [
       "array([  0.        ,   0.        ,   0.        ,   0.        ,\n",
       "         0.        ,   0.        ,   0.        ,   0.        ,\n",
       "         0.        , -18.96703624,   0.        ,   0.        ,\n",
       "         0.        ,   0.        ,   0.        ,   0.        ,\n",
       "         0.        ,   0.        ,   0.        ,   0.        ])"
      ]
     },
     "execution_count": 40,
     "metadata": {},
     "output_type": "execute_result"
    }
   ],
   "source": [
    "gradient"
   ]
  },
  {
   "cell_type": "code",
   "execution_count": 41,
   "id": "036f351a",
   "metadata": {},
   "outputs": [],
   "source": [
    "def backprop1 (fc1, expSofmax, gradient):\n",
    "    t_exp = np.exp(fc1)\n",
    "    # Sum of all e^totals\n",
    "    S = np.sum(t_exp)\n",
    "    for i, grad in enumerate(gradient):\n",
    "        if grad == 0:\n",
    "            continue\n",
    "        \n",
    "        d_out_d_t = -t_exp[i] * t_exp / (S ** 2)\n",
    "        d_out_d_t[i] = t_exp[i] * (S - t_exp[i]) / (S ** 2)\n",
    "        d_L_d_t = grad * d_out_d_t\n",
    "    return d_L_d_t"
   ]
  },
  {
   "cell_type": "code",
   "execution_count": 42,
   "id": "bd64a819",
   "metadata": {},
   "outputs": [
    {
     "data": {
      "text/plain": [
       "array([ 1.70948296e-04,  2.70664765e-03,  4.20376073e-05,  2.58087299e-03,\n",
       "        3.34406948e-07,  1.98011849e-04,  1.59372315e-04,  4.50101505e-05,\n",
       "        8.03963899e-06, -1.43440924e-02,  1.07704052e-03,  4.41330529e-05,\n",
       "        1.44020371e-05,  6.24199249e-03,  5.30624044e-06,  6.01738017e-05,\n",
       "        8.51107988e-06,  3.17462770e-05,  9.37966721e-04,  1.15452973e-05])"
      ]
     },
     "execution_count": 42,
     "metadata": {},
     "output_type": "execute_result"
    }
   ],
   "source": [
    "backprop1 = backprop1(fc1, expSoftMax, gradient)\n",
    "backprop1"
   ]
  },
  {
   "cell_type": "code",
   "execution_count": 43,
   "id": "dca094ba",
   "metadata": {},
   "outputs": [
    {
     "name": "stdout",
     "output_type": "stream",
     "text": [
      "[ 0.00980563 -0.00444208 -0.03642472 -0.02718163 -0.02854059  0.05658606\n",
      " -0.09557771 -0.2103854  -0.13579137  0.10581726 -0.20743665 -0.15913409\n",
      "  0.11973585  0.03704075 -0.02501628  0.05770487  0.06890208 -0.2056479\n",
      "  0.00867041  0.04558323  0.03367181  0.05849359  0.05782601 -0.06403274\n",
      " -0.09011572  0.00164846 -0.06129117 -0.15618801 -0.11939074  0.06358982\n",
      " -0.02002343  0.02463538  0.20351154 -0.17148868 -0.1998107   0.01435211\n",
      "  0.01116972  0.09160085 -0.03656252 -0.02978569 -0.18277494 -0.16232001\n",
      "  0.15222852 -0.149315    0.09834741  0.03389586  0.09014918  0.02521084\n",
      "  0.01230432  0.17103082  0.19520056  0.0068339  -0.07422327  0.03500533\n",
      " -0.11080808 -0.01209016  0.09801881  0.00501262 -0.04012086 -0.10636614\n",
      "  0.07393825 -0.09658032  0.02470198 -0.02106086 -0.01648404  0.16573957\n",
      "  0.06885171 -0.1690414   0.03917298  0.11430174 -0.07838641 -0.05289162\n",
      " -0.08967761  0.09332763  0.21506812  0.18597809  0.03970909  0.00379045\n",
      "  0.19234912  0.01798185  0.08201716 -0.02566748  0.0739303   0.1129803\n",
      "  0.12469557 -0.02863982 -0.1773724   0.12516805  0.10645386  0.10381918\n",
      " -0.04771911  0.0895253   0.13604238  0.0842358  -0.05996219  0.00156794\n",
      "  0.04797017  0.01712906 -0.10260843 -0.15318646 -0.08624488 -0.15280283\n",
      " -0.07140462  0.04078264  0.03400363 -0.21692803  0.00727982  0.03496369\n",
      "  0.11122286 -0.03990765 -0.0029837  -0.11249067 -0.11580771  0.03151468\n",
      " -0.20975915  0.20496728  0.32349098 -0.02398181  0.04847578  0.08402478\n",
      "  0.01046424 -0.06336696 -0.0914511  -0.04705992  0.01189361  0.0479216\n",
      "  0.22404195  0.10777843 -0.02017182 -0.05656824 -0.10985582  0.08755718\n",
      " -0.05077154 -0.09793924 -0.08491242  0.02137789  0.02959877 -0.0335961\n",
      " -0.07835756 -0.00544776 -0.08395469 -0.00197371 -0.03684098  0.04135425\n",
      " -0.01348918  0.04904813  0.07861917  0.08061    -0.08929258  0.25477975\n",
      "  0.02294061  0.31918538  0.05971733  0.2415355   0.06757884  0.10288439\n",
      " -0.14506551  0.03196204 -0.01937919 -0.0921772  -0.1094827  -0.14570311\n",
      " -0.12982048  0.00834651  0.10229764 -0.00580366  0.07498602 -0.01971031\n",
      "  0.14511641  0.0604322  -0.18093716 -0.06115782 -0.16755521 -0.05073965\n",
      "  0.02098793  0.03448475  0.03878573 -0.14162713 -0.06954362  0.05042078\n",
      "  0.06145745  0.02511006 -0.08227744 -0.00153208 -0.08985581  0.07866028\n",
      " -0.14987475 -0.02712914  0.05570378 -0.00767417  0.07837955  0.19598906\n",
      " -0.15864018 -0.11575933  0.08031045  0.10094399  0.19080024 -0.07103879\n",
      " -0.10529464 -0.09229322 -0.0051288  -0.06229305  0.04073366 -0.05881714\n",
      " -0.16630569 -0.1553763   0.05433684 -0.09315111  0.00269788 -0.01662032\n",
      "  0.17229557 -0.01694361  0.07556066 -0.07278018 -0.13591323 -0.13823637\n",
      " -0.11169367 -0.14473407  0.10780833 -0.09713144  0.02363516  0.08540099\n",
      "  0.02273743 -0.14483422  0.07308389 -0.00881869 -0.06652421  0.03873392\n",
      " -0.14103925  0.24035269  0.07308768 -0.15952762 -0.15068632  0.03090777\n",
      " -0.05389378 -0.17116116  0.06136971 -0.10408682 -0.10957358  0.00950456\n",
      "  0.03037115 -0.04592175 -0.09921709  0.16670258 -0.02667126  0.10477499\n",
      "  0.04617876  0.00554754 -0.03386194 -0.14482111 -0.02756724 -0.15514601\n",
      " -0.09424316  0.13971179  0.04144827 -0.07507314  0.09940974 -0.17748986\n",
      "  0.08852694  0.08349262 -0.04467571 -0.05356908  0.15108584 -0.0036172\n",
      " -0.1581988  -0.24338882  0.29341765  0.10437039 -0.10305215 -0.04018952\n",
      "  0.02544652 -0.01290295  0.02303429  0.18358408 -0.03480403  0.2121002\n",
      " -0.04220293  0.0231044   0.06396432 -0.01619231  0.20984761  0.12419113\n",
      " -0.27933922 -0.07640063  0.22485693  0.05707301 -0.28629237  0.1342555\n",
      "  0.12293599 -0.03628488 -0.16376127  0.12969449 -0.0895578   0.01928434\n",
      " -0.0643026   0.19042988 -0.1363404   0.17005537  0.00156731 -0.02676624\n",
      "  0.06510735  0.02386082  0.06070917 -0.13939665 -0.07853378 -0.16880766\n",
      "  0.15452223 -0.1691416  -0.05735565 -0.03869357 -0.08121222 -0.20083242\n",
      "  0.0934766   0.08520366 -0.18905748  0.04512168  0.17575649  0.05149323\n",
      " -0.06054448 -0.04328742 -0.07073893  0.0497615   0.19001842  0.07359554\n",
      "  0.00490157  0.05080557 -0.01401408  0.08520027 -0.02470875  0.07188227\n",
      " -0.04388316 -0.23548237  0.01534449 -0.13438926  0.02428976  0.06308601\n",
      "  0.02705086 -0.21564217 -0.15220881 -0.27998878 -0.12315659 -0.00308555\n",
      " -0.08119523 -0.11074211  0.04404815  0.1054635   0.12579629  0.18819055\n",
      "  0.24118234  0.03385644  0.03221989 -0.01573788  0.07584898 -0.00818817\n",
      "  0.13953318 -0.06230677  0.00095188  0.0516553  -0.12340212  0.04700719\n",
      "  0.11098898  0.04657559  0.13182278 -0.21648753 -0.04021985 -0.11810864\n",
      " -0.01291467  0.00325388 -0.1904222  -0.21227189 -0.17976441 -0.01291062\n",
      " -0.08423116  0.10144677  0.14534571 -0.07230588 -0.05019151 -0.02721724\n",
      "  0.08454091  0.00211005  0.20837041 -0.07034113  0.01830448  0.05694776\n",
      " -0.05475699 -0.17203094 -0.077553   -0.07164972  0.13096361  0.05239898\n",
      " -0.17640563 -0.10253126 -0.06414307 -0.0456941  -0.05365461  0.06922137\n",
      " -0.03005102 -0.17675891 -0.1569768   0.04762988 -0.07583836 -0.15697447\n",
      " -0.12470608  0.04522639  0.1753027  -0.07201223  0.15970545  0.10003187\n",
      " -0.10760769  0.01093214  0.01473442  0.01089177  0.13191367 -0.05676671\n",
      "  0.11993023 -0.14931626 -0.15348109 -0.16358073  0.25515847  0.20422896\n",
      " -0.11559623 -0.04433866 -0.14968548 -0.02873778 -0.04072199 -0.06686906\n",
      " -0.03041295  0.05094846 -0.07352475 -0.22723825  0.056333    0.20638465\n",
      "  0.28635254 -0.25166073  0.12125036 -0.25940188  0.1361449   0.00642524\n",
      " -0.14877489  0.00695918  0.01362929 -0.08590633  0.06101627  0.10246006\n",
      " -0.28247952 -0.09815566 -0.01993847  0.07717842  0.02366246 -0.09282616\n",
      "  0.11055299  0.01529075  0.14626197  0.09766524  0.03216194 -0.01643488\n",
      " -0.14461914  0.08165357  0.07272327 -0.04682388 -0.18230447  0.08242034\n",
      "  0.1975455  -0.11592005  0.10938496 -0.02820888  0.06377576  0.01549841\n",
      "  0.08017971  0.06236404  0.07956774 -0.09168262  0.12804464  0.04590062\n",
      "  0.00444524  0.07474642  0.14487155  0.13233287  0.04222479  0.0245997\n",
      " -0.04263302 -0.07409933 -0.2285575   0.12664797 -0.00771655  0.01939184\n",
      "  0.1671895   0.05656695  0.18024007  0.05329557  0.16984968  0.04299735\n",
      "  0.10170634 -0.1504489  -0.10962694  0.0190754   0.04420261  0.13309248\n",
      " -0.05296207  0.13066911  0.09134537 -0.14030384 -0.11270258 -0.09142722\n",
      " -0.03825446 -0.10765867  0.00240339 -0.18897805  0.19520089  0.05495499]\n",
      "(20, 510)\n",
      "1\n"
     ]
    }
   ],
   "source": [
    "flattening = np.random.randn(510) / 9\n",
    "w1 = np.random.randn(20, 510) - 0.5\n",
    "b1 = 1\n",
    "print(flattening)\n",
    "print(w1.shape)\n",
    "print(b1)"
   ]
  },
  {
   "cell_type": "code",
   "execution_count": 76,
   "id": "c963752b",
   "metadata": {},
   "outputs": [],
   "source": [
    "def hidden_layer(arr, weights, bias) :\n",
    "    if bias == \"no initial\" and weights == \"no initial\" :\n",
    "        bias = 0.5\n",
    "        weights = np.random.randn(20, arr.shape[0]) - 0.5\n",
    "        \n",
    "    output=[]\n",
    "    arr = np.array(arr)\n",
    "    totals = np.dot(weights, arr) + bias\n",
    "    return totals, weights, bias"
   ]
  },
  {
   "cell_type": "code",
   "execution_count": 79,
   "id": "59da217c",
   "metadata": {},
   "outputs": [
    {
     "data": {
      "text/plain": [
       "array([10.01645063,  0.59904579, -0.89808002,  0.17537572,  3.57622058,\n",
       "        2.1565136 , -2.17077538,  2.00438744,  3.59080474,  0.36838739,\n",
       "        0.1211291 , -2.63246849,  5.7256993 , -0.98545205,  2.39906804,\n",
       "        0.07218136, -0.53300248, -3.04755434,  2.36431184, -1.18461033])"
      ]
     },
     "execution_count": 79,
     "metadata": {},
     "output_type": "execute_result"
    }
   ],
   "source": [
    "fc, w1, b1 = hidden_layer(flattening, w1, 1)\n",
    "fc"
   ]
  },
  {
   "cell_type": "code",
   "execution_count": 80,
   "id": "55bdd0a0",
   "metadata": {},
   "outputs": [],
   "source": [
    "#w1, b1 itu dari fc\n",
    "def backprop2(backprop1, w1, b1, flattening, lr= 0.005):\n",
    "    d_t_d_w = flattening\n",
    "    d_t_d_b = np.array(b1)\n",
    "    d_t_d_inputs = w1\n",
    "    print((d_t_d_w[np.newaxis].T).shape)\n",
    "    print((backprop1[np.newaxis]).shape)\n",
    "    d_L_d_w = d_t_d_w[np.newaxis].T @ backprop1[np.newaxis]\n",
    "    print(d_L_d_w.shape)\n",
    "    d_L_d_b = backprop1 * d_t_d_b\n",
    "    print(d_L_d_b.shape)\n",
    "    d_L_d_inputs =  backprop1 @ d_t_d_inputs\n",
    "\n",
    "      # Update weights / biases\n",
    "    w1 -= lr * d_t_d_inputs\n",
    "    b1 -= lr * d_L_d_b\n",
    "    print(\"bias\" ,b1)\n",
    "    print (b1.shape)\n",
    "    return w1, b1\n",
    "    \n",
    "    "
   ]
  },
  {
   "cell_type": "code",
   "execution_count": 81,
   "id": "05795d23",
   "metadata": {
    "scrolled": true
   },
   "outputs": [
    {
     "name": "stdout",
     "output_type": "stream",
     "text": [
      "(510, 1)\n",
      "(1, 20)\n",
      "(510, 20)\n",
      "(20,)\n",
      "bias [0.99999915 0.99998647 0.99999979 0.9999871  1.         0.99999901\n",
      " 0.9999992  0.99999977 0.99999996 1.00007172 0.99999461 0.99999978\n",
      " 0.99999993 0.99996879 0.99999997 0.9999997  0.99999996 0.99999984\n",
      " 0.99999531 0.99999994]\n",
      "(20,)\n"
     ]
    }
   ],
   "source": [
    "updatew1, updateb1 = backprop2(backprop1, w1, b1, flattening, lr= 0.005)"
   ]
  },
  {
   "cell_type": "code",
   "execution_count": 82,
   "id": "90491aea",
   "metadata": {},
   "outputs": [
    {
     "name": "stderr",
     "output_type": "stream",
     "text": [
      "C:\\Users\\Cindi Tri Fitikasari\\AppData\\Local\\Temp\\ipykernel_4296\\1262763276.py:2: FutureWarning: elementwise comparison failed; returning scalar instead, but in the future will perform elementwise comparison\n",
      "  if bias == \"no initial\" and weights == \"no initial\" :\n"
     ]
    },
    {
     "data": {
      "text/plain": [
       "(array([ 9.97136752,  0.60103703, -0.88858983,  0.17948593,  3.56333947,\n",
       "         2.15073004, -2.1549223 ,  1.99936528,  3.57785067,  0.37161717,\n",
       "         0.12551807, -2.61430636,  5.70207073, -0.975556  ,  2.39207267,\n",
       "         0.07682015, -0.52533751, -3.02731672,  2.3574856 , -1.17368733]),\n",
       " array([[-0.29679859, -1.39598306,  0.6003774 , ...,  0.72180313,\n",
       "         -0.66713931,  0.18235727],\n",
       "        [-0.11275308, -0.35389808, -1.48848884, ..., -0.19339863,\n",
       "         -0.53623028, -1.26984867],\n",
       "        [-0.32803964, -1.23763658, -0.42099502, ..., -0.13382887,\n",
       "         -0.67634022, -1.43743906],\n",
       "        ...,\n",
       "        [ 0.20633782, -0.14477924, -2.04703184, ..., -2.27327116,\n",
       "         -1.72332922, -1.66421196],\n",
       "        [-0.86770133, -0.1830255 , -0.13911663, ..., -1.20333093,\n",
       "          0.17757524, -0.12260077],\n",
       "        [-1.22776111, -0.78063132, -0.17863963, ..., -0.51025632,\n",
       "          0.94328314, -0.27470519]]),\n",
       " array([0.99999915, 0.99998647, 0.99999979, 0.9999871 , 1.        ,\n",
       "        0.99999901, 0.9999992 , 0.99999977, 0.99999996, 1.00007172,\n",
       "        0.99999461, 0.99999978, 0.99999993, 0.99996879, 0.99999997,\n",
       "        0.9999997 , 0.99999996, 0.99999984, 0.99999531, 0.99999994]))"
      ]
     },
     "execution_count": 82,
     "metadata": {},
     "output_type": "execute_result"
    }
   ],
   "source": [
    "hidden_layer(flattening, updatew1, updateb1)"
   ]
  },
  {
   "cell_type": "code",
   "execution_count": 83,
   "id": "4b9d8f5f",
   "metadata": {},
   "outputs": [
    {
     "data": {
      "text/plain": [
       "array([[0.23593324, 0.99877687, 0.10916673, 0.09465596, 0.96592068,\n",
       "        0.67929124],\n",
       "       [0.16474495, 0.16329563, 0.89347835, 0.51396344, 0.52937299,\n",
       "        0.65963095],\n",
       "       [0.69803835, 0.57054759, 0.13466601, 0.23849336, 0.7724621 ,\n",
       "        0.90609425],\n",
       "       [0.76889211, 0.05932805, 0.12918574, 0.42499056, 0.60313649,\n",
       "        0.2030265 ],\n",
       "       [0.82297368, 0.38813348, 0.57855619, 0.86149765, 0.45507298,\n",
       "        0.36031004],\n",
       "       [0.04915962, 0.08626115, 0.27658587, 0.29139316, 0.46214537,\n",
       "        0.41998758]])"
      ]
     },
     "execution_count": 83,
     "metadata": {},
     "output_type": "execute_result"
    }
   ],
   "source": [
    "array_awal = np.random.rand(6,6)\n",
    "array_awal"
   ]
  },
  {
   "cell_type": "code",
   "execution_count": 84,
   "id": "f99ad64c",
   "metadata": {},
   "outputs": [],
   "source": [
    "\n",
    "def maxPooling(arr, stride=int, pool_size=int):\n",
    "    arr = np.array(arr)\n",
    "#     print(arr)\n",
    "    w, h = arr.shape\n",
    "    new_array = []\n",
    "    output =[]\n",
    "    for i in np.arange(w, step= stride):\n",
    "        for j in np.arange(h, step = stride):\n",
    "            mat = arr[i:i+pool_size, j:j+pool_size]\n",
    "            if mat.shape == (pool_size, pool_size):\n",
    "                new_array.append(mat)\n",
    "    new_array = np.array(new_array)\n",
    "#     print(new_array)\n",
    "    output_pooling_shape = (int(np.sqrt(new_array.shape[0])), int(np.sqrt(new_array.shape[0])))\n",
    "    for pool in new_array :\n",
    "        output.append(np.max(pool))\n",
    "#     print(np.array(output).reshape(output_pooling_shape).shape)\n",
    "    return np.array(output).reshape(output_pooling_shape)\n"
   ]
  },
  {
   "cell_type": "code",
   "execution_count": 86,
   "id": "9a931708",
   "metadata": {},
   "outputs": [
    {
     "name": "stdout",
     "output_type": "stream",
     "text": [
      "(9,)\n"
     ]
    }
   ],
   "source": [
    "flatten = maxPooling(array, stride=1, pool_size=2).flatten()\n",
    "print(flatten.shape)"
   ]
  },
  {
   "cell_type": "code",
   "execution_count": 87,
   "id": "f175c7b3",
   "metadata": {},
   "outputs": [],
   "source": [
    "def backMaxPooling(array_awal, stride, pool_size):\n",
    "    \n",
    "    arr = np.array(array_awal)\n",
    "#     print(arr)\n",
    "    w, h = arr.shape\n",
    "    new_array = []\n",
    "    output =[]\n",
    "    for i in np.arange(w, step= stride):\n",
    "        for j in np.arange(h, step = stride):\n",
    "            mat = arr[i:i+pool_size, j:j+pool_size]\n",
    "#             print(mat)\n",
    "            if mat.shape == (pool_size, pool_size):\n",
    "                valueMax = np.max(mat)\n",
    "                for k in range(mat.shape[0]):\n",
    "                    for l in range(mat.shape[0]):\n",
    "                        if mat[k,l] != valueMax :\n",
    "                            mat[k,l] = 0\n",
    "                        elif mat[k,l] == valueMax :\n",
    "                            mat[k,l] = 1\n",
    "                        else :\n",
    "                            mat[k,l] = 0\n",
    "                            \n",
    "                        \n",
    "    return arr"
   ]
  },
  {
   "cell_type": "code",
   "execution_count": 88,
   "id": "fc677968",
   "metadata": {},
   "outputs": [
    {
     "name": "stdout",
     "output_type": "stream",
     "text": [
      "[[ 0.36875784 -0.1066318   1.84616871  0.65283518 -1.0962586 ]\n",
      " [-1.81805881  1.24385875 -1.23136251 -0.19781882  1.6710563 ]\n",
      " [ 0.81026955  1.66007481 -0.00552358  1.3456797   0.47043875]\n",
      " [ 0.09315406 -0.1686977   0.83430783 -0.16201568 -0.81623761]\n",
      " [-0.57729152 -1.27567294 -0.0249664   1.25170893  1.9065595 ]]\n",
      "[[0. 0. 1. 0. 0.]\n",
      " [0. 0. 0. 0. 1.]\n",
      " [0. 1. 0. 1. 0.]\n",
      " [1. 1. 0. 0. 0.]\n",
      " [0. 0. 0. 0. 1.]]\n"
     ]
    }
   ],
   "source": [
    "\n",
    "myarray =np.random.randn(5,5)\n",
    "print(myarray)\n",
    "\n",
    "for i in np.arange(5, step= 1):\n",
    "    for j in np.arange(5, step = 1):\n",
    "        mat = myarray[i:i+2, j:j+2]\n",
    "#     print(mat)\n",
    "        if mat.shape == (2, 2):\n",
    "            valueMax = np.max(mat)\n",
    "            for k in range(mat.shape[0]):\n",
    "                for l in range(mat.shape[0]):\n",
    "                    if mat[k,l] != valueMax :\n",
    "                        mat[k,l] = 0\n",
    "                    elif mat[k,l] == valueMax :\n",
    "                        mat[k,l] = 1\n",
    "                    else :\n",
    "                        mat[k,l] = 0\n",
    "                            \n",
    "                        \n",
    "print(myarray)\n",
    "                        "
   ]
  },
  {
   "cell_type": "code",
   "execution_count": 89,
   "id": "2020b5fb",
   "metadata": {},
   "outputs": [
    {
     "data": {
      "text/plain": [
       "array([[0., 1., 0., 0., 0., 1.],\n",
       "       [0., 0., 0., 1., 0., 0.],\n",
       "       [1., 0., 1., 0., 0., 1.],\n",
       "       [0., 0., 0., 0., 1., 0.],\n",
       "       [1., 0., 1., 0., 0., 0.],\n",
       "       [0., 0., 0., 0., 1., 0.]])"
      ]
     },
     "execution_count": 89,
     "metadata": {},
     "output_type": "execute_result"
    }
   ],
   "source": [
    "backMaxPooling(array_awal, stride=1, pool_size=2)"
   ]
  },
  {
   "cell_type": "code",
   "execution_count": 90,
   "id": "c9269da6",
   "metadata": {},
   "outputs": [
    {
     "name": "stdout",
     "output_type": "stream",
     "text": [
      "[[0.07453201 0.37407241 0.55388266 0.33385317]\n",
      " [0.45016552 0.64416848 0.98207585 0.74847508]\n",
      " [0.40335827 0.01329275 0.85812176 0.82503965]\n",
      " [0.03417692 0.08169548 0.62641463 0.05651592]]\n",
      "[[0.         0.         0.         0.        ]\n",
      " [0.         0.         0.98207585 0.        ]\n",
      " [0.         0.         0.         0.        ]\n",
      " [0.         0.         0.         0.        ]]\n"
     ]
    }
   ],
   "source": [
    "massa = np.random.rand(4,4) \n",
    "print(massa)\n",
    "maxnum = np.max(massa)\n",
    "for i in range(4)  :\n",
    "    for j in range(4):\n",
    "        if massa[i,j] != maxnum :\n",
    "            massa[i,j] = 0\n",
    "            \n",
    "print(massa)"
   ]
  },
  {
   "cell_type": "code",
   "execution_count": null,
   "id": "490e4cc5",
   "metadata": {},
   "outputs": [],
   "source": [
    "# Mulai backprop di cnn\n",
    "#hasil dari backprop cnn, jika nilai nya ada ubah ke 1 dan jika 0 nol\n",
    "# anggep kita udh punya nilai z atau f(x.w)"
   ]
  },
  {
   "cell_type": "code",
   "execution_count": 91,
   "id": "6fab2c47",
   "metadata": {},
   "outputs": [
    {
     "name": "stdout",
     "output_type": "stream",
     "text": [
      "[[0.03257309 0.77453966 0.86333751 ... 0.78174226 0.23168957 0.2274109 ]\n",
      " [0.88049564 0.49750686 0.17171568 ... 0.898715   0.94688063 0.47667986]\n",
      " [0.29575258 0.22989141 0.76401094 ... 0.14399522 0.07320337 0.23793169]\n",
      " ...\n",
      " [0.2402422  0.76316765 0.32827889 ... 0.73606006 0.94437196 0.54195438]\n",
      " [0.11472515 0.05780152 0.28893884 ... 0.18955412 0.50724996 0.00648687]\n",
      " [0.31470857 0.71171992 0.30069965 ... 0.10233013 0.957519   0.49767808]]\n",
      "[[0.34676791 0.4114254  0.72545494]\n",
      " [0.08042253 0.93683182 0.21810756]\n",
      " [0.63859872 0.16304119 0.70751778]]\n"
     ]
    },
    {
     "data": {
      "text/plain": [
       "(222, 222)"
      ]
     },
     "execution_count": 91,
     "metadata": {},
     "output_type": "execute_result"
    }
   ],
   "source": [
    "arr = np.random.rand(224, 224)\n",
    "print(arr)\n",
    "kernel = np.random.rand(3, 3)\n",
    "print (kernel)\n",
    "z = convolusi(arr, 3, \"no\")\n",
    "z.shape\n"
   ]
  },
  {
   "cell_type": "code",
   "execution_count": 92,
   "id": "ccb4f56f",
   "metadata": {},
   "outputs": [
    {
     "name": "stdout",
     "output_type": "stream",
     "text": [
      "[[8.48187156e-01 8.71418704e-01 8.30070823e-01 3.66516055e-01\n",
      "  1.64240889e-01 7.80270638e-01 7.92048908e-01 5.47082387e-01\n",
      "  2.01497120e-01 5.70920623e-01 6.24702477e-01 2.18459378e-01\n",
      "  6.78092370e-02 5.42780310e-01 2.45202017e-01 6.95365874e-01\n",
      "  5.96394494e-02 6.55376394e-01 1.48451213e-01 3.59829429e-01\n",
      "  3.36800773e-01 8.19604933e-02 3.45073060e-02 7.25421297e-01\n",
      "  8.88097841e-01 4.75878530e-01 3.42550204e-01 6.26856055e-01]\n",
      " [2.76697897e-02 1.01223853e-01 1.90064229e-01 2.27947475e-01\n",
      "  4.08257666e-01 4.96245159e-01 1.59713784e-03 1.39549214e-01\n",
      "  4.22710038e-01 6.39911716e-01 2.73309264e-01 9.96565552e-01\n",
      "  5.34529909e-01 3.69547415e-01 8.59066726e-01 6.71653583e-01\n",
      "  4.98497771e-01 2.11259970e-01 7.79266201e-01 4.31376116e-01\n",
      "  4.90077480e-01 3.31237523e-01 9.87757346e-01 4.27902962e-02\n",
      "  5.85572393e-01 6.88881096e-01 3.68182074e-01 5.39738444e-01]\n",
      " [5.85964587e-01 3.06076444e-01 2.65742300e-01 1.07087178e-01\n",
      "  9.51182977e-01 8.59196729e-01 9.34288150e-01 5.76354263e-01\n",
      "  3.74400910e-01 4.00768237e-01 3.66437695e-01 5.94898700e-01\n",
      "  8.09512927e-01 7.53565333e-01 2.39542917e-01 9.96191866e-02\n",
      "  3.98025259e-01 3.75115104e-01 5.80914557e-01 1.54174723e-01\n",
      "  2.72484310e-01 8.68463316e-01 2.25173447e-01 3.09551526e-01\n",
      "  9.28019354e-01 4.52075172e-01 4.89277151e-01 9.38999044e-01]\n",
      " [1.81026709e-01 7.07650791e-01 6.58565401e-01 3.37897693e-01\n",
      "  1.85649236e-02 6.64167544e-01 4.14873245e-01 6.80275499e-01\n",
      "  5.73688221e-01 8.71320338e-01 9.42862034e-01 9.96922193e-01\n",
      "  5.37956505e-01 1.70607607e-01 1.29221019e-01 7.66168722e-01\n",
      "  3.87293348e-01 5.29411086e-01 1.77465886e-01 7.38969825e-02\n",
      "  8.98405052e-01 4.78975715e-01 6.39008673e-01 6.66632814e-01\n",
      "  8.59754096e-01 7.77594569e-03 8.84024146e-01 8.91095076e-01]\n",
      " [1.79282925e-01 2.19868761e-03 6.27585289e-01 1.88944638e-01\n",
      "  4.69722580e-01 2.48192129e-01 6.45235554e-01 7.66636245e-01\n",
      "  4.85577466e-01 7.31493760e-01 5.96412693e-01 6.68674562e-02\n",
      "  5.87489233e-01 2.84486487e-01 8.33235162e-01 2.82225939e-01\n",
      "  3.51020166e-02 4.91985846e-01 3.12644374e-02 4.51331344e-01\n",
      "  9.98515905e-01 6.53879677e-01 1.10842479e-03 6.21726499e-01\n",
      "  4.05131974e-01 2.31738051e-01 1.59242832e-01 9.93077372e-01]\n",
      " [2.85564856e-01 8.88574032e-01 3.23272899e-01 6.88462694e-01\n",
      "  6.65614044e-01 4.83968819e-01 8.28266914e-01 9.19257974e-01\n",
      "  8.32136634e-01 5.61833456e-01 9.84030013e-01 6.28476396e-01\n",
      "  2.30648394e-01 7.51386725e-01 3.11305754e-01 2.53673102e-01\n",
      "  6.57680210e-01 2.85277990e-01 4.10797384e-01 3.91663573e-01\n",
      "  8.32689545e-01 8.66072958e-01 2.36796582e-02 1.28863286e-01\n",
      "  3.83038882e-01 7.26743923e-01 8.01142877e-01 1.85839346e-01]\n",
      " [8.83128350e-01 5.28502707e-01 6.38930335e-01 4.12020270e-01\n",
      "  5.61686746e-02 9.53175101e-01 2.74850660e-01 6.21475770e-01\n",
      "  6.74479724e-02 3.18594245e-01 2.96610129e-01 1.88829060e-01\n",
      "  5.05761656e-01 8.69898890e-01 6.72675237e-01 1.15119505e-01\n",
      "  5.56246376e-01 1.45984580e-01 6.30257387e-01 9.36727226e-01\n",
      "  8.52907449e-01 3.07525021e-02 6.72122777e-01 5.55702810e-01\n",
      "  6.85793785e-01 1.32602301e-01 6.76514887e-01 5.52577459e-01]\n",
      " [3.79855566e-01 4.66841294e-01 5.43069558e-01 1.51908215e-02\n",
      "  1.73650981e-01 5.60842612e-01 4.28175090e-01 2.32911991e-01\n",
      "  9.71172467e-01 4.51240237e-01 6.47646883e-01 6.44548674e-01\n",
      "  9.01012537e-01 9.53593568e-01 1.49419553e-01 7.91704483e-01\n",
      "  2.20716365e-01 9.19297066e-01 5.20674639e-01 2.88755647e-01\n",
      "  7.81476763e-01 2.93102099e-01 3.52965516e-01 9.15027145e-01\n",
      "  3.42646278e-01 8.29798304e-01 7.00616467e-01 8.78598710e-01]\n",
      " [8.21629439e-01 2.75805802e-01 3.36283806e-01 5.64669927e-02\n",
      "  4.30054398e-01 4.25940921e-02 2.05203865e-01 6.46303475e-01\n",
      "  8.09830027e-01 6.42096322e-01 4.07828893e-01 8.07801447e-01\n",
      "  1.34783908e-01 7.89643388e-01 5.37174376e-02 1.56720996e-01\n",
      "  4.54860988e-01 3.65691714e-02 4.51742548e-01 7.26998243e-01\n",
      "  7.03385004e-01 7.67280265e-01 6.23277215e-01 5.31237296e-01\n",
      "  4.53922759e-01 6.33186555e-01 4.73055669e-01 6.20083555e-01]\n",
      " [8.28099575e-01 2.44275831e-01 7.96007183e-01 1.41193195e-03\n",
      "  7.65137587e-01 7.87599980e-01 5.70195785e-01 7.81643489e-01\n",
      "  3.53868151e-01 3.56295125e-01 9.37814635e-01 2.88758654e-01\n",
      "  2.28516115e-01 3.71248899e-01 4.08035345e-01 6.62285427e-01\n",
      "  7.88617550e-01 5.80857016e-02 5.75630265e-02 5.29217216e-01\n",
      "  2.22794128e-01 7.03902753e-01 1.06419186e-01 6.95500453e-01\n",
      "  3.47341104e-01 1.78427496e-01 8.73465900e-01 6.34741499e-01]\n",
      " [5.32694218e-01 4.04886252e-01 5.58770290e-01 5.02274830e-01\n",
      "  3.06581098e-01 1.41383288e-01 1.42481254e-01 5.99342860e-01\n",
      "  8.70664520e-01 3.31064101e-01 6.96631042e-01 4.42596961e-01\n",
      "  1.57774181e-01 1.40811839e-01 1.91285236e-01 1.64829736e-01\n",
      "  5.87819227e-01 6.24515513e-01 5.28855867e-01 3.53247990e-01\n",
      "  4.35744079e-01 1.32800801e-01 3.37058104e-01 1.12521426e-01\n",
      "  4.32158472e-01 1.91048634e-01 3.38488856e-01 2.51811989e-01]\n",
      " [3.77800882e-01 8.01687921e-02 5.56496472e-01 5.48588422e-01\n",
      "  1.13338714e-01 1.95798570e-01 5.70074982e-02 1.90675155e-01\n",
      "  6.08938449e-01 8.99828418e-01 9.24838779e-01 4.60384986e-01\n",
      "  2.98615822e-01 1.93716984e-01 4.89700490e-01 1.42486510e-01\n",
      "  9.56176728e-01 5.25080123e-01 2.57937073e-01 7.04572437e-01\n",
      "  1.13081289e-03 3.33487517e-01 2.82984872e-01 1.07625288e-01\n",
      "  5.39795584e-01 9.75858908e-01 9.00393948e-01 1.88410754e-01]\n",
      " [7.20882272e-01 8.51161109e-01 6.92256591e-01 5.86283581e-01\n",
      "  8.25880593e-01 5.05190700e-01 6.82695954e-02 6.32663202e-01\n",
      "  2.36611252e-02 9.01551501e-01 5.53349648e-01 1.43337896e-01\n",
      "  6.65488646e-01 2.01768352e-01 1.51978853e-01 3.17390751e-01\n",
      "  2.58285911e-01 6.24569678e-01 2.48854139e-01 3.53459982e-01\n",
      "  3.70515450e-01 8.83405378e-01 5.80938426e-02 9.21597131e-01\n",
      "  6.95429199e-01 2.90827342e-01 7.28546707e-01 5.79929210e-01]\n",
      " [3.30998171e-01 3.59976845e-02 8.20101054e-01 1.03981192e-01\n",
      "  6.13693765e-01 6.71604799e-01 2.41765563e-01 6.43777665e-01\n",
      "  9.11486125e-01 8.47381021e-01 6.94392081e-01 9.86069013e-01\n",
      "  6.67298257e-01 5.73528029e-01 4.39674842e-01 1.29421434e-01\n",
      "  6.04603648e-01 9.94772114e-02 9.24822563e-01 2.22927967e-01\n",
      "  9.13250749e-01 3.86191752e-01 1.06275089e-01 9.71827598e-01\n",
      "  9.31685641e-01 5.74100205e-01 3.47295201e-01 8.34858532e-01]\n",
      " [2.31659147e-01 7.34487465e-01 1.96514218e-01 7.61300145e-02\n",
      "  6.55794214e-01 1.85963853e-01 3.32010245e-01 9.39265855e-01\n",
      "  4.26146921e-01 7.95368215e-01 6.63717403e-01 1.03717419e-01\n",
      "  2.66184867e-02 8.49234526e-01 6.55266586e-01 8.10730221e-01\n",
      "  9.04001643e-01 6.51962896e-01 6.76336112e-01 8.92913146e-02\n",
      "  7.76250848e-01 2.84028035e-01 6.11950375e-01 9.45098013e-01\n",
      "  4.14820339e-01 7.16689574e-01 9.10136619e-01 7.82671461e-01]\n",
      " [1.01792077e-01 7.72760393e-01 5.30660780e-01 9.88526795e-03\n",
      "  4.52200291e-02 9.06303643e-01 9.78714301e-01 2.74799378e-01\n",
      "  9.53348540e-01 4.04406417e-01 7.71389221e-01 4.44266166e-02\n",
      "  4.64689286e-01 7.49413848e-02 7.00267218e-01 2.04543021e-01\n",
      "  5.45283429e-01 7.03313619e-01 5.45854909e-01 5.96198059e-01\n",
      "  9.42121694e-01 2.99941051e-01 4.47854497e-01 2.28331486e-01\n",
      "  2.55450533e-01 5.28992300e-01 2.52871686e-01 3.98911735e-01]\n",
      " [5.25452433e-01 7.90262434e-01 7.57056413e-01 5.75863923e-01\n",
      "  4.01364309e-01 2.85014115e-01 4.77347778e-01 3.45385156e-01\n",
      "  2.49975126e-02 6.38466330e-01 5.54045882e-01 5.22506120e-01\n",
      "  1.66897061e-01 8.37246012e-01 1.51041251e-01 9.74955296e-01\n",
      "  4.37582050e-01 5.71330237e-01 8.86404404e-01 3.88087307e-01\n",
      "  4.97880357e-01 4.51119944e-01 7.35147331e-01 8.47449686e-01\n",
      "  8.35949580e-01 6.00630261e-01 7.48427165e-01 5.13819652e-01]\n",
      " [2.35699291e-01 9.98422710e-01 3.36197536e-02 3.56842554e-01\n",
      "  6.28673722e-01 5.91671307e-01 7.55837199e-01 3.66174706e-01\n",
      "  2.88691582e-01 9.01199966e-01 4.31986537e-01 9.10609507e-01\n",
      "  3.76470361e-01 8.15764096e-01 3.55579705e-01 7.36142701e-01\n",
      "  9.88662278e-01 6.07945489e-01 8.94323271e-01 7.30721111e-02\n",
      "  3.14563118e-01 3.33311434e-01 4.70097089e-01 2.23003445e-01\n",
      "  2.51053899e-01 8.89767909e-01 6.63452504e-01 9.98073630e-01]\n",
      " [2.81283621e-01 9.75569798e-01 2.35729624e-01 8.86684802e-01\n",
      "  8.36717146e-01 2.76431099e-01 5.11043979e-01 6.14264936e-02\n",
      "  1.17534934e-01 2.02442992e-01 1.23267444e-01 6.89598715e-01\n",
      "  5.27412985e-02 2.89088153e-01 7.59396840e-01 8.42762940e-01\n",
      "  7.78306557e-01 6.97419238e-03 5.98985683e-01 9.58868704e-02\n",
      "  6.43372672e-01 9.63435361e-01 7.34118690e-01 3.12283781e-01\n",
      "  2.17887604e-01 9.73999717e-01 5.09542453e-01 5.99432756e-01]\n",
      " [5.73789429e-01 5.24227191e-01 6.50639642e-01 6.81888697e-01\n",
      "  9.06857162e-01 1.40690196e-01 3.82941338e-01 6.39335970e-01\n",
      "  2.15016610e-02 6.49257778e-01 5.99323033e-01 9.85805190e-01\n",
      "  6.77338801e-01 8.91029540e-01 1.60600494e-01 4.56600885e-02\n",
      "  2.54777435e-01 8.45646651e-01 7.20491965e-02 4.54573222e-01\n",
      "  2.51876402e-01 3.97711918e-02 4.61971323e-01 4.87879710e-01\n",
      "  2.67047719e-01 7.68348387e-01 5.04918820e-01 3.64588436e-01]\n",
      " [6.89733691e-01 4.37247402e-01 6.73026099e-01 9.70807924e-01\n",
      "  9.23842731e-01 8.66702197e-01 9.31118146e-01 1.09111201e-01\n",
      "  9.45669045e-01 3.75050216e-02 4.94334390e-01 8.37932311e-01\n",
      "  1.45097853e-01 4.79413903e-01 2.04349059e-02 2.28026237e-01\n",
      "  2.24222094e-01 4.05753287e-01 2.12073054e-01 7.66661727e-01\n",
      "  6.49369079e-02 4.68666313e-01 6.21837794e-01 1.71596241e-01\n",
      "  1.66982641e-01 9.51385888e-01 8.51756078e-01 8.59750923e-01]\n",
      " [8.35078483e-01 4.93612681e-01 3.09667763e-01 8.47102455e-01\n",
      "  5.91767709e-01 4.41687790e-03 7.75392590e-01 4.37860177e-02\n",
      "  5.36663502e-02 3.57627069e-01 6.86543676e-01 5.34915331e-01\n",
      "  2.01719746e-01 1.54677968e-01 7.65081788e-01 1.61643324e-01\n",
      "  6.89162166e-01 5.94697395e-01 1.02727612e-01 5.26430587e-01\n",
      "  5.06143799e-01 2.26981981e-02 6.22647229e-01 9.47403263e-01\n",
      "  4.06621098e-01 2.76802424e-01 6.93446814e-01 6.99513428e-01]\n",
      " [6.47926757e-01 6.48733830e-01 4.99376723e-01 1.42391375e-01\n",
      "  6.76748627e-01 4.42181829e-01 4.65905870e-01 6.88516184e-01\n",
      "  3.93097583e-01 2.32131040e-01 9.06837715e-01 2.00456090e-01\n",
      "  8.01629169e-02 4.89959473e-01 9.05992178e-02 7.21547627e-01\n",
      "  3.36305868e-01 4.53373543e-01 1.98379760e-01 4.88693112e-01\n",
      "  7.19623123e-01 2.59289264e-01 8.84924140e-01 6.00617296e-01\n",
      "  6.48350330e-01 1.23151689e-02 3.92408493e-01 7.44001962e-01]\n",
      " [6.77458057e-02 1.35865643e-01 4.07373374e-01 5.67583437e-01\n",
      "  3.42457156e-01 3.34428682e-01 9.78111698e-01 9.31021750e-01\n",
      "  2.62485559e-01 7.06710988e-01 2.55431967e-01 1.69061153e-02\n",
      "  5.42098944e-01 6.04247101e-01 1.76279050e-01 1.97422193e-01\n",
      "  4.74201431e-01 6.83073029e-01 7.58799657e-01 1.29138610e-01\n",
      "  5.60816396e-01 1.48532858e-01 9.56106210e-01 2.76721854e-01\n",
      "  8.91633530e-01 2.04661304e-01 4.94179108e-01 4.25335733e-01]\n",
      " [6.18639828e-01 2.51477088e-01 3.38154952e-01 3.88231315e-01\n",
      "  7.04708952e-01 2.63386237e-01 2.38062096e-01 4.30558798e-02\n",
      "  3.93209588e-01 5.76326494e-01 7.01588504e-01 7.14304990e-01\n",
      "  4.26486533e-01 7.51275673e-01 3.34712437e-01 4.69100352e-01\n",
      "  2.29454387e-01 8.37084046e-01 2.03720931e-01 6.60596158e-01\n",
      "  4.35420054e-01 3.47768557e-02 2.13352435e-01 2.34598782e-01\n",
      "  9.15519830e-01 6.18067966e-01 7.43802083e-01 9.93921577e-01]\n",
      " [2.52265580e-01 2.88222301e-01 8.80913148e-02 1.21252605e-01\n",
      "  2.09781677e-01 5.57746442e-01 5.92100323e-01 7.14427318e-02\n",
      "  1.19576208e-01 3.15594278e-01 9.28601739e-01 8.43665334e-01\n",
      "  3.08988436e-01 3.92069482e-01 1.35238143e-01 5.29891575e-01\n",
      "  6.98486946e-01 4.25557993e-01 2.04009803e-01 3.98523423e-01\n",
      "  2.08715201e-01 2.86095180e-01 2.36047902e-01 4.65636748e-02\n",
      "  1.37454526e-01 8.01260339e-04 7.28840655e-01 2.47752119e-01]\n",
      " [7.64221580e-02 8.04306453e-01 2.30890109e-02 7.19816695e-01\n",
      "  3.78633957e-01 8.69750863e-01 6.82444048e-01 4.44506486e-01\n",
      "  5.35734002e-02 3.66656194e-01 9.26928776e-01 5.23918755e-01\n",
      "  7.56903442e-02 4.02937529e-01 9.95964749e-01 3.69587736e-01\n",
      "  2.13560440e-01 6.62986605e-01 5.51007690e-01 8.96319986e-01\n",
      "  1.48560727e-01 7.31786001e-01 8.92438207e-01 3.88464994e-01\n",
      "  2.45631627e-01 4.51124711e-01 2.57164032e-01 9.71819207e-01]\n",
      " [5.97258790e-01 7.72437112e-01 2.48444763e-01 9.04128840e-01\n",
      "  4.78007285e-01 3.78493534e-01 5.51359125e-01 7.39405178e-01\n",
      "  1.91219281e-01 3.80383147e-02 8.45277234e-01 6.61287639e-01\n",
      "  9.83950615e-02 3.35221080e-01 2.72026996e-02 5.14125394e-01\n",
      "  9.35753869e-01 3.84662847e-01 1.79810376e-01 3.11953579e-01\n",
      "  1.32976917e-01 4.03705555e-01 8.11160019e-01 5.09868208e-01\n",
      "  6.75433797e-01 5.74587346e-01 5.95623904e-01 2.44700026e-01]]\n",
      "[[0.30732962 0.6265485 ]\n",
      " [0.62020547 0.21020048]]\n"
     ]
    },
    {
     "data": {
      "text/plain": [
       "(27, 27)"
      ]
     },
     "execution_count": 92,
     "metadata": {},
     "output_type": "execute_result"
    }
   ],
   "source": [
    "arr = np.random.rand(28, 28)\n",
    "print(arr)\n",
    "kernel = np.random.rand(2, 2)\n",
    "print (kernel)\n",
    "z = convolusi(arr, 2, \"no\")\n",
    "z.shape\n"
   ]
  },
  {
   "cell_type": "code",
   "execution_count": 96,
   "id": "13259a9d",
   "metadata": {},
   "outputs": [
    {
     "name": "stdout",
     "output_type": "stream",
     "text": [
      "(2, 2)\n",
      "(27, 27)\n",
      "(28, 28)\n",
      "(2, 2)\n",
      "(28, 28)\n"
     ]
    },
    {
     "data": {
      "text/plain": [
       "(array([[-1.4113853 , -1.13744684],\n",
       "        [-0.98728017, -1.51774013]]),\n",
       " array([[ 0.84633973,  0.86584519,  0.82473368,  0.36162289,  0.15958532,\n",
       "          0.77551903,  0.78702424,  0.54185633,  0.19673098,  0.56639977,\n",
       "          0.62016931,  0.21416749,  0.06412399,  0.53838224,  0.24080465,\n",
       "          0.69132462,  0.0554593 ,  0.65082812,  0.14396845,  0.35577177,\n",
       "          0.33244039,  0.0777502 ,  0.03039796,  0.72107484,  0.88285859,\n",
       "          0.47145771,  0.33822177,  0.62367513],\n",
       "        [ 0.02265547,  0.09224002,  0.1810439 ,  0.21907969,  0.39951169,\n",
       "          0.48818634, -0.00667185,  0.13142242,  0.41419708,  0.63123602,\n",
       "          0.26446032,  0.98838996,  0.52646987,  0.36141978,  0.85074619,\n",
       "          0.6628771 ,  0.48969251,  0.20251134,  0.77094406,  0.42290902,\n",
       "          0.4813938 ,  0.32286501,  0.97987228,  0.03347392,  0.57680608,\n",
       "          0.68087306,  0.35953425,  0.53563078],\n",
       "        [ 0.58175447,  0.29766564,  0.25778323,  0.09855615,  0.94237185,\n",
       "          0.85051537,  0.92638899,  0.56811768,  0.3660417 ,  0.39249306,\n",
       "          0.35822546,  0.58673574,  0.80150957,  0.74495971,  0.23028635,\n",
       "          0.09058857,  0.38978094,  0.36640121,  0.57229709,  0.14505345,\n",
       "          0.26359598,  0.86033211,  0.21663276,  0.3011358 ,  0.91987375,\n",
       "          0.44361327,  0.48031207,  0.93510502],\n",
       "        [ 0.17612959,  0.69876287,  0.64999492,  0.3293922 ,  0.00914951,\n",
       "          0.65512398,  0.40579687,  0.67200641,  0.56541669,  0.86299247,\n",
       "          0.93465001,  0.98827152,  0.52886855,  0.1619939 ,  0.12067699,\n",
       "          0.75821226,  0.3784202 ,  0.52052207,  0.16882582,  0.06484411,\n",
       "          0.89012363,  0.47094113,  0.63055786,  0.65753099,  0.85138663,\n",
       "         -0.00126315,  0.8748697 ,  0.88644829],\n",
       "        [ 0.17453777, -0.00674011,  0.61942078,  0.18048265,  0.4616291 ,\n",
       "          0.23967536,  0.63672079,  0.75858425,  0.47730565,  0.72296335,\n",
       "          0.58782356,  0.05839422,  0.57909301,  0.27594175,  0.82508758,\n",
       "          0.27339645,  0.02622334,  0.48373974,  0.02264787,  0.44251469,\n",
       "          0.99000678,  0.64592852, -0.00763515,  0.61233409,  0.39624628,\n",
       "          0.22316633,  0.1504924 ,  0.98897934],\n",
       "        [ 0.28129848,  0.8807777 ,  0.31484899,  0.68016981,  0.65699528,\n",
       "          0.47515188,  0.81989662,  0.91048818,  0.82349548,  0.55253636,\n",
       "          0.97548203,  0.61985663,  0.22173478,  0.74306495,  0.30317581,\n",
       "          0.24525986,  0.64911538,  0.27683619,  0.40217219,  0.38314155,\n",
       "          0.82445827,  0.85802342,  0.01483589,  0.12042368,  0.37467149,\n",
       "          0.71848859,  0.79245302,  0.18207022],\n",
       "        [ 0.87876626,  0.51972999,  0.63039581,  0.40323772,  0.04662959,\n",
       "          0.94437003,  0.2658926 ,  0.61249525,  0.05852538,  0.31016833,\n",
       "          0.28779256,  0.18038094,  0.49741313,  0.86203431,  0.66474853,\n",
       "          0.10627049,  0.54799679,  0.13731237,  0.62215983,  0.92806381,\n",
       "          0.84422684,  0.02220841,  0.66367272,  0.54743993,  0.67771695,\n",
       "          0.12364284,  0.6683929 ,  0.54870644],\n",
       "        [ 0.37530009,  0.45836172,  0.53434146,  0.00642273,  0.16448947,\n",
       "          0.55199009,  0.41908223,  0.22408083,  0.96333472,  0.44323459,\n",
       "          0.63945203,  0.63615814,  0.89247668,  0.94483371,  0.14083299,\n",
       "          0.78284981,  0.21179188,  0.91071496,  0.51149089,  0.27973591,\n",
       "          0.77339285,  0.28493783,  0.34450729,  0.90666141,  0.33405435,\n",
       "          0.82138322,  0.69209546,  0.87431232],\n",
       "        [ 0.8176676 ,  0.26743482,  0.3278769 ,  0.0481957 ,  0.42137224,\n",
       "          0.03438094,  0.19695335,  0.63781892,  0.80140177,  0.633318  ,\n",
       "          0.39909967,  0.79951862,  0.12530497,  0.78088791,  0.04491256,\n",
       "          0.14805533,  0.44659782,  0.02778277,  0.44251002,  0.71801535,\n",
       "          0.69473088,  0.75875328,  0.61468099,  0.52231496,  0.44532356,\n",
       "          0.62415832,  0.4640192 ,  0.6162518 ],\n",
       "        [ 0.82396549,  0.23569947,  0.78791027, -0.00706573,  0.7567921 ,\n",
       "          0.77913873,  0.56119843,  0.77273695,  0.34535714,  0.34780546,\n",
       "          0.92927227,  0.280426  ,  0.21968673,  0.36228243,  0.39924592,\n",
       "          0.65347432,  0.78026086,  0.04987752,  0.04893208,  0.52050141,\n",
       "          0.213686  ,  0.69508758,  0.09715866,  0.6867015 ,  0.33837216,\n",
       "          0.16941261,  0.8645676 ,  0.63046513],\n",
       "        [ 0.52821749,  0.39591961,  0.54996837,  0.49392825,  0.29772591,\n",
       "          0.13209022,  0.13307965,  0.5900738 ,  0.8621309 ,  0.32257117,\n",
       "          0.68865483,  0.43469579,  0.14926755,  0.13199132,  0.18237637,\n",
       "          0.15574993,  0.57916607,  0.61683703,  0.52049509,  0.34468082,\n",
       "          0.42726179,  0.12371372,  0.32834474,  0.1034743 ,  0.42347122,\n",
       "          0.18266167,  0.33038601,  0.24821141],\n",
       "        [ 0.37344644,  0.07183444,  0.54834791,  0.54045806,  0.10521355,\n",
       "          0.1879129 ,  0.04832615,  0.18143278,  0.60011957,  0.89097018,\n",
       "          0.91683452,  0.45193563,  0.29012325,  0.18542199,  0.48110623,\n",
       "          0.13340958,  0.94740968,  0.51635664,  0.24929937,  0.69599193,\n",
       "         -0.00754305,  0.32521383,  0.27490913,  0.0988926 ,  0.5318366 ,\n",
       "          0.9676835 ,  0.89219062,  0.18479218],\n",
       "        [ 0.71663207,  0.84248197,  0.68344797,  0.57796636,  0.81741183,\n",
       "          0.49733277,  0.05995215,  0.62420231,  0.01496079,  0.89327957,\n",
       "          0.54512856,  0.13509506,  0.65784478,  0.19356555,  0.14359023,\n",
       "          0.30854598,  0.24911716,  0.61608618,  0.24006888,  0.34532756,\n",
       "          0.3620101 ,  0.8756788 ,  0.04928806,  0.9131262 ,  0.68746959,\n",
       "          0.28220391,  0.71996034,  0.5756912 ],\n",
       "        [ 0.32612131,  0.0267716 ,  0.81168276,  0.09456946,  0.60462351,\n",
       "          0.66335852,  0.23283164,  0.63539754,  0.9034001 ,  0.83881282,\n",
       "          0.68626254,  0.97771469,  0.65829038,  0.56499033,  0.43187629,\n",
       "          0.12122428,  0.59673166,  0.0912237 ,  0.91687786,  0.21431839,\n",
       "          0.90448189,  0.37792891,  0.09725633,  0.9633908 ,  0.92364083,\n",
       "          0.56560318,  0.33887915,  0.83099605],\n",
       "        [ 0.22694831,  0.7258943 ,  0.18834407,  0.06728579,  0.6465777 ,\n",
       "          0.17710984,  0.32392498,  0.93101099,  0.41713109,  0.78698351,\n",
       "          0.65502108,  0.09489714,  0.01718118,  0.84049512,  0.64656691,\n",
       "          0.80237226,  0.89546233,  0.64353903,  0.66814981,  0.08050195,\n",
       "          0.76802675,  0.27591452,  0.60306794,  0.93618186,  0.40554231,\n",
       "          0.7078737 ,  0.90148486,  0.7782165 ],\n",
       "        [ 0.09687426,  0.76449458,  0.52296138,  0.00171434,  0.03653589,\n",
       "          0.89776284,  0.97008362,  0.26583324,  0.94445445,  0.39515856,\n",
       "          0.76328399,  0.03617955,  0.45617447,  0.06583471,  0.69176318,\n",
       "          0.19541203,  0.53683693,  0.69459581,  0.53764039,  0.58793327,\n",
       "          0.93368294,  0.29133526,  0.43916435,  0.21995469,  0.24717983,\n",
       "          0.52059691,  0.24413237,  0.39505302],\n",
       "        [ 0.52075807,  0.78161992,  0.74904758,  0.56727324,  0.39281536,\n",
       "          0.27619269,  0.46887424,  0.33693599,  0.01586642,  0.62977867,\n",
       "          0.54596426,  0.51436226,  0.15874027,  0.82901435,  0.14258364,\n",
       "          0.966622  ,  0.4293697 ,  0.56310509,  0.87822155,  0.37945144,\n",
       "          0.48871774,  0.44230114,  0.7265799 ,  0.83902735,  0.827232  ,\n",
       "          0.5921136 ,  0.74056389,  0.5099507 ],\n",
       "        [ 0.23060201,  0.98990656,  0.02511774,  0.34808656,  0.62080721,\n",
       "          0.58343349,  0.74730461,  0.35774533,  0.27952151,  0.89225182,\n",
       "          0.42280246,  0.90208919,  0.36778354,  0.80685798,  0.34673425,\n",
       "          0.72779616,  0.98067608,  0.59918781,  0.88545787,  0.06435436,\n",
       "          0.30566926,  0.32496113,  0.46190005,  0.21422927,  0.24175248,\n",
       "          0.88104387,  0.65518002,  0.99376443],\n",
       "        [ 0.27636579,  0.96734139,  0.22731486,  0.87844608,  0.8286326 ,\n",
       "          0.26787294,  0.50212916,  0.05290489,  0.10875   ,  0.19333757,\n",
       "          0.11450841,  0.68140737,  0.04451145,  0.28067133,  0.75099907,\n",
       "          0.83341272,  0.76913304, -0.0021262 ,  0.59070894,  0.08695912,\n",
       "          0.63478835,  0.95464362,  0.72539922,  0.30394716,  0.20894482,\n",
       "          0.9652662 ,  0.50090671,  0.59524316],\n",
       "        [ 0.56928356,  0.51573032,  0.64199513,  0.67337205,  0.89910568,\n",
       "          0.13269156,  0.37507866,  0.63156228,  0.01292391,  0.64128821,\n",
       "          0.5903337 ,  0.97768961,  0.66921293,  0.88237386,  0.15156986,\n",
       "          0.03610054,  0.24571161,  0.8371544 ,  0.06333293,  0.44600272,\n",
       "          0.24317903,  0.03028395,  0.45335605,  0.47954692,  0.25778978,\n",
       "          0.75956204,  0.49690968,  0.36091435],\n",
       "        [ 0.68553786,  0.42887367,  0.66415765,  0.96199932,  0.9157119 ,\n",
       "          0.85821633,  0.9224961 ,  0.10055978,  0.93686145,  0.02823468,\n",
       "          0.48533624,  0.82948012,  0.13603137,  0.47047468,  0.01189173,\n",
       "          0.21988755,  0.21533466,  0.39753166,  0.20343817,  0.75810275,\n",
       "          0.05661144,  0.46009281,  0.61305889,  0.16345778,  0.15856678,\n",
       "          0.94259279,  0.84314658,  0.85573895],\n",
       "        [ 0.83090213,  0.48525811,  0.30081903,  0.83805002,  0.58270764,\n",
       "         -0.00463699,  0.76691105,  0.03517657,  0.04516992,  0.34889471,\n",
       "          0.67785887,  0.52673821,  0.19280287,  0.14578015,  0.75684093,\n",
       "          0.15292899,  0.68097702,  0.58630999,  0.09386427,  0.51767633,\n",
       "          0.49799066,  0.01404779,  0.61404159,  0.93974407,  0.39825297,\n",
       "          0.26771118,  0.68400162,  0.69516391],\n",
       "        [ 0.64321524,  0.63970646,  0.49044487,  0.13342886,  0.66840972,\n",
       "          0.43347222,  0.45747324,  0.68110572,  0.38520537,  0.22326101,\n",
       "          0.89850699,  0.19156282,  0.07128823,  0.48164867,  0.08187583,\n",
       "          0.71268364,  0.3273073 ,  0.44505117,  0.19018037,  0.48017837,\n",
       "          0.71109086,  0.25061057,  0.87612096,  0.59224345,  0.64003969,\n",
       "          0.00389387,  0.38328934,  0.73977112],\n",
       "        [ 0.06293374,  0.12711846,  0.39859243,  0.55895722,  0.33386166,\n",
       "          0.32580991,  0.96919797,  0.92220077,  0.25346456,  0.69815416,\n",
       "          0.2470684 ,  0.008748  ,  0.53391327,  0.59609321,  0.16794778,\n",
       "          0.18860232,  0.46549665,  0.67458316,  0.75077723,  0.120164  ,\n",
       "          0.55250999,  0.13937903,  0.94697913,  0.26744453,  0.88335937,\n",
       "          0.19673015,  0.48583561,  0.42151159],\n",
       "        [ 0.61448319,  0.24279779,  0.32922232,  0.37905999,  0.69592026,\n",
       "          0.25443269,  0.22923267,  0.03413073,  0.38396163,  0.56732434,\n",
       "          0.69337291,  0.70665211,  0.41808215,  0.74271669,  0.32612016,\n",
       "          0.46043238,  0.22079504,  0.82868086,  0.19486398,  0.65188558,\n",
       "          0.42691162,  0.02569389,  0.20436078,  0.22525037,  0.90645223,\n",
       "          0.60901767,  0.73489364,  0.98988138],\n",
       "        [ 0.24749007,  0.27959529,  0.07971215,  0.11223195,  0.20128241,\n",
       "          0.54943183,  0.58448894,  0.0632805 ,  0.11072569,  0.30623143,\n",
       "          0.91996767,  0.83564779,  0.30013495,  0.38306839,  0.12673973,\n",
       "          0.52187156,  0.68973135,  0.41686452,  0.19557864,  0.39022023,\n",
       "          0.20056524,  0.27762695,  0.22821523,  0.03822942,  0.12844799,\n",
       "         -0.00847376,  0.71990079,  0.24346941],\n",
       "        [ 0.07171017,  0.7964997 ,  0.01485042,  0.71163646,  0.37047911,\n",
       "          0.86115797,  0.67403151,  0.43657606,  0.04529594,  0.35733651,\n",
       "          0.9178808 ,  0.51580464,  0.06709383,  0.39398169,  0.98739935,\n",
       "          0.36054538,  0.20501459,  0.65499708,  0.54230659,  0.88781188,\n",
       "          0.13972758,  0.72303917,  0.88445313,  0.38065501,  0.23752397,\n",
       "          0.44296676,  0.24858506,  0.96764733],\n",
       "        [ 0.59432201,  0.76883749,  0.24433746,  0.90041358,  0.47395827,\n",
       "          0.3741032 ,  0.54724227,  0.73584782,  0.18725584,  0.03336344,\n",
       "          0.84123653,  0.65768433,  0.09427361,  0.33077426,  0.02251394,\n",
       "          0.51008635,  0.93222102,  0.38060977,  0.17522134,  0.3076305 ,\n",
       "          0.12855011,  0.39920641,  0.80725298,  0.50607751,  0.67172538,\n",
       "          0.57084723,  0.59161749,  0.24366505]]))"
      ]
     },
     "execution_count": 96,
     "metadata": {},
     "output_type": "execute_result"
    }
   ],
   "source": [
    "backConvolusi(z, kernel, arr)"
   ]
  },
  {
   "cell_type": "code",
   "execution_count": 94,
   "id": "de7d306f",
   "metadata": {},
   "outputs": [],
   "source": [
    "# convolusi buat back convolusi dengan kernel sudah berupa array\n",
    "def convolusiBack(img= np.array, kernel= np.array, padding= \"\"):\n",
    "    kernel_size = kernel.shape[0]\n",
    "    h, w = img.shape\n",
    "    if padding == \"Same\" :\n",
    "        add_padding_width = kernel_size//2\n",
    "        img_with_padding = np.zeros(shape = (h + add_padding_width * 2, w + add_padding_width * 2))\n",
    "        img_with_padding[add_padding_width:-add_padding_width, add_padding_width:-add_padding_width] = img\n",
    "        img = img_with_padding\n",
    "#         print(img)\n",
    "    else :\n",
    "        img = img\n",
    "        \n",
    "    target = outputShape(img.shape[0], kernel_size)\n",
    "    output = np.zeros(shape=(target, target))\n",
    "    for i in range(target):\n",
    "        for j in range(target):\n",
    "            mat = img[i:i+kernel_size, j:j+kernel_size]\n",
    "            output[i,j] = np.sum(np.multiply(mat, kernel))\n",
    "#     print(output.shape)\n",
    "    return output\n"
   ]
  },
  {
   "cell_type": "code",
   "execution_count": 97,
   "id": "37b466fb",
   "metadata": {},
   "outputs": [],
   "source": [
    "def backConvolusi(dz, w, inputan, lr=0.005):\n",
    "    w = np.array(w)\n",
    "    print(w.shape)\n",
    "    dz= np.array(dz)\n",
    "    print(z.shape)\n",
    "    inputan = np.array(inputan)\n",
    "    print(inputan.shape)\n",
    "    dW = convolusiBack(inputan, dz, \"no\")\n",
    "    w_rotate = np.rot90(w, 2)\n",
    "    dX = convolusiBack(dz, w_rotate, \"Same\")\n",
    "    \n",
    "    wUpdate = w - lr*dW\n",
    "    inputUpdate = inputan -lr*dX\n",
    "    print (wUpdate.shape)\n",
    "    print(inputUpdate.shape)\n",
    "    \n",
    "    return wUpdate, inputUpdate"
   ]
  },
  {
   "cell_type": "code",
   "execution_count": 98,
   "id": "2870a6bb",
   "metadata": {},
   "outputs": [
    {
     "name": "stdout",
     "output_type": "stream",
     "text": [
      "(2, 2)\n",
      "(27, 27)\n",
      "(28, 28)\n",
      "(2, 2)\n",
      "(28, 28)\n"
     ]
    },
    {
     "data": {
      "text/plain": [
       "(array([[-1.4113853 , -1.13744684],\n",
       "        [-0.98728017, -1.51774013]]),\n",
       " array([[ 0.84633973,  0.86584519,  0.82473368,  0.36162289,  0.15958532,\n",
       "          0.77551903,  0.78702424,  0.54185633,  0.19673098,  0.56639977,\n",
       "          0.62016931,  0.21416749,  0.06412399,  0.53838224,  0.24080465,\n",
       "          0.69132462,  0.0554593 ,  0.65082812,  0.14396845,  0.35577177,\n",
       "          0.33244039,  0.0777502 ,  0.03039796,  0.72107484,  0.88285859,\n",
       "          0.47145771,  0.33822177,  0.62367513],\n",
       "        [ 0.02265547,  0.09224002,  0.1810439 ,  0.21907969,  0.39951169,\n",
       "          0.48818634, -0.00667185,  0.13142242,  0.41419708,  0.63123602,\n",
       "          0.26446032,  0.98838996,  0.52646987,  0.36141978,  0.85074619,\n",
       "          0.6628771 ,  0.48969251,  0.20251134,  0.77094406,  0.42290902,\n",
       "          0.4813938 ,  0.32286501,  0.97987228,  0.03347392,  0.57680608,\n",
       "          0.68087306,  0.35953425,  0.53563078],\n",
       "        [ 0.58175447,  0.29766564,  0.25778323,  0.09855615,  0.94237185,\n",
       "          0.85051537,  0.92638899,  0.56811768,  0.3660417 ,  0.39249306,\n",
       "          0.35822546,  0.58673574,  0.80150957,  0.74495971,  0.23028635,\n",
       "          0.09058857,  0.38978094,  0.36640121,  0.57229709,  0.14505345,\n",
       "          0.26359598,  0.86033211,  0.21663276,  0.3011358 ,  0.91987375,\n",
       "          0.44361327,  0.48031207,  0.93510502],\n",
       "        [ 0.17612959,  0.69876287,  0.64999492,  0.3293922 ,  0.00914951,\n",
       "          0.65512398,  0.40579687,  0.67200641,  0.56541669,  0.86299247,\n",
       "          0.93465001,  0.98827152,  0.52886855,  0.1619939 ,  0.12067699,\n",
       "          0.75821226,  0.3784202 ,  0.52052207,  0.16882582,  0.06484411,\n",
       "          0.89012363,  0.47094113,  0.63055786,  0.65753099,  0.85138663,\n",
       "         -0.00126315,  0.8748697 ,  0.88644829],\n",
       "        [ 0.17453777, -0.00674011,  0.61942078,  0.18048265,  0.4616291 ,\n",
       "          0.23967536,  0.63672079,  0.75858425,  0.47730565,  0.72296335,\n",
       "          0.58782356,  0.05839422,  0.57909301,  0.27594175,  0.82508758,\n",
       "          0.27339645,  0.02622334,  0.48373974,  0.02264787,  0.44251469,\n",
       "          0.99000678,  0.64592852, -0.00763515,  0.61233409,  0.39624628,\n",
       "          0.22316633,  0.1504924 ,  0.98897934],\n",
       "        [ 0.28129848,  0.8807777 ,  0.31484899,  0.68016981,  0.65699528,\n",
       "          0.47515188,  0.81989662,  0.91048818,  0.82349548,  0.55253636,\n",
       "          0.97548203,  0.61985663,  0.22173478,  0.74306495,  0.30317581,\n",
       "          0.24525986,  0.64911538,  0.27683619,  0.40217219,  0.38314155,\n",
       "          0.82445827,  0.85802342,  0.01483589,  0.12042368,  0.37467149,\n",
       "          0.71848859,  0.79245302,  0.18207022],\n",
       "        [ 0.87876626,  0.51972999,  0.63039581,  0.40323772,  0.04662959,\n",
       "          0.94437003,  0.2658926 ,  0.61249525,  0.05852538,  0.31016833,\n",
       "          0.28779256,  0.18038094,  0.49741313,  0.86203431,  0.66474853,\n",
       "          0.10627049,  0.54799679,  0.13731237,  0.62215983,  0.92806381,\n",
       "          0.84422684,  0.02220841,  0.66367272,  0.54743993,  0.67771695,\n",
       "          0.12364284,  0.6683929 ,  0.54870644],\n",
       "        [ 0.37530009,  0.45836172,  0.53434146,  0.00642273,  0.16448947,\n",
       "          0.55199009,  0.41908223,  0.22408083,  0.96333472,  0.44323459,\n",
       "          0.63945203,  0.63615814,  0.89247668,  0.94483371,  0.14083299,\n",
       "          0.78284981,  0.21179188,  0.91071496,  0.51149089,  0.27973591,\n",
       "          0.77339285,  0.28493783,  0.34450729,  0.90666141,  0.33405435,\n",
       "          0.82138322,  0.69209546,  0.87431232],\n",
       "        [ 0.8176676 ,  0.26743482,  0.3278769 ,  0.0481957 ,  0.42137224,\n",
       "          0.03438094,  0.19695335,  0.63781892,  0.80140177,  0.633318  ,\n",
       "          0.39909967,  0.79951862,  0.12530497,  0.78088791,  0.04491256,\n",
       "          0.14805533,  0.44659782,  0.02778277,  0.44251002,  0.71801535,\n",
       "          0.69473088,  0.75875328,  0.61468099,  0.52231496,  0.44532356,\n",
       "          0.62415832,  0.4640192 ,  0.6162518 ],\n",
       "        [ 0.82396549,  0.23569947,  0.78791027, -0.00706573,  0.7567921 ,\n",
       "          0.77913873,  0.56119843,  0.77273695,  0.34535714,  0.34780546,\n",
       "          0.92927227,  0.280426  ,  0.21968673,  0.36228243,  0.39924592,\n",
       "          0.65347432,  0.78026086,  0.04987752,  0.04893208,  0.52050141,\n",
       "          0.213686  ,  0.69508758,  0.09715866,  0.6867015 ,  0.33837216,\n",
       "          0.16941261,  0.8645676 ,  0.63046513],\n",
       "        [ 0.52821749,  0.39591961,  0.54996837,  0.49392825,  0.29772591,\n",
       "          0.13209022,  0.13307965,  0.5900738 ,  0.8621309 ,  0.32257117,\n",
       "          0.68865483,  0.43469579,  0.14926755,  0.13199132,  0.18237637,\n",
       "          0.15574993,  0.57916607,  0.61683703,  0.52049509,  0.34468082,\n",
       "          0.42726179,  0.12371372,  0.32834474,  0.1034743 ,  0.42347122,\n",
       "          0.18266167,  0.33038601,  0.24821141],\n",
       "        [ 0.37344644,  0.07183444,  0.54834791,  0.54045806,  0.10521355,\n",
       "          0.1879129 ,  0.04832615,  0.18143278,  0.60011957,  0.89097018,\n",
       "          0.91683452,  0.45193563,  0.29012325,  0.18542199,  0.48110623,\n",
       "          0.13340958,  0.94740968,  0.51635664,  0.24929937,  0.69599193,\n",
       "         -0.00754305,  0.32521383,  0.27490913,  0.0988926 ,  0.5318366 ,\n",
       "          0.9676835 ,  0.89219062,  0.18479218],\n",
       "        [ 0.71663207,  0.84248197,  0.68344797,  0.57796636,  0.81741183,\n",
       "          0.49733277,  0.05995215,  0.62420231,  0.01496079,  0.89327957,\n",
       "          0.54512856,  0.13509506,  0.65784478,  0.19356555,  0.14359023,\n",
       "          0.30854598,  0.24911716,  0.61608618,  0.24006888,  0.34532756,\n",
       "          0.3620101 ,  0.8756788 ,  0.04928806,  0.9131262 ,  0.68746959,\n",
       "          0.28220391,  0.71996034,  0.5756912 ],\n",
       "        [ 0.32612131,  0.0267716 ,  0.81168276,  0.09456946,  0.60462351,\n",
       "          0.66335852,  0.23283164,  0.63539754,  0.9034001 ,  0.83881282,\n",
       "          0.68626254,  0.97771469,  0.65829038,  0.56499033,  0.43187629,\n",
       "          0.12122428,  0.59673166,  0.0912237 ,  0.91687786,  0.21431839,\n",
       "          0.90448189,  0.37792891,  0.09725633,  0.9633908 ,  0.92364083,\n",
       "          0.56560318,  0.33887915,  0.83099605],\n",
       "        [ 0.22694831,  0.7258943 ,  0.18834407,  0.06728579,  0.6465777 ,\n",
       "          0.17710984,  0.32392498,  0.93101099,  0.41713109,  0.78698351,\n",
       "          0.65502108,  0.09489714,  0.01718118,  0.84049512,  0.64656691,\n",
       "          0.80237226,  0.89546233,  0.64353903,  0.66814981,  0.08050195,\n",
       "          0.76802675,  0.27591452,  0.60306794,  0.93618186,  0.40554231,\n",
       "          0.7078737 ,  0.90148486,  0.7782165 ],\n",
       "        [ 0.09687426,  0.76449458,  0.52296138,  0.00171434,  0.03653589,\n",
       "          0.89776284,  0.97008362,  0.26583324,  0.94445445,  0.39515856,\n",
       "          0.76328399,  0.03617955,  0.45617447,  0.06583471,  0.69176318,\n",
       "          0.19541203,  0.53683693,  0.69459581,  0.53764039,  0.58793327,\n",
       "          0.93368294,  0.29133526,  0.43916435,  0.21995469,  0.24717983,\n",
       "          0.52059691,  0.24413237,  0.39505302],\n",
       "        [ 0.52075807,  0.78161992,  0.74904758,  0.56727324,  0.39281536,\n",
       "          0.27619269,  0.46887424,  0.33693599,  0.01586642,  0.62977867,\n",
       "          0.54596426,  0.51436226,  0.15874027,  0.82901435,  0.14258364,\n",
       "          0.966622  ,  0.4293697 ,  0.56310509,  0.87822155,  0.37945144,\n",
       "          0.48871774,  0.44230114,  0.7265799 ,  0.83902735,  0.827232  ,\n",
       "          0.5921136 ,  0.74056389,  0.5099507 ],\n",
       "        [ 0.23060201,  0.98990656,  0.02511774,  0.34808656,  0.62080721,\n",
       "          0.58343349,  0.74730461,  0.35774533,  0.27952151,  0.89225182,\n",
       "          0.42280246,  0.90208919,  0.36778354,  0.80685798,  0.34673425,\n",
       "          0.72779616,  0.98067608,  0.59918781,  0.88545787,  0.06435436,\n",
       "          0.30566926,  0.32496113,  0.46190005,  0.21422927,  0.24175248,\n",
       "          0.88104387,  0.65518002,  0.99376443],\n",
       "        [ 0.27636579,  0.96734139,  0.22731486,  0.87844608,  0.8286326 ,\n",
       "          0.26787294,  0.50212916,  0.05290489,  0.10875   ,  0.19333757,\n",
       "          0.11450841,  0.68140737,  0.04451145,  0.28067133,  0.75099907,\n",
       "          0.83341272,  0.76913304, -0.0021262 ,  0.59070894,  0.08695912,\n",
       "          0.63478835,  0.95464362,  0.72539922,  0.30394716,  0.20894482,\n",
       "          0.9652662 ,  0.50090671,  0.59524316],\n",
       "        [ 0.56928356,  0.51573032,  0.64199513,  0.67337205,  0.89910568,\n",
       "          0.13269156,  0.37507866,  0.63156228,  0.01292391,  0.64128821,\n",
       "          0.5903337 ,  0.97768961,  0.66921293,  0.88237386,  0.15156986,\n",
       "          0.03610054,  0.24571161,  0.8371544 ,  0.06333293,  0.44600272,\n",
       "          0.24317903,  0.03028395,  0.45335605,  0.47954692,  0.25778978,\n",
       "          0.75956204,  0.49690968,  0.36091435],\n",
       "        [ 0.68553786,  0.42887367,  0.66415765,  0.96199932,  0.9157119 ,\n",
       "          0.85821633,  0.9224961 ,  0.10055978,  0.93686145,  0.02823468,\n",
       "          0.48533624,  0.82948012,  0.13603137,  0.47047468,  0.01189173,\n",
       "          0.21988755,  0.21533466,  0.39753166,  0.20343817,  0.75810275,\n",
       "          0.05661144,  0.46009281,  0.61305889,  0.16345778,  0.15856678,\n",
       "          0.94259279,  0.84314658,  0.85573895],\n",
       "        [ 0.83090213,  0.48525811,  0.30081903,  0.83805002,  0.58270764,\n",
       "         -0.00463699,  0.76691105,  0.03517657,  0.04516992,  0.34889471,\n",
       "          0.67785887,  0.52673821,  0.19280287,  0.14578015,  0.75684093,\n",
       "          0.15292899,  0.68097702,  0.58630999,  0.09386427,  0.51767633,\n",
       "          0.49799066,  0.01404779,  0.61404159,  0.93974407,  0.39825297,\n",
       "          0.26771118,  0.68400162,  0.69516391],\n",
       "        [ 0.64321524,  0.63970646,  0.49044487,  0.13342886,  0.66840972,\n",
       "          0.43347222,  0.45747324,  0.68110572,  0.38520537,  0.22326101,\n",
       "          0.89850699,  0.19156282,  0.07128823,  0.48164867,  0.08187583,\n",
       "          0.71268364,  0.3273073 ,  0.44505117,  0.19018037,  0.48017837,\n",
       "          0.71109086,  0.25061057,  0.87612096,  0.59224345,  0.64003969,\n",
       "          0.00389387,  0.38328934,  0.73977112],\n",
       "        [ 0.06293374,  0.12711846,  0.39859243,  0.55895722,  0.33386166,\n",
       "          0.32580991,  0.96919797,  0.92220077,  0.25346456,  0.69815416,\n",
       "          0.2470684 ,  0.008748  ,  0.53391327,  0.59609321,  0.16794778,\n",
       "          0.18860232,  0.46549665,  0.67458316,  0.75077723,  0.120164  ,\n",
       "          0.55250999,  0.13937903,  0.94697913,  0.26744453,  0.88335937,\n",
       "          0.19673015,  0.48583561,  0.42151159],\n",
       "        [ 0.61448319,  0.24279779,  0.32922232,  0.37905999,  0.69592026,\n",
       "          0.25443269,  0.22923267,  0.03413073,  0.38396163,  0.56732434,\n",
       "          0.69337291,  0.70665211,  0.41808215,  0.74271669,  0.32612016,\n",
       "          0.46043238,  0.22079504,  0.82868086,  0.19486398,  0.65188558,\n",
       "          0.42691162,  0.02569389,  0.20436078,  0.22525037,  0.90645223,\n",
       "          0.60901767,  0.73489364,  0.98988138],\n",
       "        [ 0.24749007,  0.27959529,  0.07971215,  0.11223195,  0.20128241,\n",
       "          0.54943183,  0.58448894,  0.0632805 ,  0.11072569,  0.30623143,\n",
       "          0.91996767,  0.83564779,  0.30013495,  0.38306839,  0.12673973,\n",
       "          0.52187156,  0.68973135,  0.41686452,  0.19557864,  0.39022023,\n",
       "          0.20056524,  0.27762695,  0.22821523,  0.03822942,  0.12844799,\n",
       "         -0.00847376,  0.71990079,  0.24346941],\n",
       "        [ 0.07171017,  0.7964997 ,  0.01485042,  0.71163646,  0.37047911,\n",
       "          0.86115797,  0.67403151,  0.43657606,  0.04529594,  0.35733651,\n",
       "          0.9178808 ,  0.51580464,  0.06709383,  0.39398169,  0.98739935,\n",
       "          0.36054538,  0.20501459,  0.65499708,  0.54230659,  0.88781188,\n",
       "          0.13972758,  0.72303917,  0.88445313,  0.38065501,  0.23752397,\n",
       "          0.44296676,  0.24858506,  0.96764733],\n",
       "        [ 0.59432201,  0.76883749,  0.24433746,  0.90041358,  0.47395827,\n",
       "          0.3741032 ,  0.54724227,  0.73584782,  0.18725584,  0.03336344,\n",
       "          0.84123653,  0.65768433,  0.09427361,  0.33077426,  0.02251394,\n",
       "          0.51008635,  0.93222102,  0.38060977,  0.17522134,  0.3076305 ,\n",
       "          0.12855011,  0.39920641,  0.80725298,  0.50607751,  0.67172538,\n",
       "          0.57084723,  0.59161749,  0.24366505]]))"
      ]
     },
     "execution_count": 98,
     "metadata": {},
     "output_type": "execute_result"
    }
   ],
   "source": [
    "backConvolusi(z, kernel, arr)"
   ]
  },
  {
   "cell_type": "code",
   "execution_count": 99,
   "id": "432f16e4",
   "metadata": {
    "scrolled": true
   },
   "outputs": [
    {
     "name": "stdout",
     "output_type": "stream",
     "text": [
      "[-1.01188517 -0.13088477  2.24308941  0.8432228  -0.35600541 -1.41164627\n",
      "  1.54682391  2.12009061 -0.23453415 -0.81732062]\n",
      "[[ 1.08453624  0.11664916  0.43110551  0.12124803  0.26587228  0.01091593\n",
      "   0.33680875 -0.90118293  0.01095148 -0.50098021]\n",
      " [ 0.11357105  0.22784734  0.33783959 -1.01938619 -0.08561187  0.72805635\n",
      "   0.31264479 -0.79157148 -0.17494865 -0.92534485]]\n",
      "[-1.13622051 -1.64104957]\n"
     ]
    }
   ],
   "source": [
    "gfg1 = np.random.randn(10)\n",
    "gfg2 = np.random.randn(2, 10)\n",
    "\t\t\n",
    "print(gfg1)\n",
    "print(gfg2)\n",
    "# applying matrix.dot() method\n",
    "geeks = gfg2.dot(gfg1)\n",
    "\n",
    "print(geeks)"
   ]
  },
  {
   "cell_type": "code",
   "execution_count": 100,
   "id": "76a2b212",
   "metadata": {},
   "outputs": [],
   "source": [
    "import numpy as np\n",
    "arrayAwal = np.random.randn(6,6)"
   ]
  },
  {
   "cell_type": "code",
   "execution_count": 101,
   "id": "966830e4",
   "metadata": {},
   "outputs": [],
   "source": [
    "# inputan hasil dari relo, output buat relu juga\n",
    "def backMaxPooling(flat, array_awal, stride, pool_size):\n",
    "    \n",
    "    arr = np.array(array_awal)\n",
    "#     print(arr)\n",
    "    w, h = arr.shape\n",
    "    new_array = []\n",
    "    output =[]\n",
    "    for m in flat :\n",
    "        for i in np.arange(w, step= stride):\n",
    "            for j in np.arange(h, step = stride):\n",
    "                mat = arr[i:i+pool_size, j:j+pool_size]\n",
    "    #             print(mat)\n",
    "                if mat.shape == (pool_size, pool_size):\n",
    "                    valueMax = np.max(mat)\n",
    "                    for k in range(mat.shape[0]):\n",
    "                        for l in range(mat.shape[0]):\n",
    "                            if mat[k,l] != valueMax :\n",
    "                                mat[k,l] = 0\n",
    "                            elif mat[k,l] == valueMax :\n",
    "                                mat[k,l] = m\n",
    "                            else :\n",
    "                                mat[k,l] = 0\n",
    "\n",
    "\n",
    "    return arr"
   ]
  },
  {
   "cell_type": "code",
   "execution_count": 102,
   "id": "c2b05b62",
   "metadata": {},
   "outputs": [
    {
     "name": "stdout",
     "output_type": "stream",
     "text": [
      "[[-0.19568874  0.95310724  0.22071747 -0.43131386 -1.42673229 -1.21704204]\n",
      " [-0.80036028  1.37505882  0.36984388  0.00790432  0.31147456 -0.38089945]\n",
      " [ 2.65912976 -0.75019411 -0.10822537 -0.26768835  0.55969894 -0.03191257]\n",
      " [-1.20766889  0.64156878 -0.80462335 -0.74548467 -0.37978044  0.61005311]\n",
      " [ 0.48972387  0.0898545  -0.04601677  0.44570231 -0.38527174  1.47893288]\n",
      " [-1.3833873  -1.38276075 -0.95252914  1.06992124  0.84737873 -0.94970149]]\n"
     ]
    }
   ],
   "source": [
    "print(arrayAwal)"
   ]
  },
  {
   "cell_type": "code",
   "execution_count": 104,
   "id": "f875684a",
   "metadata": {},
   "outputs": [
    {
     "data": {
      "text/plain": [
       "array([-2.82675163, -1.20542614, -0.80756676, -1.82597792,  0.68116486,\n",
       "       -0.13489727, -0.16666293,  0.43597086,  1.62903593])"
      ]
     },
     "execution_count": 104,
     "metadata": {},
     "output_type": "execute_result"
    }
   ],
   "source": [
    "flatt = np.random.randn(9)\n",
    "flatt"
   ]
  },
  {
   "cell_type": "code",
   "execution_count": 105,
   "id": "7129a5b3",
   "metadata": {},
   "outputs": [
    {
     "name": "stdout",
     "output_type": "stream",
     "text": [
      "(6, 6)\n"
     ]
    },
    {
     "data": {
      "text/plain": [
       "array([[0.        , 0.        , 0.        , 0.        , 0.        ,\n",
       "        0.        ],\n",
       "       [0.        , 1.62903593, 1.62903593, 0.        , 1.62903593,\n",
       "        0.        ],\n",
       "       [1.62903593, 0.        , 1.62903593, 0.        , 0.        ,\n",
       "        0.        ],\n",
       "       [0.        , 0.        , 0.        , 0.        , 0.        ,\n",
       "        1.62903593],\n",
       "       [1.62903593, 0.        , 0.        , 0.        , 0.        ,\n",
       "        1.62903593],\n",
       "       [0.        , 0.        , 0.        , 1.62903593, 0.        ,\n",
       "        0.        ]])"
      ]
     },
     "execution_count": 105,
     "metadata": {},
     "output_type": "execute_result"
    }
   ],
   "source": [
    "back =backMaxPooling(flatt, arrayAwal, 2, 2)\n",
    "print(back.shape)\n",
    "back"
   ]
  },
  {
   "cell_type": "code",
   "execution_count": 106,
   "id": "48df686e",
   "metadata": {},
   "outputs": [],
   "source": [
    "for k in flatt : \n",
    "    for i in range(back.shape[0]):\n",
    "        for j in range(back.shape[0]):\n",
    "            if back[i,j] == 1 :\n",
    "                back[i,j] = k\n"
   ]
  },
  {
   "cell_type": "code",
   "execution_count": 107,
   "id": "27d8aac6",
   "metadata": {},
   "outputs": [],
   "source": [
    "def maxPooling(arr, stride=int, pool_size=int):\n",
    "    arr = np.array(arr)\n",
    "#     print(arr)\n",
    "    w, h = arr.shape\n",
    "    new_array = []\n",
    "    output =[]\n",
    "    for i in np.arange(w, step= stride):\n",
    "        for j in np.arange(h, step = stride):\n",
    "            mat = arr[i:i+pool_size, j:j+pool_size]\n",
    "            if mat.shape == (pool_size, pool_size):\n",
    "                new_array.append(mat)\n",
    "    new_array = np.array(new_array)\n",
    "#     print(new_array)\n",
    "    output_pooling_shape = (int(np.sqrt(new_array.shape[0])), int(np.sqrt(new_array.shape[0])))\n",
    "    for pool in new_array :\n",
    "        output.append(np.max(pool))\n",
    "#     print(np.array(output).reshape(output_pooling_shape).shape)\n",
    "    return np.array(output).reshape(output_pooling_shape)\n"
   ]
  },
  {
   "cell_type": "code",
   "execution_count": 108,
   "id": "26582551",
   "metadata": {},
   "outputs": [
    {
     "data": {
      "text/plain": [
       "array([[0.        , 0.        , 0.        , 0.        , 0.        ,\n",
       "        0.        ],\n",
       "       [0.        , 1.62903593, 1.62903593, 0.        , 1.62903593,\n",
       "        0.        ],\n",
       "       [1.62903593, 0.        , 1.62903593, 0.        , 0.        ,\n",
       "        0.        ],\n",
       "       [0.        , 0.        , 0.        , 0.        , 0.        ,\n",
       "        1.62903593],\n",
       "       [1.62903593, 0.        , 0.        , 0.        , 0.        ,\n",
       "        1.62903593],\n",
       "       [0.        , 0.        , 0.        , 1.62903593, 0.        ,\n",
       "        0.        ]])"
      ]
     },
     "execution_count": 108,
     "metadata": {},
     "output_type": "execute_result"
    }
   ],
   "source": [
    "back"
   ]
  },
  {
   "cell_type": "code",
   "execution_count": 109,
   "id": "4d7b9440",
   "metadata": {},
   "outputs": [
    {
     "data": {
      "text/plain": [
       "array([[ 1.37505882,  0.36984388,  0.31147456],\n",
       "       [ 2.65912976, -0.10822537,  0.61005311],\n",
       "       [ 0.48972387,  1.06992124,  1.47893288]])"
      ]
     },
     "execution_count": 109,
     "metadata": {},
     "output_type": "execute_result"
    }
   ],
   "source": [
    "maxPooling(arrayAwal, stride=2, pool_size=2)"
   ]
  },
  {
   "cell_type": "code",
   "execution_count": null,
   "id": "b9dcd3b0",
   "metadata": {},
   "outputs": [],
   "source": [
    "flattten = np.random.randn(20)\n",
    "flatten\n"
   ]
  },
  {
   "cell_type": "code",
   "execution_count": null,
   "id": "c1c9ef80",
   "metadata": {},
   "outputs": [],
   "source": [
    "weigth = np.random.randn(20)\n",
    "weigth"
   ]
  },
  {
   "cell_type": "code",
   "execution_count": null,
   "id": "afa59726",
   "metadata": {},
   "outputs": [],
   "source": [
    "withat = flattten[np.newaxis].T  @weigth[np.newaxis]\n",
    "withat"
   ]
  },
  {
   "cell_type": "code",
   "execution_count": null,
   "id": "8ef0572d",
   "metadata": {},
   "outputs": [],
   "source": [
    "withmatmul = np.matmul(flattten[np.newaxis].T,weigth[np.newaxis] )\n",
    "withmatmul"
   ]
  },
  {
   "cell_type": "code",
   "execution_count": null,
   "id": "d9fa629c",
   "metadata": {
    "scrolled": true
   },
   "outputs": [],
   "source": [
    "withmatmul.shape"
   ]
  },
  {
   "cell_type": "code",
   "execution_count": null,
   "id": "d6a38bd9",
   "metadata": {},
   "outputs": [],
   "source": [
    "weight= np.random.randn(50, 169) - 0.5"
   ]
  },
  {
   "cell_type": "code",
   "execution_count": null,
   "id": "f564359d",
   "metadata": {
    "scrolled": false
   },
   "outputs": [],
   "source": [
    "weight.shape"
   ]
  },
  {
   "cell_type": "code",
   "execution_count": null,
   "id": "564847e1",
   "metadata": {},
   "outputs": [],
   "source": [
    "flatten = np.random.randn(169)"
   ]
  },
  {
   "cell_type": "code",
   "execution_count": null,
   "id": "ec3e925a",
   "metadata": {},
   "outputs": [],
   "source": [
    "weight.dot(flatten)"
   ]
  },
  {
   "cell_type": "code",
   "execution_count": null,
   "id": "46ddaf40",
   "metadata": {},
   "outputs": [],
   "source": []
  }
 ],
 "metadata": {
  "kernelspec": {
   "display_name": "Python 3 (ipykernel)",
   "language": "python",
   "name": "python3"
  },
  "language_info": {
   "codemirror_mode": {
    "name": "ipython",
    "version": 3
   },
   "file_extension": ".py",
   "mimetype": "text/x-python",
   "name": "python",
   "nbconvert_exporter": "python",
   "pygments_lexer": "ipython3",
   "version": "3.10.6"
  }
 },
 "nbformat": 4,
 "nbformat_minor": 5
}
