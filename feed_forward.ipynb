{
 "cells": [
  {
   "cell_type": "code",
   "execution_count": 1,
   "id": "001290a8",
   "metadata": {},
   "outputs": [],
   "source": [
    "import numpy as np"
   ]
  },
  {
   "cell_type": "code",
   "execution_count": 2,
   "id": "e1a5ab75",
   "metadata": {},
   "outputs": [
    {
     "name": "stdout",
     "output_type": "stream",
     "text": [
      "The Zen of Python, by Tim Peters\n",
      "\n",
      "Beautiful is better than ugly.\n",
      "Explicit is better than implicit.\n",
      "Simple is better than complex.\n",
      "Complex is better than complicated.\n",
      "Flat is better than nested.\n",
      "Sparse is better than dense.\n",
      "Readability counts.\n",
      "Special cases aren't special enough to break the rules.\n",
      "Although practicality beats purity.\n",
      "Errors should never pass silently.\n",
      "Unless explicitly silenced.\n",
      "In the face of ambiguity, refuse the temptation to guess.\n",
      "There should be one-- and preferably only one --obvious way to do it.\n",
      "Although that way may not be obvious at first unless you're Dutch.\n",
      "Now is better than never.\n",
      "Although never is often better than *right* now.\n",
      "If the implementation is hard to explain, it's a bad idea.\n",
      "If the implementation is easy to explain, it may be a good idea.\n",
      "Namespaces are one honking great idea -- let's do more of those!\n",
      "test size 264\n",
      "train size 2370\n",
      "Contoh X_train = [[[255 255 255 ... 255 255 255]\n",
      "  [255 255 255 ... 255 255 255]\n",
      "  [255 255 255 ... 255 255 255]\n",
      "  ...\n",
      "  [255 255 255 ... 255 255 255]\n",
      "  [255 255 255 ... 255 255 255]\n",
      "  [255 255 255 ... 255 255 255]]\n",
      "\n",
      " [[255 255 255 ... 255 255 255]\n",
      "  [255 255 255 ... 255 255 255]\n",
      "  [255 255 255 ... 255 255 255]\n",
      "  ...\n",
      "  [255 255 255 ... 255 255 255]\n",
      "  [255 255 255 ... 255 255 255]\n",
      "  [255 255 255 ... 255 255 255]]\n",
      "\n",
      " [[255 255 255 ... 255 255 255]\n",
      "  [255 255 255 ... 255 255 255]\n",
      "  [255 255 255 ... 255 255 255]\n",
      "  ...\n",
      "  [255 255 255 ... 255 255 255]\n",
      "  [255 255 255 ... 255 255 255]\n",
      "  [255 255 255 ... 255 255 255]]\n",
      "\n",
      " ...\n",
      "\n",
      " [[255 255 255 ... 255 255 255]\n",
      "  [255 255 255 ... 255 255 255]\n",
      "  [255 255 255 ... 255 255 255]\n",
      "  ...\n",
      "  [255 255 255 ... 255 255 255]\n",
      "  [255 255 255 ... 255 255 255]\n",
      "  [255 255 255 ... 255 255 255]]\n",
      "\n",
      " [[255 255 255 ... 255 255 255]\n",
      "  [255 255 255 ... 255 255 255]\n",
      "  [255 255 255 ... 255 255 255]\n",
      "  ...\n",
      "  [255 255 255 ... 255 255 255]\n",
      "  [255 255 255 ... 255 255 255]\n",
      "  [255 255 255 ... 255 255 255]]\n",
      "\n",
      " [[255 255 255 ... 255 255 255]\n",
      "  [255 255 255 ... 255 255 255]\n",
      "  [255 255 255 ... 255 255 255]\n",
      "  ...\n",
      "  [255 255 255 ... 255 255 255]\n",
      "  [255 255 255 ... 255 255 255]\n",
      "  [255 255 255 ... 255 255 255]]]\n",
      "(2370, 28, 28)\n",
      "Contoh data images \n",
      " 9\n",
      "2\n",
      "(2370, 28, 28)\n"
     ]
    },
    {
     "data": {
      "text/plain": [
       "(2370,)"
      ]
     },
     "execution_count": 2,
     "metadata": {},
     "output_type": "execute_result"
    },
    {
     "data": {
      "image/png": "[encoded data removed]",
      "text/plain": [
       "<Figure size 640x480 with 1 Axes>"
      ]
     },
     "metadata": {},
     "output_type": "display_data"
    }
   ],
   "source": [
    "import load_gambar\n",
    "train_images = load_gambar.X_data_train\n",
    "print(train_images.shape)\n",
    "train_label = np.array(load_gambar.Y_label)\n",
    "train_label.shape"
   ]
  },
  {
   "cell_type": "code",
   "execution_count": 3,
   "id": "1b86d917",
   "metadata": {},
   "outputs": [],
   "source": [
    "def outputShape(imgSize, kernelSize):\n",
    "    numPixcel = 0\n",
    "    for i in range(imgSize):\n",
    "        added = i + kernelSize\n",
    "        if added <= imgSize:\n",
    "            numPixcel += 1\n",
    "    return numPixcel\n",
    "# outputShape(w, n)    "
   ]
  },
  {
   "cell_type": "code",
   "execution_count": 4,
   "id": "2d46c552",
   "metadata": {},
   "outputs": [],
   "source": [
    "# Digunakan ketika ingin same padding \n",
    "# jadi misalnya menggunakan kernel 3 bisa di tambahin add_padng sebelum melakukan konv\n",
    "def add_padding_with_kernel_size (kernel_size) :\n",
    "    return kernel_size // 2\n",
    "\n",
    "def add_image_with_padding (img, padding):\n",
    "    img_with_padding = np.zeros(shape=(\n",
    "        img.shape[0] + padding * 2,  # Multiply with two because we need padding on all sides\n",
    "        img.shape[1] + padding * 2\n",
    "    ))\n",
    "    \n",
    "    img_with_padding[padding:-padding, padding:-padding] = img\n",
    "    \n",
    "    return img_with_padding"
   ]
  },
  {
   "cell_type": "code",
   "execution_count": 5,
   "id": "1c29d466",
   "metadata": {},
   "outputs": [],
   "source": [
    "def convolusi(img= np.array, kernel= int, padding= \"\"):\n",
    "    filter = np.random.randn(kernel, kernel) / 9\n",
    "    h, w = img.shape\n",
    "    if padding == \"Same\" :\n",
    "        add_padding_width = kernel//2\n",
    "        img_with_padding = np.zeros(shape = (h + add_padding_width * 2, w + add_padding_width * 2))\n",
    "        img_with_padding[add_padding_width:-add_padding_width, add_padding_width:-add_padding_width] = img\n",
    "        img = img_with_padding\n",
    "#         print(img)\n",
    "    else :\n",
    "        img = img\n",
    "        \n",
    "    target = outputShape(img.shape[0], kernel)\n",
    "    output = np.zeros(shape=(target, target))\n",
    "    for i in range(target):\n",
    "        for j in range(target):\n",
    "            mat = img[i:i+kernel, j:j+kernel]\n",
    "            output[i,j] = np.sum(np.multiply(mat, filter))\n",
    "#     print(output.shape)\n",
    "    return output\n"
   ]
  },
  {
   "cell_type": "code",
   "execution_count": 6,
   "id": "d1ea6229",
   "metadata": {},
   "outputs": [],
   "source": [
    "def reLu(img):\n",
    "    length_row, length_column = img.shape\n",
    "    for row in range(length_row):\n",
    "        for column in range(length_column):\n",
    "            if img[row, column] < 0:\n",
    "                img[row, column] = 0\n",
    "#     print(img.shape)\n",
    "    return img"
   ]
  },
  {
   "cell_type": "code",
   "execution_count": 7,
   "id": "fc60ec65",
   "metadata": {},
   "outputs": [],
   "source": [
    "def maxPooling(arr, stride=int, pool_size=int):\n",
    "    arr = np.array(arr)\n",
    "#     print(arr)\n",
    "    w, h = arr.shape\n",
    "    new_array = []\n",
    "    output =[]\n",
    "    for i in np.arange(w, step= stride):\n",
    "        for j in np.arange(h, step = stride):\n",
    "            mat = arr[i:i+pool_size, j:j+pool_size]\n",
    "            if mat.shape == (pool_size, pool_size):\n",
    "                new_array.append(mat)\n",
    "    new_array = np.array(new_array)\n",
    "#     print(new_array)\n",
    "    output_pooling_shape = (int(np.sqrt(new_array.shape[0])), int(np.sqrt(new_array.shape[0])))\n",
    "    for pool in new_array :\n",
    "        output.append(np.max(pool))\n",
    "#     print(np.array(output).reshape(output_pooling_shape).shape)\n",
    "    return np.array(output).reshape(output_pooling_shape)\n"
   ]
  },
  {
   "cell_type": "code",
   "execution_count": 8,
   "id": "657d6f74",
   "metadata": {},
   "outputs": [],
   "source": [
    "def flat(arr):\n",
    "    array_flattern = arr.flatten()\n",
    "#     print (array_flattern.shape)\n",
    "    return np.array(array_flattern)\n",
    "\n",
    "def hidden_layer(arr) :\n",
    "    biases = 1\n",
    "    output=[]\n",
    "    arr = np.array(arr)\n",
    "#     print(arr.shape)\n",
    "    weights = np.random.randn(20, arr.shape[0]) - 0.5\n",
    "    totals = weights.dot(arr) + 1\n",
    "#     for i in range(weights.shape[0]) :\n",
    "#         output.append(weights[i]*arr[i] )\n",
    "#     totals = np.array(output).reshape(arr.shape)\n",
    "#     print(totals)\n",
    "    return totals\n",
    "\n",
    "def softmax(totals):\n",
    "    return np.exp(totals) / sum(np.exp(totals))\n",
    "#     exp = np.exp(totals)\n",
    "#     output = exp / np.sum(exp, axis=0)\n",
    "#     return output\n",
    "\n"
   ]
  },
  {
   "cell_type": "code",
   "execution_count": 9,
   "id": "d44c7b06",
   "metadata": {},
   "outputs": [],
   "source": [
    "def feed_forward (image, label):\n",
    "    conv1 = convolusi((image/ 255) - 0.5, 3, \"no\")\n",
    "#     print(\"conv1 done\")\n",
    "    reLuu = reLu(conv1)\n",
    "#     print(\"reluu done\")\n",
    "    maxPool = maxPooling(reLuu,2,2)\n",
    "#     print(\"maxpoll done\")\n",
    "    flattening = flat(maxPool)\n",
    "#     print(\"flatdone\")\n",
    "#     sofmax buat def baru dah\n",
    "    fc1 = hidden_layer(flattening)\n",
    "    out = softmax(fc1)\n",
    "#     print(\"softmax done\")\n",
    "    prediction = np.argmax(out, 0)\n",
    "    acc = np.sum(prediction == label) / label.size\n",
    "    # Calculate cross-entropy loss and accuracy. np.log() is the natural log.\n",
    "#     loss = -np.log(fc1[label])\n",
    "#     acc = 1 if np.argmax(out) == label else 0\n",
    "#     print(acc)\n",
    "    return acc\n",
    "    \n",
    "    \n",
    "    "
   ]
  },
  {
   "cell_type": "code",
   "execution_count": 11,
   "id": "3fa8b4d8",
   "metadata": {},
   "outputs": [],
   "source": [
    "def feed2 (image, label):\n",
    "    conv1 = convolusi((image/ 255) - 0.5, 3, \"no\")\n",
    "#     print(\"conv1 done\")\n",
    "    reLuu = reLu(conv1)\n",
    "#     print(\"reluu done\")\n",
    "    maxPool = maxPooling(reLuu,2,2)\n",
    "#     print(\"maxpoll done\")\n",
    "    conv2 = convolusi(maxPool, 3, \"Same\")\n",
    "#     print(\"conv2 done\")\n",
    "    reLuu2 = reLu(conv2)\n",
    "#     print(\"reluu2 done\")\n",
    "    maxPool2 = maxPooling(reLuu2,2,2)\n",
    "#     print(\"maxpoll2 done\")\n",
    "    flattening = flat(maxPool2)\n",
    "#     print(\"flatdone\")\n",
    "#     sofmax buat def baru dah\n",
    "    fc1 = hidden_layer(flattening)\n",
    "    out = softmax(fc1)\n",
    "    loss = -np.log(out[label])\n",
    "\n",
    "\n",
    "#     print(\"softmax done\")\n",
    "    prediction = np.argmax(out, 0)\n",
    "    acc = np.sum(prediction == label) / label.size\n",
    "#     Calculate cross-entropy loss and accuracy. np.log() is the natural log.\n",
    "    acc = 1 if np.argmax(out) == label else 0\n",
    "#     print(acc)\n",
    "    return acc, loss"
   ]
  },
  {
   "cell_type": "code",
   "execution_count": null,
   "id": "f0944e10",
   "metadata": {},
   "outputs": [],
   "source": [
    "loss = 0\n",
    "num_correct = 0\n",
    "for i, (im, label) in enumerate(zip(train_images, train_label)):\n",
    "  # Do a forward pass.\n",
    "  acc, l = feed2(im, label)\n",
    "  loss += l\n",
    "  num_correct += acc\n",
    "\n",
    "  # Print stats every 100 steps.\n",
    "  if i % 100 == 99:\n",
    "    print(\n",
    "      '[Step %d] Past 100 steps: Average Loss %.3f | Accuracy: %d%%' %\n",
    "      (i + 1, num_correct)\n",
    "    )\n",
    "    loss = 0\n",
    "    num_correct = 0"
   ]
  },
  {
   "cell_type": "code",
   "execution_count": 13,
   "id": "106448ae",
   "metadata": {},
   "outputs": [
    {
     "name": "stdout",
     "output_type": "stream",
     "text": [
      "Train Loss: 3.016070920082713\n",
      "Train Accuracy: 0.05822784810126582\n",
      "prediksi train:  []\n"
     ]
    }
   ],
   "source": [
    "loss = 0\n",
    "num_correct = 0\n",
    "prediksi_train = []\n",
    "for im, label in zip(train_images, train_label):\n",
    "  acc, l = feed2(im, label)\n",
    "  loss += l\n",
    "  num_correct += acc\n",
    "num_tests = len(train_images)\n",
    "print('Train Loss:', loss / num_tests)\n",
    "print('Train Accuracy:', num_correct / num_tests)\n",
    "print(\"prediksi train: \", prediksi_train)\n",
    "\n"
   ]
  },
  {
   "cell_type": "code",
   "execution_count": null,
   "id": "7710e3c1",
   "metadata": {},
   "outputs": [],
   "source": []
  }
 ],
 "metadata": {
  "kernelspec": {
   "display_name": "Python 3 (ipykernel)",
   "language": "python",
   "name": "python3"
  },
  "language_info": {
   "codemirror_mode": {
    "name": "ipython",
    "version": 3
   },
   "file_extension": ".py",
   "mimetype": "text/x-python",
   "name": "python",
   "nbconvert_exporter": "python",
   "pygments_lexer": "ipython3",
   "version": "3.10.6"
  }
 },
 "nbformat": 4,
 "nbformat_minor": 5
}
